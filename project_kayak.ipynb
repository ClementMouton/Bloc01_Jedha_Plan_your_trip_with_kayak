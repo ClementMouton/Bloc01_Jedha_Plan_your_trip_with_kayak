{
 "cells": [
  {
   "cell_type": "code",
   "execution_count": 4,
   "metadata": {},
   "outputs": [],
   "source": [
    "from datetime import datetime, date, timedelta\n",
    "import calendar\n",
    "import os\n",
    "import logging\n",
    "import scrapy\n",
    "from scrapy.crawler import CrawlerProcess\n",
    "\n",
    "from bs4 import BeautifulSoup\n",
    "\n",
    "import requests\n",
    "import pandas as pd\n",
    "import numpy as np\n",
    "from statistics import mode\n",
    "import plotly.express as px\n",
    "import plotly.graph_objects as go\n",
    "import time\n",
    "\n",
    "import requests\n",
    "import pandas as pd\n",
    "from bs4 import BeautifulSoup\n",
    "import os\n",
    "import plotly.express as px\n",
    "import plotly.io as pio\n",
    "\n",
    "import boto3\n",
    "from dotenv import load_dotenv\n",
    "from sqlalchemy import create_engine, text"
   ]
  },
  {
   "cell_type": "code",
   "execution_count": 5,
   "metadata": {},
   "outputs": [],
   "source": [
    "cities = ['Mont Saint Michel', 'St Malo', \"Bayeux\", \"Le Havre\", \"Rouen\", \"Paris\", \"Amiens\", \"Lille\", \"Strasbourg\", \"Chateau du Haut Koenigsbourg\", \"Colmar\", \"Eguisheim\", \"Besancon\", \"Dijon\", \"Annecy\", \"Grenoble\", \"Lyon\", \"Gorges du Verdon\", \"Bormes les Mimosas\", \"Cassis\", \"Marseille\", \"Aix en Provence\", \"Avignon\", \"Uzes\", \"Nimes\", \"Aigues Mortes\", \"Saintes Maries de la mer\", \"Collioure\", \"Carcassonne\", \"Ariege\", \"Toulouse\", \"Montauban\", \"Biarritz\", \"Bayonne\", \"La Rochelle\"]"
   ]
  },
  {
   "cell_type": "code",
   "execution_count": 6,
   "metadata": {},
   "outputs": [],
   "source": [
    "# Utilisation de l'API Open Street Map pour récupérer les coordonnées de villes\n",
    "\n",
    "url = \"https://nominatim.openstreetmap.org/search?\"\n",
    "user_agent = \"project_kayak/1.0 (mouton.cl@gmail.com)\"\n",
    "\n",
    "def find_gps(address, format='json'):\n",
    "    params = {\"q\": address, \"format\": format}\n",
    "    headers = {\"User-Agent\": user_agent}\n",
    "    response = requests.get(url, params=params, headers=headers)\n",
    "    \n",
    "    if response.status_code != 200:\n",
    "        print(f\"Erreur: Réponse avec le code de statut {response.status_code} pour l'adresse '{address}'\")\n",
    "        return None\n",
    "    \n",
    "    try:\n",
    "        return response.json()\n",
    "    except ValueError:\n",
    "        print(f\"Erreur: Impossible de parser la réponse JSON pour l'adresse '{address}'\")\n",
    "        print(f\"Contenu de la réponse: {response.text}\")\n",
    "        return None\n",
    "\n",
    "columns = ['id', 'name', 'latitude', 'longitude']\n",
    "data = []\n",
    "\n",
    "for count, city in enumerate(cities):\n",
    "    response = find_gps(address = city)\n",
    "    row =[count, city, response[0]['lat'], response[0]['lon']]\n",
    "    data.append(row)\n",
    "    time.sleep(1)\n",
    "    \n",
    "df_cities = pd.DataFrame(data=data, columns=columns)"
   ]
  },
  {
   "cell_type": "code",
   "execution_count": 7,
   "metadata": {},
   "outputs": [
    {
     "data": {
      "text/html": [
       "<div>\n",
       "<style scoped>\n",
       "    .dataframe tbody tr th:only-of-type {\n",
       "        vertical-align: middle;\n",
       "    }\n",
       "\n",
       "    .dataframe tbody tr th {\n",
       "        vertical-align: top;\n",
       "    }\n",
       "\n",
       "    .dataframe thead th {\n",
       "        text-align: right;\n",
       "    }\n",
       "</style>\n",
       "<table border=\"1\" class=\"dataframe\">\n",
       "  <thead>\n",
       "    <tr style=\"text-align: right;\">\n",
       "      <th></th>\n",
       "      <th>id</th>\n",
       "      <th>name</th>\n",
       "      <th>latitude</th>\n",
       "      <th>longitude</th>\n",
       "    </tr>\n",
       "  </thead>\n",
       "  <tbody>\n",
       "    <tr>\n",
       "      <th>0</th>\n",
       "      <td>0</td>\n",
       "      <td>Mont Saint Michel</td>\n",
       "      <td>48.6359541</td>\n",
       "      <td>-1.511459954959514</td>\n",
       "    </tr>\n",
       "    <tr>\n",
       "      <th>1</th>\n",
       "      <td>1</td>\n",
       "      <td>St Malo</td>\n",
       "      <td>48.649518</td>\n",
       "      <td>-2.0260409</td>\n",
       "    </tr>\n",
       "    <tr>\n",
       "      <th>2</th>\n",
       "      <td>2</td>\n",
       "      <td>Bayeux</td>\n",
       "      <td>49.2764624</td>\n",
       "      <td>-0.7024738</td>\n",
       "    </tr>\n",
       "    <tr>\n",
       "      <th>3</th>\n",
       "      <td>3</td>\n",
       "      <td>Le Havre</td>\n",
       "      <td>49.4938975</td>\n",
       "      <td>0.1079732</td>\n",
       "    </tr>\n",
       "    <tr>\n",
       "      <th>4</th>\n",
       "      <td>4</td>\n",
       "      <td>Rouen</td>\n",
       "      <td>49.4404591</td>\n",
       "      <td>1.0939658</td>\n",
       "    </tr>\n",
       "  </tbody>\n",
       "</table>\n",
       "</div>"
      ],
      "text/plain": [
       "   id               name    latitude           longitude\n",
       "0   0  Mont Saint Michel  48.6359541  -1.511459954959514\n",
       "1   1            St Malo   48.649518          -2.0260409\n",
       "2   2             Bayeux  49.2764624          -0.7024738\n",
       "3   3           Le Havre  49.4938975           0.1079732\n",
       "4   4              Rouen  49.4404591           1.0939658"
      ]
     },
     "metadata": {},
     "output_type": "display_data"
    }
   ],
   "source": [
    "display(df_cities.head())\n",
    "df_cities.to_csv('files/cities_latlong.csv', index=False)"
   ]
  },
  {
   "cell_type": "markdown",
   "metadata": {},
   "source": [
    "# Weather"
   ]
  },
  {
   "cell_type": "code",
   "execution_count": 8,
   "metadata": {},
   "outputs": [],
   "source": [
    "# Charger les variables d'environnement depuis le fichier .env\n",
    "load_dotenv()\n",
    "\n",
    "# Récupérer la clé API\n",
    "api_key = os.getenv('OPENWEATHERMAP_API_KEY')"
   ]
  },
  {
   "cell_type": "code",
   "execution_count": 9,
   "metadata": {},
   "outputs": [
    {
     "name": "stdout",
     "output_type": "stream",
     "text": [
      "{'lat': 48.636, 'lon': -1.5115, 'timezone': 'Europe/Paris', 'timezone_offset': 7200, 'current': {'dt': 1726054396, 'sunrise': 1726033059, 'sunset': 1726079269, 'temp': 15.73, 'feels_like': 15.19, 'pressure': 1015, 'humidity': 70, 'dew_point': 10.28, 'uvi': 2.39, 'clouds': 100, 'visibility': 10000, 'wind_speed': 1.79, 'wind_deg': 343, 'wind_gust': 4.92, 'weather': [{'id': 804, 'main': 'Clouds', 'description': 'overcast clouds', 'icon': '04d'}]}, 'minutely': [{'dt': 1726054440, 'precipitation': 0}, {'dt': 1726054500, 'precipitation': 0}, {'dt': 1726054560, 'precipitation': 0}, {'dt': 1726054620, 'precipitation': 0}, {'dt': 1726054680, 'precipitation': 0}, {'dt': 1726054740, 'precipitation': 0}, {'dt': 1726054800, 'precipitation': 0}, {'dt': 1726054860, 'precipitation': 0}, {'dt': 1726054920, 'precipitation': 0}, {'dt': 1726054980, 'precipitation': 0}, {'dt': 1726055040, 'precipitation': 0}, {'dt': 1726055100, 'precipitation': 0}, {'dt': 1726055160, 'precipitation': 0}, {'dt': 1726055220, 'precipitation': 0}, {'dt': 1726055280, 'precipitation': 0}, {'dt': 1726055340, 'precipitation': 0}, {'dt': 1726055400, 'precipitation': 0}, {'dt': 1726055460, 'precipitation': 0}, {'dt': 1726055520, 'precipitation': 0}, {'dt': 1726055580, 'precipitation': 0}, {'dt': 1726055640, 'precipitation': 0}, {'dt': 1726055700, 'precipitation': 0}, {'dt': 1726055760, 'precipitation': 0}, {'dt': 1726055820, 'precipitation': 0}, {'dt': 1726055880, 'precipitation': 0}, {'dt': 1726055940, 'precipitation': 0}, {'dt': 1726056000, 'precipitation': 0}, {'dt': 1726056060, 'precipitation': 0}, {'dt': 1726056120, 'precipitation': 0}, {'dt': 1726056180, 'precipitation': 0}, {'dt': 1726056240, 'precipitation': 0}, {'dt': 1726056300, 'precipitation': 0}, {'dt': 1726056360, 'precipitation': 0}, {'dt': 1726056420, 'precipitation': 0}, {'dt': 1726056480, 'precipitation': 0}, {'dt': 1726056540, 'precipitation': 0}, {'dt': 1726056600, 'precipitation': 0}, {'dt': 1726056660, 'precipitation': 0}, {'dt': 1726056720, 'precipitation': 0}, {'dt': 1726056780, 'precipitation': 0}, {'dt': 1726056840, 'precipitation': 0}, {'dt': 1726056900, 'precipitation': 0}, {'dt': 1726056960, 'precipitation': 0}, {'dt': 1726057020, 'precipitation': 0}, {'dt': 1726057080, 'precipitation': 0}, {'dt': 1726057140, 'precipitation': 0}, {'dt': 1726057200, 'precipitation': 0}, {'dt': 1726057260, 'precipitation': 0}, {'dt': 1726057320, 'precipitation': 0}, {'dt': 1726057380, 'precipitation': 0}, {'dt': 1726057440, 'precipitation': 0}, {'dt': 1726057500, 'precipitation': 0}, {'dt': 1726057560, 'precipitation': 0}, {'dt': 1726057620, 'precipitation': 0}, {'dt': 1726057680, 'precipitation': 0}, {'dt': 1726057740, 'precipitation': 0}, {'dt': 1726057800, 'precipitation': 0}, {'dt': 1726057860, 'precipitation': 0}, {'dt': 1726057920, 'precipitation': 0}, {'dt': 1726057980, 'precipitation': 0}], 'hourly': [{'dt': 1726052400, 'temp': 15.54, 'feels_like': 14.93, 'pressure': 1015, 'humidity': 68, 'dew_point': 9.66, 'uvi': 1.61, 'clouds': 100, 'visibility': 10000, 'wind_speed': 6.87, 'wind_deg': 319, 'wind_gust': 8.57, 'weather': [{'id': 804, 'main': 'Clouds', 'description': 'overcast clouds', 'icon': '04d'}], 'pop': 0.09}, {'dt': 1726056000, 'temp': 15.73, 'feels_like': 15.19, 'pressure': 1015, 'humidity': 70, 'dew_point': 10.28, 'uvi': 2.39, 'clouds': 100, 'visibility': 10000, 'wind_speed': 6.38, 'wind_deg': 319, 'wind_gust': 8.74, 'weather': [{'id': 804, 'main': 'Clouds', 'description': 'overcast clouds', 'icon': '04d'}], 'pop': 0}, {'dt': 1726059600, 'temp': 15.58, 'feels_like': 14.97, 'pressure': 1015, 'humidity': 68, 'dew_point': 9.7, 'uvi': 2.22, 'clouds': 100, 'visibility': 10000, 'wind_speed': 6.78, 'wind_deg': 313, 'wind_gust': 8.61, 'weather': [{'id': 500, 'main': 'Rain', 'description': 'light rain', 'icon': '10d'}], 'pop': 0.2, 'rain': {'1h': 0.49}}, {'dt': 1726063200, 'temp': 15.59, 'feels_like': 14.9, 'pressure': 1015, 'humidity': 65, 'dew_point': 9.04, 'uvi': 2.24, 'clouds': 99, 'visibility': 10000, 'wind_speed': 7.36, 'wind_deg': 310, 'wind_gust': 8.91, 'weather': [{'id': 500, 'main': 'Rain', 'description': 'light rain', 'icon': '10d'}], 'pop': 0.2, 'rain': {'1h': 0.14}}, {'dt': 1726066800, 'temp': 15.17, 'feels_like': 14.49, 'pressure': 1015, 'humidity': 67, 'dew_point': 9.09, 'uvi': 0.81, 'clouds': 99, 'visibility': 10000, 'wind_speed': 6.22, 'wind_deg': 308, 'wind_gust': 8.58, 'weather': [{'id': 500, 'main': 'Rain', 'description': 'light rain', 'icon': '10d'}], 'pop': 0.2, 'rain': {'1h': 0.11}}, {'dt': 1726070400, 'temp': 14.73, 'feels_like': 13.93, 'pressure': 1015, 'humidity': 64, 'dew_point': 8, 'uvi': 0.56, 'clouds': 100, 'visibility': 10000, 'wind_speed': 6.51, 'wind_deg': 306, 'wind_gust': 8.93, 'weather': [{'id': 500, 'main': 'Rain', 'description': 'light rain', 'icon': '10d'}], 'pop': 0.54, 'rain': {'1h': 0.14}}, {'dt': 1726074000, 'temp': 14.08, 'feels_like': 13.16, 'pressure': 1015, 'humidity': 62, 'dew_point': 6.87, 'uvi': 0.14, 'clouds': 100, 'visibility': 10000, 'wind_speed': 6.6, 'wind_deg': 305, 'wind_gust': 9.32, 'weather': [{'id': 804, 'main': 'Clouds', 'description': 'overcast clouds', 'icon': '04d'}], 'pop': 0.4}, {'dt': 1726077600, 'temp': 13.53, 'feels_like': 12.69, 'pressure': 1015, 'humidity': 67, 'dew_point': 7.37, 'uvi': 0, 'clouds': 100, 'visibility': 10000, 'wind_speed': 6.14, 'wind_deg': 312, 'wind_gust': 9.42, 'weather': [{'id': 500, 'main': 'Rain', 'description': 'light rain', 'icon': '10d'}], 'pop': 0.75, 'rain': {'1h': 0.17}}, {'dt': 1726081200, 'temp': 13.37, 'feels_like': 12.43, 'pressure': 1016, 'humidity': 64, 'dew_point': 6.52, 'uvi': 0, 'clouds': 100, 'visibility': 10000, 'wind_speed': 5.85, 'wind_deg': 313, 'wind_gust': 9.05, 'weather': [{'id': 500, 'main': 'Rain', 'description': 'light rain', 'icon': '10n'}], 'pop': 0.64, 'rain': {'1h': 0.13}}, {'dt': 1726084800, 'temp': 13.66, 'feels_like': 12.57, 'pressure': 1016, 'humidity': 57, 'dew_point': 5.01, 'uvi': 0, 'clouds': 100, 'visibility': 10000, 'wind_speed': 5.3, 'wind_deg': 312, 'wind_gust': 8.29, 'weather': [{'id': 804, 'main': 'Clouds', 'description': 'overcast clouds', 'icon': '04n'}], 'pop': 0.15}, {'dt': 1726088400, 'temp': 13.44, 'feels_like': 12.43, 'pressure': 1016, 'humidity': 61, 'dew_point': 5.82, 'uvi': 0, 'clouds': 99, 'visibility': 10000, 'wind_speed': 5.21, 'wind_deg': 315, 'wind_gust': 8.03, 'weather': [{'id': 804, 'main': 'Clouds', 'description': 'overcast clouds', 'icon': '04n'}], 'pop': 0.01}, {'dt': 1726092000, 'temp': 13.12, 'feels_like': 12.16, 'pressure': 1016, 'humidity': 64, 'dew_point': 6.21, 'uvi': 0, 'clouds': 100, 'visibility': 10000, 'wind_speed': 4.75, 'wind_deg': 316, 'wind_gust': 7.88, 'weather': [{'id': 500, 'main': 'Rain', 'description': 'light rain', 'icon': '10n'}], 'pop': 0.2, 'rain': {'1h': 0.1}}, {'dt': 1726095600, 'temp': 12.47, 'feels_like': 11.42, 'pressure': 1016, 'humidity': 63, 'dew_point': 5.34, 'uvi': 0, 'clouds': 99, 'visibility': 10000, 'wind_speed': 3.75, 'wind_deg': 313, 'wind_gust': 5.71, 'weather': [{'id': 804, 'main': 'Clouds', 'description': 'overcast clouds', 'icon': '04n'}], 'pop': 0}, {'dt': 1726099200, 'temp': 12.8, 'feels_like': 11.73, 'pressure': 1016, 'humidity': 61, 'dew_point': 5.2, 'uvi': 0, 'clouds': 100, 'visibility': 10000, 'wind_speed': 3.7, 'wind_deg': 327, 'wind_gust': 6.61, 'weather': [{'id': 804, 'main': 'Clouds', 'description': 'overcast clouds', 'icon': '04n'}], 'pop': 0}, {'dt': 1726102800, 'temp': 12.08, 'feels_like': 11.09, 'pressure': 1016, 'humidity': 67, 'dew_point': 6, 'uvi': 0, 'clouds': 87, 'visibility': 10000, 'wind_speed': 2.9, 'wind_deg': 343, 'wind_gust': 6.18, 'weather': [{'id': 804, 'main': 'Clouds', 'description': 'overcast clouds', 'icon': '04n'}], 'pop': 0.25}, {'dt': 1726106400, 'temp': 11.34, 'feels_like': 10.46, 'pressure': 1016, 'humidity': 74, 'dew_point': 6.64, 'uvi': 0, 'clouds': 92, 'visibility': 10000, 'wind_speed': 2.82, 'wind_deg': 346, 'wind_gust': 4.64, 'weather': [{'id': 500, 'main': 'Rain', 'description': 'light rain', 'icon': '10n'}], 'pop': 0.83, 'rain': {'1h': 0.26}}, {'dt': 1726110000, 'temp': 10.69, 'feels_like': 9.93, 'pressure': 1016, 'humidity': 81, 'dew_point': 7.34, 'uvi': 0, 'clouds': 92, 'visibility': 10000, 'wind_speed': 2.76, 'wind_deg': 343, 'wind_gust': 4.54, 'weather': [{'id': 500, 'main': 'Rain', 'description': 'light rain', 'icon': '10n'}], 'pop': 1, 'rain': {'1h': 0.41}}, {'dt': 1726113600, 'temp': 10.3, 'feels_like': 9.58, 'pressure': 1016, 'humidity': 84, 'dew_point': 7.42, 'uvi': 0, 'clouds': 90, 'visibility': 10000, 'wind_speed': 2.18, 'wind_deg': 346, 'wind_gust': 3.88, 'weather': [{'id': 500, 'main': 'Rain', 'description': 'light rain', 'icon': '10n'}], 'pop': 1, 'rain': {'1h': 0.4}}, {'dt': 1726117200, 'temp': 9.68, 'feels_like': 9.68, 'pressure': 1017, 'humidity': 85, 'dew_point': 6.99, 'uvi': 0, 'clouds': 86, 'visibility': 10000, 'wind_speed': 0.93, 'wind_deg': 9, 'wind_gust': 2.8, 'weather': [{'id': 500, 'main': 'Rain', 'description': 'light rain', 'icon': '10n'}], 'pop': 1, 'rain': {'1h': 0.23}}, {'dt': 1726120800, 'temp': 9.17, 'feels_like': 9.17, 'pressure': 1017, 'humidity': 86, 'dew_point': 6.77, 'uvi': 0, 'clouds': 79, 'visibility': 10000, 'wind_speed': 0.2, 'wind_deg': 20, 'wind_gust': 2.29, 'weather': [{'id': 500, 'main': 'Rain', 'description': 'light rain', 'icon': '10d'}], 'pop': 1, 'rain': {'1h': 0.22}}, {'dt': 1726124400, 'temp': 10.51, 'feels_like': 9.84, 'pressure': 1018, 'humidity': 85, 'dew_point': 7.89, 'uvi': 0.26, 'clouds': 41, 'visibility': 10000, 'wind_speed': 0.25, 'wind_deg': 37, 'wind_gust': 2.4, 'weather': [{'id': 500, 'main': 'Rain', 'description': 'light rain', 'icon': '10d'}], 'pop': 0.82, 'rain': {'1h': 0.2}}, {'dt': 1726128000, 'temp': 12.28, 'feels_like': 11.6, 'pressure': 1018, 'humidity': 78, 'dew_point': 8.3, 'uvi': 0.82, 'clouds': 54, 'visibility': 10000, 'wind_speed': 2.08, 'wind_deg': 1, 'wind_gust': 5.15, 'weather': [{'id': 500, 'main': 'Rain', 'description': 'light rain', 'icon': '10d'}], 'pop': 0.92, 'rain': {'1h': 0.26}}, {'dt': 1726131600, 'temp': 13.5, 'feels_like': 12.76, 'pressure': 1018, 'humidity': 71, 'dew_point': 8.1, 'uvi': 1.71, 'clouds': 48, 'visibility': 10000, 'wind_speed': 3.87, 'wind_deg': 353, 'wind_gust': 6.08, 'weather': [{'id': 500, 'main': 'Rain', 'description': 'light rain', 'icon': '10d'}], 'pop': 1, 'rain': {'1h': 0.29}}, {'dt': 1726135200, 'temp': 14.31, 'feels_like': 13.44, 'pressure': 1019, 'humidity': 63, 'dew_point': 7.37, 'uvi': 2.76, 'clouds': 38, 'visibility': 10000, 'wind_speed': 5.38, 'wind_deg': 343, 'wind_gust': 7.51, 'weather': [{'id': 500, 'main': 'Rain', 'description': 'light rain', 'icon': '10d'}], 'pop': 1, 'rain': {'1h': 0.15}}, {'dt': 1726138800, 'temp': 15, 'feels_like': 14.07, 'pressure': 1019, 'humidity': 58, 'dew_point': 6.62, 'uvi': 3.58, 'clouds': 33, 'visibility': 10000, 'wind_speed': 7.25, 'wind_deg': 331, 'wind_gust': 8.34, 'weather': [{'id': 500, 'main': 'Rain', 'description': 'light rain', 'icon': '10d'}], 'pop': 1, 'rain': {'1h': 0.16}}, {'dt': 1726142400, 'temp': 15.67, 'feels_like': 14.68, 'pressure': 1019, 'humidity': 53, 'dew_point': 6.07, 'uvi': 3.91, 'clouds': 30, 'visibility': 10000, 'wind_speed': 7.49, 'wind_deg': 327, 'wind_gust': 8.38, 'weather': [{'id': 802, 'main': 'Clouds', 'description': 'scattered clouds', 'icon': '03d'}], 'pop': 0.8}, {'dt': 1726146000, 'temp': 15.13, 'feels_like': 14.13, 'pressure': 1019, 'humidity': 55, 'dew_point': 5.94, 'uvi': 3.65, 'clouds': 56, 'visibility': 10000, 'wind_speed': 8.41, 'wind_deg': 330, 'wind_gust': 8.76, 'weather': [{'id': 803, 'main': 'Clouds', 'description': 'broken clouds', 'icon': '04d'}], 'pop': 0}, {'dt': 1726149600, 'temp': 13.98, 'feels_like': 12.97, 'pressure': 1020, 'humidity': 59, 'dew_point': 5.88, 'uvi': 2.91, 'clouds': 76, 'visibility': 10000, 'wind_speed': 7.13, 'wind_deg': 329, 'wind_gust': 8.7, 'weather': [{'id': 803, 'main': 'Clouds', 'description': 'broken clouds', 'icon': '04d'}], 'pop': 0}, {'dt': 1726153200, 'temp': 13.58, 'feels_like': 12.61, 'pressure': 1020, 'humidity': 62, 'dew_point': 6.23, 'uvi': 1.9, 'clouds': 84, 'visibility': 10000, 'wind_speed': 6.37, 'wind_deg': 328, 'wind_gust': 8.47, 'weather': [{'id': 803, 'main': 'Clouds', 'description': 'broken clouds', 'icon': '04d'}], 'pop': 0}, {'dt': 1726156800, 'temp': 13.49, 'feels_like': 12.49, 'pressure': 1020, 'humidity': 61, 'dew_point': 5.84, 'uvi': 0.99, 'clouds': 88, 'visibility': 10000, 'wind_speed': 6.37, 'wind_deg': 328, 'wind_gust': 8.76, 'weather': [{'id': 804, 'main': 'Clouds', 'description': 'overcast clouds', 'icon': '04d'}], 'pop': 0}, {'dt': 1726160400, 'temp': 13.16, 'feels_like': 12.07, 'pressure': 1020, 'humidity': 59, 'dew_point': 5.01, 'uvi': 0.36, 'clouds': 90, 'visibility': 10000, 'wind_speed': 5.95, 'wind_deg': 330, 'wind_gust': 9.23, 'weather': [{'id': 500, 'main': 'Rain', 'description': 'light rain', 'icon': '10d'}], 'pop': 0.2, 'rain': {'1h': 0.15}}, {'dt': 1726164000, 'temp': 12.23, 'feels_like': 11.28, 'pressure': 1020, 'humidity': 68, 'dew_point': 6.43, 'uvi': 0, 'clouds': 90, 'visibility': 10000, 'wind_speed': 6.88, 'wind_deg': 330, 'wind_gust': 9.49, 'weather': [{'id': 500, 'main': 'Rain', 'description': 'light rain', 'icon': '10d'}], 'pop': 0.59, 'rain': {'1h': 0.31}}, {'dt': 1726167600, 'temp': 10.73, 'feels_like': 10, 'pressure': 1021, 'humidity': 82, 'dew_point': 7.49, 'uvi': 0, 'clouds': 81, 'visibility': 10000, 'wind_speed': 6.15, 'wind_deg': 344, 'wind_gust': 10.83, 'weather': [{'id': 500, 'main': 'Rain', 'description': 'light rain', 'icon': '10n'}], 'pop': 1, 'rain': {'1h': 0.8}}, {'dt': 1726171200, 'temp': 10.29, 'feels_like': 9.52, 'pressure': 1022, 'humidity': 82, 'dew_point': 7.17, 'uvi': 0, 'clouds': 77, 'visibility': 10000, 'wind_speed': 5, 'wind_deg': 356, 'wind_gust': 10.23, 'weather': [{'id': 500, 'main': 'Rain', 'description': 'light rain', 'icon': '10n'}], 'pop': 1, 'rain': {'1h': 0.52}}, {'dt': 1726174800, 'temp': 9.61, 'feels_like': 7.34, 'pressure': 1022, 'humidity': 83, 'dew_point': 6.69, 'uvi': 0, 'clouds': 80, 'visibility': 10000, 'wind_speed': 4.41, 'wind_deg': 4, 'wind_gust': 10.74, 'weather': [{'id': 500, 'main': 'Rain', 'description': 'light rain', 'icon': '10n'}], 'pop': 1, 'rain': {'1h': 0.25}}, {'dt': 1726178400, 'temp': 8.94, 'feels_like': 6.83, 'pressure': 1023, 'humidity': 83, 'dew_point': 5.98, 'uvi': 0, 'clouds': 66, 'visibility': 10000, 'wind_speed': 3.73, 'wind_deg': 360, 'wind_gust': 7.51, 'weather': [{'id': 803, 'main': 'Clouds', 'description': 'broken clouds', 'icon': '04n'}], 'pop': 0.8}, {'dt': 1726182000, 'temp': 8.62, 'feels_like': 6.26, 'pressure': 1023, 'humidity': 85, 'dew_point': 5.96, 'uvi': 0, 'clouds': 54, 'visibility': 10000, 'wind_speed': 4.09, 'wind_deg': 8, 'wind_gust': 8.08, 'weather': [{'id': 803, 'main': 'Clouds', 'description': 'broken clouds', 'icon': '04n'}], 'pop': 0.8}, {'dt': 1726185600, 'temp': 8.38, 'feels_like': 5.91, 'pressure': 1024, 'humidity': 86, 'dew_point': 6.04, 'uvi': 0, 'clouds': 45, 'visibility': 10000, 'wind_speed': 4.21, 'wind_deg': 10, 'wind_gust': 9.91, 'weather': [{'id': 802, 'main': 'Clouds', 'description': 'scattered clouds', 'icon': '03n'}], 'pop': 0.8}, {'dt': 1726189200, 'temp': 8.38, 'feels_like': 5.86, 'pressure': 1024, 'humidity': 87, 'dew_point': 6.13, 'uvi': 0, 'clouds': 1, 'visibility': 10000, 'wind_speed': 4.32, 'wind_deg': 7, 'wind_gust': 9.25, 'weather': [{'id': 800, 'main': 'Clear', 'description': 'clear sky', 'icon': '01n'}], 'pop': 0}, {'dt': 1726192800, 'temp': 8.39, 'feels_like': 5.96, 'pressure': 1025, 'humidity': 87, 'dew_point': 6.01, 'uvi': 0, 'clouds': 2, 'visibility': 10000, 'wind_speed': 4.14, 'wind_deg': 8, 'wind_gust': 8.6, 'weather': [{'id': 800, 'main': 'Clear', 'description': 'clear sky', 'icon': '01n'}], 'pop': 0}, {'dt': 1726196400, 'temp': 8.27, 'feels_like': 5.91, 'pressure': 1025, 'humidity': 86, 'dew_point': 5.94, 'uvi': 0, 'clouds': 3, 'visibility': 10000, 'wind_speed': 3.93, 'wind_deg': 9, 'wind_gust': 8.31, 'weather': [{'id': 800, 'main': 'Clear', 'description': 'clear sky', 'icon': '01n'}], 'pop': 0}, {'dt': 1726200000, 'temp': 8.18, 'feels_like': 5.89, 'pressure': 1026, 'humidity': 87, 'dew_point': 5.88, 'uvi': 0, 'clouds': 5, 'visibility': 10000, 'wind_speed': 3.75, 'wind_deg': 11, 'wind_gust': 7.32, 'weather': [{'id': 800, 'main': 'Clear', 'description': 'clear sky', 'icon': '01n'}], 'pop': 0}, {'dt': 1726203600, 'temp': 8.49, 'feels_like': 6.36, 'pressure': 1026, 'humidity': 87, 'dew_point': 6.16, 'uvi': 0, 'clouds': 12, 'visibility': 10000, 'wind_speed': 3.59, 'wind_deg': 12, 'wind_gust': 6.41, 'weather': [{'id': 801, 'main': 'Clouds', 'description': 'few clouds', 'icon': '02n'}], 'pop': 0}, {'dt': 1726207200, 'temp': 9.66, 'feels_like': 7.87, 'pressure': 1027, 'humidity': 85, 'dew_point': 7.09, 'uvi': 0, 'clouds': 25, 'visibility': 10000, 'wind_speed': 3.42, 'wind_deg': 18, 'wind_gust': 6.65, 'weather': [{'id': 802, 'main': 'Clouds', 'description': 'scattered clouds', 'icon': '03d'}], 'pop': 0}, {'dt': 1726210800, 'temp': 10.1, 'feels_like': 9.36, 'pressure': 1028, 'humidity': 84, 'dew_point': 7.36, 'uvi': 0.26, 'clouds': 92, 'visibility': 10000, 'wind_speed': 2.98, 'wind_deg': 22, 'wind_gust': 5.8, 'weather': [{'id': 804, 'main': 'Clouds', 'description': 'overcast clouds', 'icon': '04d'}], 'pop': 0}, {'dt': 1726214400, 'temp': 11.5, 'feels_like': 10.74, 'pressure': 1029, 'humidity': 78, 'dew_point': 7.67, 'uvi': 0.83, 'clouds': 85, 'visibility': 10000, 'wind_speed': 2.97, 'wind_deg': 20, 'wind_gust': 4.38, 'weather': [{'id': 804, 'main': 'Clouds', 'description': 'overcast clouds', 'icon': '04d'}], 'pop': 0}, {'dt': 1726218000, 'temp': 12.95, 'feels_like': 12.13, 'pressure': 1029, 'humidity': 70, 'dew_point': 7.37, 'uvi': 1.78, 'clouds': 81, 'visibility': 10000, 'wind_speed': 2.98, 'wind_deg': 25, 'wind_gust': 3.93, 'weather': [{'id': 803, 'main': 'Clouds', 'description': 'broken clouds', 'icon': '04d'}], 'pop': 0}, {'dt': 1726221600, 'temp': 14.51, 'feels_like': 13.48, 'pressure': 1029, 'humidity': 56, 'dew_point': 5.7, 'uvi': 2.9, 'clouds': 67, 'visibility': 10000, 'wind_speed': 3.12, 'wind_deg': 28, 'wind_gust': 3.78, 'weather': [{'id': 803, 'main': 'Clouds', 'description': 'broken clouds', 'icon': '04d'}], 'pop': 0}], 'daily': [{'dt': 1726056000, 'sunrise': 1726033059, 'sunset': 1726079269, 'moonrise': 1726065900, 'moonset': 1726091700, 'moon_phase': 0.25, 'summary': 'Expect a day of partly cloudy with rain', 'temp': {'day': 15.73, 'min': 13.31, 'max': 16.48, 'night': 13.44, 'eve': 13.53, 'morn': 13.31}, 'feels_like': {'day': 15.19, 'night': 12.43, 'eve': 12.69, 'morn': 12.71}, 'pressure': 1015, 'humidity': 70, 'dew_point': 10.28, 'wind_speed': 8.95, 'wind_deg': 259, 'wind_gust': 13.79, 'weather': [{'id': 500, 'main': 'Rain', 'description': 'light rain', 'icon': '10d'}], 'clouds': 100, 'pop': 1, 'rain': 3.87, 'uvi': 2.39}, {'dt': 1726142400, 'sunrise': 1726119542, 'sunset': 1726165542, 'moonrise': 1726155840, 'moonset': 0, 'moon_phase': 0.29, 'summary': 'Expect a day of partly cloudy with rain', 'temp': {'day': 15.67, 'min': 9.17, 'max': 15.67, 'night': 9.61, 'eve': 12.23, 'morn': 9.17}, 'feels_like': {'day': 14.68, 'night': 7.34, 'eve': 11.28, 'morn': 9.17}, 'pressure': 1019, 'humidity': 53, 'dew_point': 6.07, 'wind_speed': 8.41, 'wind_deg': 330, 'wind_gust': 10.83, 'weather': [{'id': 500, 'main': 'Rain', 'description': 'light rain', 'icon': '10d'}], 'clouds': 30, 'pop': 1, 'rain': 4.71, 'uvi': 3.91}, {'dt': 1726228800, 'sunrise': 1726206026, 'sunset': 1726251815, 'moonrise': 1726244940, 'moonset': 1726181760, 'moon_phase': 0.32, 'summary': 'Expect a day of partly cloudy with clear spells', 'temp': {'day': 16.28, 'min': 8.18, 'max': 16.63, 'night': 9.41, 'eve': 12.66, 'morn': 9.66}, 'feels_like': {'day': 15.16, 'night': 7.75, 'eve': 11.78, 'morn': 7.87}, 'pressure': 1030, 'humidity': 46, 'dew_point': 4.57, 'wind_speed': 5.11, 'wind_deg': 322, 'wind_gust': 9.91, 'weather': [{'id': 802, 'main': 'Clouds', 'description': 'scattered clouds', 'icon': '03d'}], 'clouds': 46, 'pop': 0.8, 'uvi': 4.28}, {'dt': 1726315200, 'sunrise': 1726292509, 'sunset': 1726338087, 'moonrise': 1726333440, 'moonset': 1726272660, 'moon_phase': 0.36, 'summary': 'There will be partly cloudy today', 'temp': {'day': 16.61, 'min': 7.1, 'max': 17.32, 'night': 10.65, 'eve': 12.98, 'morn': 7.14}, 'feels_like': {'day': 15.4, 'night': 9.57, 'eve': 11.98, 'morn': 5.6}, 'pressure': 1030, 'humidity': 41, 'dew_point': 3.09, 'wind_speed': 3.12, 'wind_deg': 354, 'wind_gust': 3.87, 'weather': [{'id': 803, 'main': 'Clouds', 'description': 'broken clouds', 'icon': '04d'}], 'clouds': 77, 'pop': 0, 'uvi': 4.43}, {'dt': 1726401600, 'sunrise': 1726378993, 'sunset': 1726424359, 'moonrise': 1726421400, 'moonset': 1726364160, 'moon_phase': 0.4, 'summary': 'Expect a day of partly cloudy with clear spells', 'temp': {'day': 18.52, 'min': 8.94, 'max': 18.52, 'night': 11.98, 'eve': 14.31, 'morn': 8.94}, 'feels_like': {'day': 17.73, 'night': 11.06, 'eve': 13.52, 'morn': 8.29}, 'pressure': 1028, 'humidity': 50, 'dew_point': 7.7, 'wind_speed': 3.56, 'wind_deg': 348, 'wind_gust': 5.42, 'weather': [{'id': 801, 'main': 'Clouds', 'description': 'few clouds', 'icon': '02d'}], 'clouds': 12, 'pop': 0, 'uvi': 4.21}, {'dt': 1726488000, 'sunrise': 1726465476, 'sunset': 1726510632, 'moonrise': 1726509060, 'moonset': 1726455840, 'moon_phase': 0.43, 'summary': 'Expect a day of partly cloudy with rain', 'temp': {'day': 18.65, 'min': 9.98, 'max': 18.9, 'night': 12.09, 'eve': 15.51, 'morn': 12.31}, 'feels_like': {'day': 18.61, 'night': 11.39, 'eve': 14.87, 'morn': 11.55}, 'pressure': 1025, 'humidity': 78, 'dew_point': 14.62, 'wind_speed': 7.28, 'wind_deg': 23, 'wind_gust': 10.46, 'weather': [{'id': 500, 'main': 'Rain', 'description': 'light rain', 'icon': '10d'}], 'clouds': 97, 'pop': 0.2, 'rain': 0.45, 'uvi': 5}, {'dt': 1726574400, 'sunrise': 1726551960, 'sunset': 1726596904, 'moonrise': 1726596540, 'moonset': 1726547520, 'moon_phase': 0.47, 'summary': 'Expect a day of partly cloudy with rain', 'temp': {'day': 20.34, 'min': 12.6, 'max': 20.34, 'night': 16.86, 'eve': 18.05, 'morn': 14.92}, 'feels_like': {'day': 19.94, 'night': 16.74, 'eve': 17.84, 'morn': 14.63}, 'pressure': 1024, 'humidity': 58, 'dew_point': 11.61, 'wind_speed': 8.7, 'wind_deg': 51, 'wind_gust': 13.51, 'weather': [{'id': 500, 'main': 'Rain', 'description': 'light rain', 'icon': '10d'}], 'clouds': 55, 'pop': 0.2, 'rain': 0.18, 'uvi': 5}, {'dt': 1726660800, 'sunrise': 1726638444, 'sunset': 1726683175, 'moonrise': 1726683900, 'moonset': 1726639200, 'moon_phase': 0.5, 'summary': 'Expect a day of partly cloudy with clear spells', 'temp': {'day': 22.88, 'min': 13.79, 'max': 24.62, 'night': 18.55, 'eve': 20.5, 'morn': 13.79}, 'feels_like': {'day': 22.66, 'night': 18.26, 'eve': 20.28, 'morn': 13.71}, 'pressure': 1020, 'humidity': 55, 'dew_point': 13.19, 'wind_speed': 7.9, 'wind_deg': 56, 'wind_gust': 12.29, 'weather': [{'id': 801, 'main': 'Clouds', 'description': 'few clouds', 'icon': '02d'}], 'clouds': 16, 'pop': 0, 'uvi': 5}]}\n"
     ]
    }
   ],
   "source": [
    "# Extraire les coordonnées de la première ville\n",
    "lat = df_cities.iloc[0]['latitude']\n",
    "lon = df_cities.iloc[0]['longitude']\n",
    "\n",
    "# Requête API pour la première ville\n",
    "response = requests.get(f\"https://api.openweathermap.org/data/3.0/onecall?lat={lat}&lon={lon}&units=metric&appid={api_key}\")\n",
    "\n",
    "# Vérifier si la requête a réussi\n",
    "if response.status_code == 200:\n",
    "    data = response.json()  # Convertir la réponse en format JSON\n",
    "    # Maintenant, vous pouvez traiter les données comme vous le souhaitez\n",
    "    print(data)\n",
    "else:\n",
    "    print(\"La requête a échoué, code d'erreur :\", response.status_code)\n"
   ]
  },
  {
   "cell_type": "code",
   "execution_count": 10,
   "metadata": {},
   "outputs": [],
   "source": [
    "# Utilisation de l'API Open Weather Map pour récupérer les données météorologiques des 8 derniers jours\n",
    "def get_weather(latitude, longitude):\n",
    "    url = f\"https://api.openweathermap.org/data/3.0/onecall?lat={latitude}&lon={longitude}&units=metric&exclude=current,minutely,hourly,alerts&appid={api_key}\"\n",
    "    response = requests.get(url)\n",
    "    data = response.json()\n",
    "\n",
    "    if data :\n",
    "        humidity = data[\"daily\"][0][\"humidity\"]                     # % d'humidité\n",
    "        temp_avg = data[\"daily\"][0][\"temp\"][\"day\"]                  # Température moyenne\n",
    "        temp_min = data[\"daily\"][0][\"temp\"][\"min\"]                  # Température minimum\n",
    "        temp_max = data[\"daily\"][0][\"temp\"][\"max\"]                  # Température maximum\n",
    "        temp_perceived = data[\"daily\"][0][\"feels_like\"][\"day\"]      # Température ressentie\n",
    "        wind_speed = data[\"daily\"][0][\"wind_speed\"]                 # Vitesse du vent en m/s\n",
    "        clouds = data[\"daily\"][0][\"clouds\"]                         # % de nuages\n",
    "        pop = data[\"daily\"][0][\"pop\"]                               # Probabilité de précipitations, etre 0 et 1\n",
    "        \n",
    "        return humidity, temp_avg, temp_min, temp_max, temp_perceived, wind_speed, clouds, pop\n",
    "    else:\n",
    "        return None"
   ]
  },
  {
   "cell_type": "code",
   "execution_count": 11,
   "metadata": {},
   "outputs": [
    {
     "data": {
      "text/html": [
       "<div>\n",
       "<style scoped>\n",
       "    .dataframe tbody tr th:only-of-type {\n",
       "        vertical-align: middle;\n",
       "    }\n",
       "\n",
       "    .dataframe tbody tr th {\n",
       "        vertical-align: top;\n",
       "    }\n",
       "\n",
       "    .dataframe thead th {\n",
       "        text-align: right;\n",
       "    }\n",
       "</style>\n",
       "<table border=\"1\" class=\"dataframe\">\n",
       "  <thead>\n",
       "    <tr style=\"text-align: right;\">\n",
       "      <th></th>\n",
       "      <th>name</th>\n",
       "      <th>latitude</th>\n",
       "      <th>longitude</th>\n",
       "      <th>Humidity</th>\n",
       "      <th>Temperature_avg</th>\n",
       "      <th>Temperature_min</th>\n",
       "      <th>Temperature_max</th>\n",
       "      <th>Temperature_perceived</th>\n",
       "      <th>Wind_speed</th>\n",
       "      <th>Cloudiness</th>\n",
       "      <th>Precipitation_prob</th>\n",
       "    </tr>\n",
       "  </thead>\n",
       "  <tbody>\n",
       "    <tr>\n",
       "      <th>0</th>\n",
       "      <td>Mont Saint Michel</td>\n",
       "      <td>48.6359541</td>\n",
       "      <td>-1.511459954959514</td>\n",
       "      <td>70</td>\n",
       "      <td>15.73</td>\n",
       "      <td>13.31</td>\n",
       "      <td>16.48</td>\n",
       "      <td>15.19</td>\n",
       "      <td>8.95</td>\n",
       "      <td>100</td>\n",
       "      <td>100</td>\n",
       "    </tr>\n",
       "    <tr>\n",
       "      <th>1</th>\n",
       "      <td>St Malo</td>\n",
       "      <td>48.649518</td>\n",
       "      <td>-2.0260409</td>\n",
       "      <td>58</td>\n",
       "      <td>15.32</td>\n",
       "      <td>14.19</td>\n",
       "      <td>16.86</td>\n",
       "      <td>14.42</td>\n",
       "      <td>10.75</td>\n",
       "      <td>100</td>\n",
       "      <td>100</td>\n",
       "    </tr>\n",
       "    <tr>\n",
       "      <th>2</th>\n",
       "      <td>Bayeux</td>\n",
       "      <td>49.2764624</td>\n",
       "      <td>-0.7024738</td>\n",
       "      <td>50</td>\n",
       "      <td>15.77</td>\n",
       "      <td>11.27</td>\n",
       "      <td>16.14</td>\n",
       "      <td>14.71</td>\n",
       "      <td>9.43</td>\n",
       "      <td>100</td>\n",
       "      <td>100</td>\n",
       "    </tr>\n",
       "    <tr>\n",
       "      <th>3</th>\n",
       "      <td>Le Havre</td>\n",
       "      <td>49.4938975</td>\n",
       "      <td>0.1079732</td>\n",
       "      <td>57</td>\n",
       "      <td>15.22</td>\n",
       "      <td>14.50</td>\n",
       "      <td>17.02</td>\n",
       "      <td>14.29</td>\n",
       "      <td>12.81</td>\n",
       "      <td>80</td>\n",
       "      <td>100</td>\n",
       "    </tr>\n",
       "    <tr>\n",
       "      <th>4</th>\n",
       "      <td>Rouen</td>\n",
       "      <td>49.4404591</td>\n",
       "      <td>1.0939658</td>\n",
       "      <td>60</td>\n",
       "      <td>15.35</td>\n",
       "      <td>10.19</td>\n",
       "      <td>16.09</td>\n",
       "      <td>14.51</td>\n",
       "      <td>8.73</td>\n",
       "      <td>78</td>\n",
       "      <td>100</td>\n",
       "    </tr>\n",
       "  </tbody>\n",
       "</table>\n",
       "</div>"
      ],
      "text/plain": [
       "                name    latitude           longitude  Humidity  \\\n",
       "0  Mont Saint Michel  48.6359541  -1.511459954959514        70   \n",
       "1            St Malo   48.649518          -2.0260409        58   \n",
       "2             Bayeux  49.2764624          -0.7024738        50   \n",
       "3           Le Havre  49.4938975           0.1079732        57   \n",
       "4              Rouen  49.4404591           1.0939658        60   \n",
       "\n",
       "   Temperature_avg  Temperature_min  Temperature_max  Temperature_perceived  \\\n",
       "0            15.73            13.31            16.48                  15.19   \n",
       "1            15.32            14.19            16.86                  14.42   \n",
       "2            15.77            11.27            16.14                  14.71   \n",
       "3            15.22            14.50            17.02                  14.29   \n",
       "4            15.35            10.19            16.09                  14.51   \n",
       "\n",
       "   Wind_speed  Cloudiness  Precipitation_prob  \n",
       "0        8.95         100                 100  \n",
       "1       10.75         100                 100  \n",
       "2        9.43         100                 100  \n",
       "3       12.81          80                 100  \n",
       "4        8.73          78                 100  "
      ]
     },
     "execution_count": 11,
     "metadata": {},
     "output_type": "execute_result"
    }
   ],
   "source": [
    "weather_results = []\n",
    "\n",
    "for index, row in df_cities.iterrows():\n",
    "    name = row[\"name\"]\n",
    "    latitude = row[\"latitude\"]\n",
    "    longitude = row[\"longitude\"]\n",
    "\n",
    "    humidity, temp_avg, temp_min, temp_max, temp_perceived, wind_speed, clouds, pop = get_weather(latitude, longitude)\n",
    "\n",
    "    weather_results.append({\"name\": name, \n",
    "                            \"latitude\": latitude, \n",
    "                            \"longitude\": longitude, \n",
    "                            \"Humidity\": humidity, \n",
    "                            \"Temperature_avg\": temp_avg,\n",
    "                            \"Temperature_min\": temp_min,\n",
    "                            \"Temperature_max\": temp_max,\n",
    "                            \"Temperature_perceived\": temp_perceived,\n",
    "                            \"Wind_speed\": wind_speed,\n",
    "                            \"Cloudiness\": clouds,\n",
    "                            \"Precipitation_prob\" : round(pop*100) # to have the probability of precipitation in %\n",
    "                            })\n",
    "\n",
    "df = pd.DataFrame(weather_results)\n",
    "df.head()"
   ]
  },
  {
   "cell_type": "code",
   "execution_count": 12,
   "metadata": {},
   "outputs": [
    {
     "data": {
      "text/html": [
       "<div>\n",
       "<style scoped>\n",
       "    .dataframe tbody tr th:only-of-type {\n",
       "        vertical-align: middle;\n",
       "    }\n",
       "\n",
       "    .dataframe tbody tr th {\n",
       "        vertical-align: top;\n",
       "    }\n",
       "\n",
       "    .dataframe thead th {\n",
       "        text-align: right;\n",
       "    }\n",
       "</style>\n",
       "<table border=\"1\" class=\"dataframe\">\n",
       "  <thead>\n",
       "    <tr style=\"text-align: right;\">\n",
       "      <th></th>\n",
       "      <th>index</th>\n",
       "      <th>name</th>\n",
       "      <th>latitude</th>\n",
       "      <th>longitude</th>\n",
       "      <th>Humidity</th>\n",
       "      <th>Temperature_avg</th>\n",
       "      <th>Temperature_min</th>\n",
       "      <th>Temperature_max</th>\n",
       "      <th>Temperature_perceived</th>\n",
       "      <th>Wind_speed</th>\n",
       "      <th>Cloudiness</th>\n",
       "      <th>Precipitation_prob</th>\n",
       "    </tr>\n",
       "  </thead>\n",
       "  <tbody>\n",
       "    <tr>\n",
       "      <th>0</th>\n",
       "      <td>0</td>\n",
       "      <td>Mont Saint Michel</td>\n",
       "      <td>48.6359541</td>\n",
       "      <td>-1.511459954959514</td>\n",
       "      <td>70</td>\n",
       "      <td>15.73</td>\n",
       "      <td>13.31</td>\n",
       "      <td>16.48</td>\n",
       "      <td>15.19</td>\n",
       "      <td>8.95</td>\n",
       "      <td>100</td>\n",
       "      <td>100</td>\n",
       "    </tr>\n",
       "    <tr>\n",
       "      <th>1</th>\n",
       "      <td>1</td>\n",
       "      <td>St Malo</td>\n",
       "      <td>48.649518</td>\n",
       "      <td>-2.0260409</td>\n",
       "      <td>58</td>\n",
       "      <td>15.32</td>\n",
       "      <td>14.19</td>\n",
       "      <td>16.86</td>\n",
       "      <td>14.42</td>\n",
       "      <td>10.75</td>\n",
       "      <td>100</td>\n",
       "      <td>100</td>\n",
       "    </tr>\n",
       "    <tr>\n",
       "      <th>2</th>\n",
       "      <td>2</td>\n",
       "      <td>Bayeux</td>\n",
       "      <td>49.2764624</td>\n",
       "      <td>-0.7024738</td>\n",
       "      <td>50</td>\n",
       "      <td>15.77</td>\n",
       "      <td>11.27</td>\n",
       "      <td>16.14</td>\n",
       "      <td>14.71</td>\n",
       "      <td>9.43</td>\n",
       "      <td>100</td>\n",
       "      <td>100</td>\n",
       "    </tr>\n",
       "    <tr>\n",
       "      <th>3</th>\n",
       "      <td>3</td>\n",
       "      <td>Le Havre</td>\n",
       "      <td>49.4938975</td>\n",
       "      <td>0.1079732</td>\n",
       "      <td>57</td>\n",
       "      <td>15.22</td>\n",
       "      <td>14.50</td>\n",
       "      <td>17.02</td>\n",
       "      <td>14.29</td>\n",
       "      <td>12.81</td>\n",
       "      <td>80</td>\n",
       "      <td>100</td>\n",
       "    </tr>\n",
       "    <tr>\n",
       "      <th>4</th>\n",
       "      <td>4</td>\n",
       "      <td>Rouen</td>\n",
       "      <td>49.4404591</td>\n",
       "      <td>1.0939658</td>\n",
       "      <td>60</td>\n",
       "      <td>15.35</td>\n",
       "      <td>10.19</td>\n",
       "      <td>16.09</td>\n",
       "      <td>14.51</td>\n",
       "      <td>8.73</td>\n",
       "      <td>78</td>\n",
       "      <td>100</td>\n",
       "    </tr>\n",
       "  </tbody>\n",
       "</table>\n",
       "</div>"
      ],
      "text/plain": [
       "   index               name    latitude           longitude  Humidity  \\\n",
       "0      0  Mont Saint Michel  48.6359541  -1.511459954959514        70   \n",
       "1      1            St Malo   48.649518          -2.0260409        58   \n",
       "2      2             Bayeux  49.2764624          -0.7024738        50   \n",
       "3      3           Le Havre  49.4938975           0.1079732        57   \n",
       "4      4              Rouen  49.4404591           1.0939658        60   \n",
       "\n",
       "   Temperature_avg  Temperature_min  Temperature_max  Temperature_perceived  \\\n",
       "0            15.73            13.31            16.48                  15.19   \n",
       "1            15.32            14.19            16.86                  14.42   \n",
       "2            15.77            11.27            16.14                  14.71   \n",
       "3            15.22            14.50            17.02                  14.29   \n",
       "4            15.35            10.19            16.09                  14.51   \n",
       "\n",
       "   Wind_speed  Cloudiness  Precipitation_prob  \n",
       "0        8.95         100                 100  \n",
       "1       10.75         100                 100  \n",
       "2        9.43         100                 100  \n",
       "3       12.81          80                 100  \n",
       "4        8.73          78                 100  "
      ]
     },
     "execution_count": 12,
     "metadata": {},
     "output_type": "execute_result"
    }
   ],
   "source": [
    "df = df.reset_index()\n",
    "df.head()"
   ]
  },
  {
   "cell_type": "code",
   "execution_count": 13,
   "metadata": {},
   "outputs": [],
   "source": [
    "# Sauvegarder les données en .csv\n",
    "df.to_csv(\"files/cities_forecast_weather.csv\", index=False)"
   ]
  },
  {
   "cell_type": "code",
   "execution_count": 14,
   "metadata": {},
   "outputs": [
    {
     "data": {
      "application/vnd.plotly.v1+json": {
       "config": {
        "plotlyServerURL": "https://plot.ly"
       },
       "data": [
        {
         "marker": {
          "color": "blue"
         },
         "text": [
          34,
          35,
          39,
          45,
          45,
          45,
          47,
          47,
          47,
          48
         ],
         "textposition": "auto",
         "type": "bar",
         "x": [
          "Gorges du Verdon",
          "Bormes les Mimosas",
          "Collioure",
          "Cassis",
          "Uzes",
          "Nimes",
          "Marseille",
          "Aigues Mortes",
          "Aix en Provence",
          "Avignon"
         ],
         "xaxis": "x",
         "y": [
          34,
          35,
          39,
          45,
          45,
          45,
          47,
          47,
          47,
          48
         ],
         "yaxis": "y"
        },
        {
         "marker": {
          "color": "red"
         },
         "text": [
          25.79,
          25.14,
          23.03,
          22.81,
          22.63,
          22.62,
          22.61,
          22.48,
          22.14,
          22
         ],
         "textposition": "auto",
         "type": "bar",
         "x": [
          "Collioure",
          "Bormes les Mimosas",
          "Marseille",
          "Aigues Mortes",
          "Nimes",
          "Avignon",
          "Saintes Maries de la mer",
          "Cassis",
          "Uzes",
          "Aix en Provence"
         ],
         "xaxis": "x2",
         "y": [
          25.79,
          25.14,
          23.03,
          22.81,
          22.63,
          22.62,
          22.61,
          22.48,
          22.14,
          22
         ],
         "yaxis": "y2"
        },
        {
         "marker": {
          "color": "green"
         },
         "text": [
          1.91,
          2.29,
          3.52,
          3.55,
          4.01,
          4.14,
          4.15,
          5.83,
          5.95,
          6.39
         ],
         "textposition": "auto",
         "type": "bar",
         "x": [
          "Grenoble",
          "Annecy",
          "Chateau du Haut Koenigsbourg",
          "Ariege",
          "Lyon",
          "Colmar",
          "Eguisheim",
          "Besancon",
          "Gorges du Verdon",
          "Strasbourg"
         ],
         "xaxis": "x3",
         "y": [
          1.91,
          2.29,
          3.52,
          3.55,
          4.01,
          4.14,
          4.15,
          5.83,
          5.95,
          6.39
         ],
         "yaxis": "y3"
        },
        {
         "marker": {
          "color": "purple"
         },
         "text": [
          0.1,
          7.1,
          10.1,
          11.1,
          14.1,
          16.1,
          23.1,
          24.1,
          33.1,
          35.1
         ],
         "textposition": "auto",
         "type": "bar",
         "x": [
          "La Rochelle",
          "Bormes les Mimosas",
          "Gorges du Verdon",
          "Aigues Mortes",
          "Avignon",
          "Collioure",
          "Marseille",
          "Aix en Provence",
          "Nimes",
          "Cassis"
         ],
         "xaxis": "x4",
         "y": [
          0.1,
          7.1,
          10.1,
          11.1,
          14.1,
          16.1,
          23.1,
          24.1,
          33.1,
          35.1
         ],
         "yaxis": "y4"
        },
        {
         "marker": {
          "color": "orange"
         },
         "text": [
          0.1,
          0.1,
          0.1,
          0.1,
          0.1,
          0.1,
          0.1,
          0.1,
          21.1,
          33.1
         ],
         "textposition": "auto",
         "type": "bar",
         "x": [
          "Gorges du Verdon",
          "Cassis",
          "Marseille",
          "Aix en Provence",
          "Bormes les Mimosas",
          "Saintes Maries de la mer",
          "Aigues Mortes",
          "Collioure",
          "Nimes",
          "Uzes"
         ],
         "xaxis": "x5",
         "y": [
          0.1,
          0.1,
          0.1,
          0.1,
          0.1,
          0.1,
          0.1,
          0.1,
          21.1,
          33.1
         ],
         "yaxis": "y5"
        }
       ],
       "layout": {
        "annotations": [
         {
          "font": {
           "size": 16
          },
          "showarrow": false,
          "text": "Top 10 cities with the least humidity (%)",
          "x": 0.14444444444444446,
          "xanchor": "center",
          "xref": "paper",
          "y": 0.375,
          "yanchor": "bottom",
          "yref": "paper"
         },
         {
          "font": {
           "size": 16
          },
          "showarrow": false,
          "text": "Top 10 cities with the best day temperature (°C)",
          "x": 0.5,
          "xanchor": "center",
          "xref": "paper",
          "y": 0.375,
          "yanchor": "bottom",
          "yref": "paper"
         },
         {
          "font": {
           "size": 16
          },
          "showarrow": false,
          "text": "Top 10 cities with the least wind speed (m/s)",
          "x": 0.8555555555555556,
          "xanchor": "center",
          "xref": "paper",
          "y": 0.375,
          "yanchor": "bottom",
          "yref": "paper"
         },
         {
          "font": {
           "size": 16
          },
          "showarrow": false,
          "text": "Top 10 cities with the least cloudiness (%)",
          "x": 0.14444444444444446,
          "xanchor": "center",
          "xref": "paper",
          "y": 1,
          "yanchor": "bottom",
          "yref": "paper"
         },
         {
          "font": {
           "size": 16
          },
          "showarrow": false,
          "text": "Top 10 cities with the least probability of rain (%)",
          "x": 0.5,
          "xanchor": "center",
          "xref": "paper",
          "y": 1,
          "yanchor": "bottom",
          "yref": "paper"
         }
        ],
        "bargap": 0.2,
        "height": 700,
        "showlegend": false,
        "template": {
         "data": {
          "bar": [
           {
            "error_x": {
             "color": "#2a3f5f"
            },
            "error_y": {
             "color": "#2a3f5f"
            },
            "marker": {
             "line": {
              "color": "#E5ECF6",
              "width": 0.5
             },
             "pattern": {
              "fillmode": "overlay",
              "size": 10,
              "solidity": 0.2
             }
            },
            "type": "bar"
           }
          ],
          "barpolar": [
           {
            "marker": {
             "line": {
              "color": "#E5ECF6",
              "width": 0.5
             },
             "pattern": {
              "fillmode": "overlay",
              "size": 10,
              "solidity": 0.2
             }
            },
            "type": "barpolar"
           }
          ],
          "carpet": [
           {
            "aaxis": {
             "endlinecolor": "#2a3f5f",
             "gridcolor": "white",
             "linecolor": "white",
             "minorgridcolor": "white",
             "startlinecolor": "#2a3f5f"
            },
            "baxis": {
             "endlinecolor": "#2a3f5f",
             "gridcolor": "white",
             "linecolor": "white",
             "minorgridcolor": "white",
             "startlinecolor": "#2a3f5f"
            },
            "type": "carpet"
           }
          ],
          "choropleth": [
           {
            "colorbar": {
             "outlinewidth": 0,
             "ticks": ""
            },
            "type": "choropleth"
           }
          ],
          "contour": [
           {
            "colorbar": {
             "outlinewidth": 0,
             "ticks": ""
            },
            "colorscale": [
             [
              0,
              "#0d0887"
             ],
             [
              0.1111111111111111,
              "#46039f"
             ],
             [
              0.2222222222222222,
              "#7201a8"
             ],
             [
              0.3333333333333333,
              "#9c179e"
             ],
             [
              0.4444444444444444,
              "#bd3786"
             ],
             [
              0.5555555555555556,
              "#d8576b"
             ],
             [
              0.6666666666666666,
              "#ed7953"
             ],
             [
              0.7777777777777778,
              "#fb9f3a"
             ],
             [
              0.8888888888888888,
              "#fdca26"
             ],
             [
              1,
              "#f0f921"
             ]
            ],
            "type": "contour"
           }
          ],
          "contourcarpet": [
           {
            "colorbar": {
             "outlinewidth": 0,
             "ticks": ""
            },
            "type": "contourcarpet"
           }
          ],
          "heatmap": [
           {
            "colorbar": {
             "outlinewidth": 0,
             "ticks": ""
            },
            "colorscale": [
             [
              0,
              "#0d0887"
             ],
             [
              0.1111111111111111,
              "#46039f"
             ],
             [
              0.2222222222222222,
              "#7201a8"
             ],
             [
              0.3333333333333333,
              "#9c179e"
             ],
             [
              0.4444444444444444,
              "#bd3786"
             ],
             [
              0.5555555555555556,
              "#d8576b"
             ],
             [
              0.6666666666666666,
              "#ed7953"
             ],
             [
              0.7777777777777778,
              "#fb9f3a"
             ],
             [
              0.8888888888888888,
              "#fdca26"
             ],
             [
              1,
              "#f0f921"
             ]
            ],
            "type": "heatmap"
           }
          ],
          "heatmapgl": [
           {
            "colorbar": {
             "outlinewidth": 0,
             "ticks": ""
            },
            "colorscale": [
             [
              0,
              "#0d0887"
             ],
             [
              0.1111111111111111,
              "#46039f"
             ],
             [
              0.2222222222222222,
              "#7201a8"
             ],
             [
              0.3333333333333333,
              "#9c179e"
             ],
             [
              0.4444444444444444,
              "#bd3786"
             ],
             [
              0.5555555555555556,
              "#d8576b"
             ],
             [
              0.6666666666666666,
              "#ed7953"
             ],
             [
              0.7777777777777778,
              "#fb9f3a"
             ],
             [
              0.8888888888888888,
              "#fdca26"
             ],
             [
              1,
              "#f0f921"
             ]
            ],
            "type": "heatmapgl"
           }
          ],
          "histogram": [
           {
            "marker": {
             "pattern": {
              "fillmode": "overlay",
              "size": 10,
              "solidity": 0.2
             }
            },
            "type": "histogram"
           }
          ],
          "histogram2d": [
           {
            "colorbar": {
             "outlinewidth": 0,
             "ticks": ""
            },
            "colorscale": [
             [
              0,
              "#0d0887"
             ],
             [
              0.1111111111111111,
              "#46039f"
             ],
             [
              0.2222222222222222,
              "#7201a8"
             ],
             [
              0.3333333333333333,
              "#9c179e"
             ],
             [
              0.4444444444444444,
              "#bd3786"
             ],
             [
              0.5555555555555556,
              "#d8576b"
             ],
             [
              0.6666666666666666,
              "#ed7953"
             ],
             [
              0.7777777777777778,
              "#fb9f3a"
             ],
             [
              0.8888888888888888,
              "#fdca26"
             ],
             [
              1,
              "#f0f921"
             ]
            ],
            "type": "histogram2d"
           }
          ],
          "histogram2dcontour": [
           {
            "colorbar": {
             "outlinewidth": 0,
             "ticks": ""
            },
            "colorscale": [
             [
              0,
              "#0d0887"
             ],
             [
              0.1111111111111111,
              "#46039f"
             ],
             [
              0.2222222222222222,
              "#7201a8"
             ],
             [
              0.3333333333333333,
              "#9c179e"
             ],
             [
              0.4444444444444444,
              "#bd3786"
             ],
             [
              0.5555555555555556,
              "#d8576b"
             ],
             [
              0.6666666666666666,
              "#ed7953"
             ],
             [
              0.7777777777777778,
              "#fb9f3a"
             ],
             [
              0.8888888888888888,
              "#fdca26"
             ],
             [
              1,
              "#f0f921"
             ]
            ],
            "type": "histogram2dcontour"
           }
          ],
          "mesh3d": [
           {
            "colorbar": {
             "outlinewidth": 0,
             "ticks": ""
            },
            "type": "mesh3d"
           }
          ],
          "parcoords": [
           {
            "line": {
             "colorbar": {
              "outlinewidth": 0,
              "ticks": ""
             }
            },
            "type": "parcoords"
           }
          ],
          "pie": [
           {
            "automargin": true,
            "type": "pie"
           }
          ],
          "scatter": [
           {
            "fillpattern": {
             "fillmode": "overlay",
             "size": 10,
             "solidity": 0.2
            },
            "type": "scatter"
           }
          ],
          "scatter3d": [
           {
            "line": {
             "colorbar": {
              "outlinewidth": 0,
              "ticks": ""
             }
            },
            "marker": {
             "colorbar": {
              "outlinewidth": 0,
              "ticks": ""
             }
            },
            "type": "scatter3d"
           }
          ],
          "scattercarpet": [
           {
            "marker": {
             "colorbar": {
              "outlinewidth": 0,
              "ticks": ""
             }
            },
            "type": "scattercarpet"
           }
          ],
          "scattergeo": [
           {
            "marker": {
             "colorbar": {
              "outlinewidth": 0,
              "ticks": ""
             }
            },
            "type": "scattergeo"
           }
          ],
          "scattergl": [
           {
            "marker": {
             "colorbar": {
              "outlinewidth": 0,
              "ticks": ""
             }
            },
            "type": "scattergl"
           }
          ],
          "scattermapbox": [
           {
            "marker": {
             "colorbar": {
              "outlinewidth": 0,
              "ticks": ""
             }
            },
            "type": "scattermapbox"
           }
          ],
          "scatterpolar": [
           {
            "marker": {
             "colorbar": {
              "outlinewidth": 0,
              "ticks": ""
             }
            },
            "type": "scatterpolar"
           }
          ],
          "scatterpolargl": [
           {
            "marker": {
             "colorbar": {
              "outlinewidth": 0,
              "ticks": ""
             }
            },
            "type": "scatterpolargl"
           }
          ],
          "scatterternary": [
           {
            "marker": {
             "colorbar": {
              "outlinewidth": 0,
              "ticks": ""
             }
            },
            "type": "scatterternary"
           }
          ],
          "surface": [
           {
            "colorbar": {
             "outlinewidth": 0,
             "ticks": ""
            },
            "colorscale": [
             [
              0,
              "#0d0887"
             ],
             [
              0.1111111111111111,
              "#46039f"
             ],
             [
              0.2222222222222222,
              "#7201a8"
             ],
             [
              0.3333333333333333,
              "#9c179e"
             ],
             [
              0.4444444444444444,
              "#bd3786"
             ],
             [
              0.5555555555555556,
              "#d8576b"
             ],
             [
              0.6666666666666666,
              "#ed7953"
             ],
             [
              0.7777777777777778,
              "#fb9f3a"
             ],
             [
              0.8888888888888888,
              "#fdca26"
             ],
             [
              1,
              "#f0f921"
             ]
            ],
            "type": "surface"
           }
          ],
          "table": [
           {
            "cells": {
             "fill": {
              "color": "#EBF0F8"
             },
             "line": {
              "color": "white"
             }
            },
            "header": {
             "fill": {
              "color": "#C8D4E3"
             },
             "line": {
              "color": "white"
             }
            },
            "type": "table"
           }
          ]
         },
         "layout": {
          "annotationdefaults": {
           "arrowcolor": "#2a3f5f",
           "arrowhead": 0,
           "arrowwidth": 1
          },
          "autotypenumbers": "strict",
          "coloraxis": {
           "colorbar": {
            "outlinewidth": 0,
            "ticks": ""
           }
          },
          "colorscale": {
           "diverging": [
            [
             0,
             "#8e0152"
            ],
            [
             0.1,
             "#c51b7d"
            ],
            [
             0.2,
             "#de77ae"
            ],
            [
             0.3,
             "#f1b6da"
            ],
            [
             0.4,
             "#fde0ef"
            ],
            [
             0.5,
             "#f7f7f7"
            ],
            [
             0.6,
             "#e6f5d0"
            ],
            [
             0.7,
             "#b8e186"
            ],
            [
             0.8,
             "#7fbc41"
            ],
            [
             0.9,
             "#4d9221"
            ],
            [
             1,
             "#276419"
            ]
           ],
           "sequential": [
            [
             0,
             "#0d0887"
            ],
            [
             0.1111111111111111,
             "#46039f"
            ],
            [
             0.2222222222222222,
             "#7201a8"
            ],
            [
             0.3333333333333333,
             "#9c179e"
            ],
            [
             0.4444444444444444,
             "#bd3786"
            ],
            [
             0.5555555555555556,
             "#d8576b"
            ],
            [
             0.6666666666666666,
             "#ed7953"
            ],
            [
             0.7777777777777778,
             "#fb9f3a"
            ],
            [
             0.8888888888888888,
             "#fdca26"
            ],
            [
             1,
             "#f0f921"
            ]
           ],
           "sequentialminus": [
            [
             0,
             "#0d0887"
            ],
            [
             0.1111111111111111,
             "#46039f"
            ],
            [
             0.2222222222222222,
             "#7201a8"
            ],
            [
             0.3333333333333333,
             "#9c179e"
            ],
            [
             0.4444444444444444,
             "#bd3786"
            ],
            [
             0.5555555555555556,
             "#d8576b"
            ],
            [
             0.6666666666666666,
             "#ed7953"
            ],
            [
             0.7777777777777778,
             "#fb9f3a"
            ],
            [
             0.8888888888888888,
             "#fdca26"
            ],
            [
             1,
             "#f0f921"
            ]
           ]
          },
          "colorway": [
           "#636efa",
           "#EF553B",
           "#00cc96",
           "#ab63fa",
           "#FFA15A",
           "#19d3f3",
           "#FF6692",
           "#B6E880",
           "#FF97FF",
           "#FECB52"
          ],
          "font": {
           "color": "#2a3f5f"
          },
          "geo": {
           "bgcolor": "white",
           "lakecolor": "white",
           "landcolor": "#E5ECF6",
           "showlakes": true,
           "showland": true,
           "subunitcolor": "white"
          },
          "hoverlabel": {
           "align": "left"
          },
          "hovermode": "closest",
          "mapbox": {
           "style": "light"
          },
          "paper_bgcolor": "white",
          "plot_bgcolor": "#E5ECF6",
          "polar": {
           "angularaxis": {
            "gridcolor": "white",
            "linecolor": "white",
            "ticks": ""
           },
           "bgcolor": "#E5ECF6",
           "radialaxis": {
            "gridcolor": "white",
            "linecolor": "white",
            "ticks": ""
           }
          },
          "scene": {
           "xaxis": {
            "backgroundcolor": "#E5ECF6",
            "gridcolor": "white",
            "gridwidth": 2,
            "linecolor": "white",
            "showbackground": true,
            "ticks": "",
            "zerolinecolor": "white"
           },
           "yaxis": {
            "backgroundcolor": "#E5ECF6",
            "gridcolor": "white",
            "gridwidth": 2,
            "linecolor": "white",
            "showbackground": true,
            "ticks": "",
            "zerolinecolor": "white"
           },
           "zaxis": {
            "backgroundcolor": "#E5ECF6",
            "gridcolor": "white",
            "gridwidth": 2,
            "linecolor": "white",
            "showbackground": true,
            "ticks": "",
            "zerolinecolor": "white"
           }
          },
          "shapedefaults": {
           "line": {
            "color": "#2a3f5f"
           }
          },
          "ternary": {
           "aaxis": {
            "gridcolor": "white",
            "linecolor": "white",
            "ticks": ""
           },
           "baxis": {
            "gridcolor": "white",
            "linecolor": "white",
            "ticks": ""
           },
           "bgcolor": "#E5ECF6",
           "caxis": {
            "gridcolor": "white",
            "linecolor": "white",
            "ticks": ""
           }
          },
          "title": {
           "x": 0.05
          },
          "xaxis": {
           "automargin": true,
           "gridcolor": "white",
           "linecolor": "white",
           "ticks": "",
           "title": {
            "standoff": 15
           },
           "zerolinecolor": "white",
           "zerolinewidth": 2
          },
          "yaxis": {
           "automargin": true,
           "gridcolor": "white",
           "linecolor": "white",
           "ticks": "",
           "title": {
            "standoff": 15
           },
           "zerolinecolor": "white",
           "zerolinewidth": 2
          }
         }
        },
        "title": {
         "text": "Top 10 Cities Based on Weather Conditions"
        },
        "width": 1400,
        "xaxis": {
         "anchor": "y",
         "domain": [
          0,
          0.2888888888888889
         ],
         "title": {
          "text": "Cities"
         }
        },
        "xaxis2": {
         "anchor": "y2",
         "domain": [
          0.35555555555555557,
          0.6444444444444445
         ]
        },
        "xaxis3": {
         "anchor": "y3",
         "domain": [
          0.7111111111111111,
          1
         ]
        },
        "xaxis4": {
         "anchor": "y4",
         "domain": [
          0,
          0.2888888888888889
         ]
        },
        "xaxis5": {
         "anchor": "y5",
         "domain": [
          0.35555555555555557,
          0.6444444444444445
         ]
        },
        "xaxis6": {
         "anchor": "y6",
         "domain": [
          0.7111111111111111,
          1
         ]
        },
        "yaxis": {
         "anchor": "x",
         "domain": [
          0,
          0.375
         ],
         "title": {
          "text": "Value"
         }
        },
        "yaxis2": {
         "anchor": "x2",
         "domain": [
          0,
          0.375
         ]
        },
        "yaxis3": {
         "anchor": "x3",
         "domain": [
          0,
          0.375
         ]
        },
        "yaxis4": {
         "anchor": "x4",
         "domain": [
          0.625,
          1
         ]
        },
        "yaxis5": {
         "anchor": "x5",
         "domain": [
          0.625,
          1
         ]
        },
        "yaxis6": {
         "anchor": "x6",
         "domain": [
          0.625,
          1
         ]
        }
       }
      }
     },
     "metadata": {},
     "output_type": "display_data"
    }
   ],
   "source": [
    "import plotly.graph_objects as go\n",
    "from plotly.subplots import make_subplots\n",
    "\n",
    "# Créer la figure avec des graphiques en barres\n",
    "fig = make_subplots(rows=2, \n",
    "                    cols=3, \n",
    "                    start_cell=\"bottom-left\",\n",
    "                    specs=[[{\"type\": \"xy\"}, {\"type\": \"xy\"},{\"type\": \"xy\"}], \n",
    "                           [{\"type\": \"xy\"},{\"type\": \"xy\"},{\"type\": \"xy\"}]],\n",
    "                    subplot_titles=(\"Top 10 cities with the least humidity (%)\", \n",
    "                                    \"Top 10 cities with the best day temperature (°C)\", \n",
    "                                    \"Top 10 cities with the least wind speed (m/s)\",\n",
    "                                    \"Top 10 cities with the least cloudiness (%)\",\n",
    "                                    \"Top 10 cities with the least probability of rain (%)\"))\n",
    "\n",
    "# 1. Top 10 des villes avec le moins d'humidité\n",
    "fig.add_trace(go.Bar(\n",
    "    x=df.sort_values(by=['Humidity']).head(10)[\"name\"],\n",
    "    y=df.sort_values(by=['Humidity']).head(10)[\"Humidity\"],\n",
    "    text=df.sort_values(by=['Humidity']).head(10)[\"Humidity\"],\n",
    "    textposition='auto',\n",
    "    marker_color='blue'\n",
    "), row=1, col=1)\n",
    "\n",
    "# 2. Top 10 des villes avec la meilleure moyenne de température\n",
    "fig.add_trace(go.Bar(\n",
    "    x=df.sort_values(by=['Temperature_avg'], ascending=False).head(10)[\"name\"],\n",
    "    y=df.sort_values(by=['Temperature_avg'], ascending=False).head(10)[\"Temperature_avg\"],\n",
    "    text=df.sort_values(by=['Temperature_avg'], ascending=False).head(10)[\"Temperature_avg\"],\n",
    "    textposition='auto',\n",
    "    marker_color='red'\n",
    "), row=1, col=2)\n",
    "\n",
    "# 3. Top 10 des villes avec le moins de vent\n",
    "fig.add_trace(go.Bar(\n",
    "    x=df.sort_values(by=['Wind_speed']).head(10)[\"name\"],\n",
    "    y=df.sort_values(by=['Wind_speed']).head(10)[\"Wind_speed\"],\n",
    "    text=df.sort_values(by=['Wind_speed']).head(10)[\"Wind_speed\"],\n",
    "    textposition='auto',\n",
    "    marker_color='green'\n",
    "), row=1, col=3)\n",
    "\n",
    "# 4. Top 10 des villes avec le moins de nuages\n",
    "\n",
    "# Ajouter une petite valeur à toutes les valeurs de la catégorie \"Cloudiness\"\n",
    "df['Cloudiness_adjusted'] = df['Cloudiness'] + 0.1\n",
    "\n",
    "fig.add_trace(go.Bar(\n",
    "    x=df.sort_values(by=['Cloudiness_adjusted']).head(10)[\"name\"],\n",
    "    y=df.sort_values(by=['Cloudiness_adjusted']).head(10)[\"Cloudiness_adjusted\"],\n",
    "    text=df.sort_values(by=['Cloudiness_adjusted']).head(10)[\"Cloudiness_adjusted\"],\n",
    "    textposition='auto',\n",
    "    marker_color='purple'\n",
    "), row=2, col=1)\n",
    "\n",
    "# 5. Top 10 des villes avec le risque le moins élevé de précipitation\n",
    "\n",
    "# Ajouter une petite valeur à toutes les valeurs de la catégorie \"Precipitation_prob\"\n",
    "df['Precipitation_prob_adjusted'] = df['Precipitation_prob'] + 0.1\n",
    "\n",
    "fig.add_trace(go.Bar(\n",
    "    x=df.sort_values(by=['Precipitation_prob_adjusted']).head(10)[\"name\"],\n",
    "    y=df.sort_values(by=['Precipitation_prob_adjusted']).head(10)[\"Precipitation_prob_adjusted\"],\n",
    "    text=df.sort_values(by=['Precipitation_prob_adjusted']).head(10)[\"Precipitation_prob_adjusted\"],\n",
    "    textposition='auto',\n",
    "    marker_color='orange'\n",
    "), row=2, col=2)\n",
    "\n",
    "# Mise à jour du layout\n",
    "fig.update_layout(\n",
    "    height=700, \n",
    "    width=1400,\n",
    "    showlegend=False,\n",
    "    title=\"Top 10 Cities Based on Weather Conditions\",\n",
    "    xaxis_title=\"Cities\",\n",
    "    yaxis_title=\"Value\",\n",
    "    bargap=0.2\n",
    ")\n",
    "\n",
    "fig.show()\n"
   ]
  },
  {
   "cell_type": "code",
   "execution_count": 15,
   "metadata": {},
   "outputs": [
    {
     "data": {
      "text/html": [
       "<div>\n",
       "<style scoped>\n",
       "    .dataframe tbody tr th:only-of-type {\n",
       "        vertical-align: middle;\n",
       "    }\n",
       "\n",
       "    .dataframe tbody tr th {\n",
       "        vertical-align: top;\n",
       "    }\n",
       "\n",
       "    .dataframe thead th {\n",
       "        text-align: right;\n",
       "    }\n",
       "</style>\n",
       "<table border=\"1\" class=\"dataframe\">\n",
       "  <thead>\n",
       "    <tr style=\"text-align: right;\">\n",
       "      <th></th>\n",
       "      <th>index</th>\n",
       "      <th>name</th>\n",
       "      <th>latitude</th>\n",
       "      <th>longitude</th>\n",
       "      <th>Humidity</th>\n",
       "      <th>Temperature_avg</th>\n",
       "      <th>Temperature_min</th>\n",
       "      <th>Temperature_max</th>\n",
       "      <th>Temperature_perceived</th>\n",
       "      <th>Wind_speed</th>\n",
       "      <th>Cloudiness</th>\n",
       "      <th>Precipitation_prob</th>\n",
       "      <th>Cloudiness_adjusted</th>\n",
       "      <th>Precipitation_prob_adjusted</th>\n",
       "    </tr>\n",
       "  </thead>\n",
       "  <tbody>\n",
       "    <tr>\n",
       "      <th>27</th>\n",
       "      <td>27</td>\n",
       "      <td>Collioure</td>\n",
       "      <td>42.52505</td>\n",
       "      <td>3.0831554</td>\n",
       "      <td>39</td>\n",
       "      <td>25.79</td>\n",
       "      <td>15.59</td>\n",
       "      <td>26.21</td>\n",
       "      <td>25.44</td>\n",
       "      <td>7.27</td>\n",
       "      <td>16</td>\n",
       "      <td>0</td>\n",
       "      <td>16.1</td>\n",
       "      <td>0.1</td>\n",
       "    </tr>\n",
       "    <tr>\n",
       "      <th>18</th>\n",
       "      <td>18</td>\n",
       "      <td>Bormes les Mimosas</td>\n",
       "      <td>43.1506968</td>\n",
       "      <td>6.3419285</td>\n",
       "      <td>35</td>\n",
       "      <td>25.14</td>\n",
       "      <td>16.45</td>\n",
       "      <td>25.37</td>\n",
       "      <td>24.62</td>\n",
       "      <td>10.39</td>\n",
       "      <td>7</td>\n",
       "      <td>0</td>\n",
       "      <td>7.1</td>\n",
       "      <td>0.1</td>\n",
       "    </tr>\n",
       "    <tr>\n",
       "      <th>20</th>\n",
       "      <td>20</td>\n",
       "      <td>Marseille</td>\n",
       "      <td>43.2961743</td>\n",
       "      <td>5.3699525</td>\n",
       "      <td>47</td>\n",
       "      <td>23.03</td>\n",
       "      <td>18.23</td>\n",
       "      <td>23.84</td>\n",
       "      <td>22.62</td>\n",
       "      <td>13.00</td>\n",
       "      <td>23</td>\n",
       "      <td>0</td>\n",
       "      <td>23.1</td>\n",
       "      <td>0.1</td>\n",
       "    </tr>\n",
       "    <tr>\n",
       "      <th>25</th>\n",
       "      <td>25</td>\n",
       "      <td>Aigues Mortes</td>\n",
       "      <td>43.5661521</td>\n",
       "      <td>4.19154</td>\n",
       "      <td>47</td>\n",
       "      <td>22.81</td>\n",
       "      <td>16.76</td>\n",
       "      <td>22.98</td>\n",
       "      <td>22.37</td>\n",
       "      <td>10.36</td>\n",
       "      <td>11</td>\n",
       "      <td>0</td>\n",
       "      <td>11.1</td>\n",
       "      <td>0.1</td>\n",
       "    </tr>\n",
       "    <tr>\n",
       "      <th>24</th>\n",
       "      <td>24</td>\n",
       "      <td>Nimes</td>\n",
       "      <td>43.8374249</td>\n",
       "      <td>4.3600687</td>\n",
       "      <td>45</td>\n",
       "      <td>22.63</td>\n",
       "      <td>13.86</td>\n",
       "      <td>22.73</td>\n",
       "      <td>22.12</td>\n",
       "      <td>7.82</td>\n",
       "      <td>33</td>\n",
       "      <td>21</td>\n",
       "      <td>33.1</td>\n",
       "      <td>21.1</td>\n",
       "    </tr>\n",
       "    <tr>\n",
       "      <th>22</th>\n",
       "      <td>22</td>\n",
       "      <td>Avignon</td>\n",
       "      <td>43.9492493</td>\n",
       "      <td>4.8059012</td>\n",
       "      <td>48</td>\n",
       "      <td>22.62</td>\n",
       "      <td>15.04</td>\n",
       "      <td>23.18</td>\n",
       "      <td>22.19</td>\n",
       "      <td>9.34</td>\n",
       "      <td>14</td>\n",
       "      <td>87</td>\n",
       "      <td>14.1</td>\n",
       "      <td>87.1</td>\n",
       "    </tr>\n",
       "    <tr>\n",
       "      <th>26</th>\n",
       "      <td>26</td>\n",
       "      <td>Saintes Maries de la mer</td>\n",
       "      <td>43.4515922</td>\n",
       "      <td>4.4277202</td>\n",
       "      <td>51</td>\n",
       "      <td>22.61</td>\n",
       "      <td>16.74</td>\n",
       "      <td>23.07</td>\n",
       "      <td>22.26</td>\n",
       "      <td>9.76</td>\n",
       "      <td>52</td>\n",
       "      <td>0</td>\n",
       "      <td>52.1</td>\n",
       "      <td>0.1</td>\n",
       "    </tr>\n",
       "    <tr>\n",
       "      <th>19</th>\n",
       "      <td>19</td>\n",
       "      <td>Cassis</td>\n",
       "      <td>43.2140359</td>\n",
       "      <td>5.5396318</td>\n",
       "      <td>45</td>\n",
       "      <td>22.48</td>\n",
       "      <td>17.44</td>\n",
       "      <td>22.96</td>\n",
       "      <td>21.96</td>\n",
       "      <td>12.86</td>\n",
       "      <td>35</td>\n",
       "      <td>0</td>\n",
       "      <td>35.1</td>\n",
       "      <td>0.1</td>\n",
       "    </tr>\n",
       "    <tr>\n",
       "      <th>23</th>\n",
       "      <td>23</td>\n",
       "      <td>Uzes</td>\n",
       "      <td>44.0121279</td>\n",
       "      <td>4.4196718</td>\n",
       "      <td>45</td>\n",
       "      <td>22.14</td>\n",
       "      <td>12.18</td>\n",
       "      <td>22.14</td>\n",
       "      <td>21.58</td>\n",
       "      <td>7.09</td>\n",
       "      <td>100</td>\n",
       "      <td>33</td>\n",
       "      <td>100.1</td>\n",
       "      <td>33.1</td>\n",
       "    </tr>\n",
       "    <tr>\n",
       "      <th>21</th>\n",
       "      <td>21</td>\n",
       "      <td>Aix en Provence</td>\n",
       "      <td>43.5298424</td>\n",
       "      <td>5.4474738</td>\n",
       "      <td>47</td>\n",
       "      <td>22.00</td>\n",
       "      <td>14.87</td>\n",
       "      <td>22.23</td>\n",
       "      <td>21.48</td>\n",
       "      <td>9.93</td>\n",
       "      <td>24</td>\n",
       "      <td>0</td>\n",
       "      <td>24.1</td>\n",
       "      <td>0.1</td>\n",
       "    </tr>\n",
       "  </tbody>\n",
       "</table>\n",
       "</div>"
      ],
      "text/plain": [
       "    index                      name    latitude  longitude  Humidity  \\\n",
       "27     27                 Collioure    42.52505  3.0831554        39   \n",
       "18     18        Bormes les Mimosas  43.1506968  6.3419285        35   \n",
       "20     20                 Marseille  43.2961743  5.3699525        47   \n",
       "25     25             Aigues Mortes  43.5661521    4.19154        47   \n",
       "24     24                     Nimes  43.8374249  4.3600687        45   \n",
       "22     22                   Avignon  43.9492493  4.8059012        48   \n",
       "26     26  Saintes Maries de la mer  43.4515922  4.4277202        51   \n",
       "19     19                    Cassis  43.2140359  5.5396318        45   \n",
       "23     23                      Uzes  44.0121279  4.4196718        45   \n",
       "21     21           Aix en Provence  43.5298424  5.4474738        47   \n",
       "\n",
       "    Temperature_avg  Temperature_min  Temperature_max  Temperature_perceived  \\\n",
       "27            25.79            15.59            26.21                  25.44   \n",
       "18            25.14            16.45            25.37                  24.62   \n",
       "20            23.03            18.23            23.84                  22.62   \n",
       "25            22.81            16.76            22.98                  22.37   \n",
       "24            22.63            13.86            22.73                  22.12   \n",
       "22            22.62            15.04            23.18                  22.19   \n",
       "26            22.61            16.74            23.07                  22.26   \n",
       "19            22.48            17.44            22.96                  21.96   \n",
       "23            22.14            12.18            22.14                  21.58   \n",
       "21            22.00            14.87            22.23                  21.48   \n",
       "\n",
       "    Wind_speed  Cloudiness  Precipitation_prob  Cloudiness_adjusted  \\\n",
       "27        7.27          16                   0                 16.1   \n",
       "18       10.39           7                   0                  7.1   \n",
       "20       13.00          23                   0                 23.1   \n",
       "25       10.36          11                   0                 11.1   \n",
       "24        7.82          33                  21                 33.1   \n",
       "22        9.34          14                  87                 14.1   \n",
       "26        9.76          52                   0                 52.1   \n",
       "19       12.86          35                   0                 35.1   \n",
       "23        7.09         100                  33                100.1   \n",
       "21        9.93          24                   0                 24.1   \n",
       "\n",
       "    Precipitation_prob_adjusted  \n",
       "27                          0.1  \n",
       "18                          0.1  \n",
       "20                          0.1  \n",
       "25                          0.1  \n",
       "24                         21.1  \n",
       "22                         87.1  \n",
       "26                          0.1  \n",
       "19                          0.1  \n",
       "23                         33.1  \n",
       "21                          0.1  "
      ]
     },
     "execution_count": 15,
     "metadata": {},
     "output_type": "execute_result"
    }
   ],
   "source": [
    "# Tri par ordre croissant de la catégorie \"temperature_avg\"\n",
    "df_cities_sorted = df.sort_values(by='Temperature_avg', ascending=False)\n",
    "\n",
    "# Affichage des premières lignes du DataFrame trié\n",
    "df_cities_sorted.head(10)\n"
   ]
  },
  {
   "cell_type": "code",
   "execution_count": 16,
   "metadata": {},
   "outputs": [
    {
     "data": {
      "text/html": [
       "<div>\n",
       "<style scoped>\n",
       "    .dataframe tbody tr th:only-of-type {\n",
       "        vertical-align: middle;\n",
       "    }\n",
       "\n",
       "    .dataframe tbody tr th {\n",
       "        vertical-align: top;\n",
       "    }\n",
       "\n",
       "    .dataframe thead th {\n",
       "        text-align: right;\n",
       "    }\n",
       "</style>\n",
       "<table border=\"1\" class=\"dataframe\">\n",
       "  <thead>\n",
       "    <tr style=\"text-align: right;\">\n",
       "      <th></th>\n",
       "      <th>index</th>\n",
       "      <th>name</th>\n",
       "      <th>latitude</th>\n",
       "      <th>longitude</th>\n",
       "      <th>Humidity</th>\n",
       "      <th>Temperature_avg</th>\n",
       "      <th>Temperature_min</th>\n",
       "      <th>Temperature_max</th>\n",
       "      <th>Temperature_perceived</th>\n",
       "      <th>Wind_speed</th>\n",
       "      <th>Cloudiness</th>\n",
       "      <th>Precipitation_prob</th>\n",
       "      <th>Cloudiness_adjusted</th>\n",
       "      <th>Precipitation_prob_adjusted</th>\n",
       "    </tr>\n",
       "  </thead>\n",
       "  <tbody>\n",
       "    <tr>\n",
       "      <th>27</th>\n",
       "      <td>27</td>\n",
       "      <td>Collioure</td>\n",
       "      <td>42.52505</td>\n",
       "      <td>3.0831554</td>\n",
       "      <td>39</td>\n",
       "      <td>25.79</td>\n",
       "      <td>15.59</td>\n",
       "      <td>26.21</td>\n",
       "      <td>25.44</td>\n",
       "      <td>7.27</td>\n",
       "      <td>16</td>\n",
       "      <td>0</td>\n",
       "      <td>16.1</td>\n",
       "      <td>0.1</td>\n",
       "    </tr>\n",
       "    <tr>\n",
       "      <th>18</th>\n",
       "      <td>18</td>\n",
       "      <td>Bormes les Mimosas</td>\n",
       "      <td>43.1506968</td>\n",
       "      <td>6.3419285</td>\n",
       "      <td>35</td>\n",
       "      <td>25.14</td>\n",
       "      <td>16.45</td>\n",
       "      <td>25.37</td>\n",
       "      <td>24.62</td>\n",
       "      <td>10.39</td>\n",
       "      <td>7</td>\n",
       "      <td>0</td>\n",
       "      <td>7.1</td>\n",
       "      <td>0.1</td>\n",
       "    </tr>\n",
       "    <tr>\n",
       "      <th>20</th>\n",
       "      <td>20</td>\n",
       "      <td>Marseille</td>\n",
       "      <td>43.2961743</td>\n",
       "      <td>5.3699525</td>\n",
       "      <td>47</td>\n",
       "      <td>23.03</td>\n",
       "      <td>18.23</td>\n",
       "      <td>23.84</td>\n",
       "      <td>22.62</td>\n",
       "      <td>13.00</td>\n",
       "      <td>23</td>\n",
       "      <td>0</td>\n",
       "      <td>23.1</td>\n",
       "      <td>0.1</td>\n",
       "    </tr>\n",
       "    <tr>\n",
       "      <th>25</th>\n",
       "      <td>25</td>\n",
       "      <td>Aigues Mortes</td>\n",
       "      <td>43.5661521</td>\n",
       "      <td>4.19154</td>\n",
       "      <td>47</td>\n",
       "      <td>22.81</td>\n",
       "      <td>16.76</td>\n",
       "      <td>22.98</td>\n",
       "      <td>22.37</td>\n",
       "      <td>10.36</td>\n",
       "      <td>11</td>\n",
       "      <td>0</td>\n",
       "      <td>11.1</td>\n",
       "      <td>0.1</td>\n",
       "    </tr>\n",
       "    <tr>\n",
       "      <th>24</th>\n",
       "      <td>24</td>\n",
       "      <td>Nimes</td>\n",
       "      <td>43.8374249</td>\n",
       "      <td>4.3600687</td>\n",
       "      <td>45</td>\n",
       "      <td>22.63</td>\n",
       "      <td>13.86</td>\n",
       "      <td>22.73</td>\n",
       "      <td>22.12</td>\n",
       "      <td>7.82</td>\n",
       "      <td>33</td>\n",
       "      <td>21</td>\n",
       "      <td>33.1</td>\n",
       "      <td>21.1</td>\n",
       "    </tr>\n",
       "  </tbody>\n",
       "</table>\n",
       "</div>"
      ],
      "text/plain": [
       "    index                name    latitude  longitude  Humidity  \\\n",
       "27     27           Collioure    42.52505  3.0831554        39   \n",
       "18     18  Bormes les Mimosas  43.1506968  6.3419285        35   \n",
       "20     20           Marseille  43.2961743  5.3699525        47   \n",
       "25     25       Aigues Mortes  43.5661521    4.19154        47   \n",
       "24     24               Nimes  43.8374249  4.3600687        45   \n",
       "\n",
       "    Temperature_avg  Temperature_min  Temperature_max  Temperature_perceived  \\\n",
       "27            25.79            15.59            26.21                  25.44   \n",
       "18            25.14            16.45            25.37                  24.62   \n",
       "20            23.03            18.23            23.84                  22.62   \n",
       "25            22.81            16.76            22.98                  22.37   \n",
       "24            22.63            13.86            22.73                  22.12   \n",
       "\n",
       "    Wind_speed  Cloudiness  Precipitation_prob  Cloudiness_adjusted  \\\n",
       "27        7.27          16                   0                 16.1   \n",
       "18       10.39           7                   0                  7.1   \n",
       "20       13.00          23                   0                 23.1   \n",
       "25       10.36          11                   0                 11.1   \n",
       "24        7.82          33                  21                 33.1   \n",
       "\n",
       "    Precipitation_prob_adjusted  \n",
       "27                          0.1  \n",
       "18                          0.1  \n",
       "20                          0.1  \n",
       "25                          0.1  \n",
       "24                         21.1  "
      ]
     },
     "metadata": {},
     "output_type": "display_data"
    }
   ],
   "source": [
    "top5_city=df_cities_sorted[0:5]\n",
    "display(top5_city)"
   ]
  },
  {
   "cell_type": "code",
   "execution_count": 17,
   "metadata": {},
   "outputs": [],
   "source": [
    "# Sauvegarder le dataframe en .csv\n",
    "top5_city.to_csv(\"files/top_5city.csv\")"
   ]
  },
  {
   "cell_type": "code",
   "execution_count": 18,
   "metadata": {},
   "outputs": [
    {
     "data": {
      "application/vnd.plotly.v1+json": {
       "config": {
        "plotlyServerURL": "https://plot.ly"
       },
       "data": [
        {
         "hovertemplate": "Cloudiness_adjusted=%{marker.size}<br>latitude=%{lat}<br>longitude=%{lon}<br>Temperature_avg=%{marker.color}<extra></extra>",
         "lat": [
          42.52505,
          43.1506968,
          43.2961743,
          43.5661521,
          43.8374249,
          43.9492493,
          43.4515922,
          43.2140359,
          44.0121279,
          43.5298424,
          43.2130358,
          43.7496562,
          44.0175835,
          43.6044622,
          45.1875602,
          43.4832523,
          43.4945144,
          45.7578137,
          46.1591126,
          49.2764624,
          42.9455368,
          48.6359541,
          50.6365654,
          49.4404591,
          48.649518,
          49.4938975,
          48.8588897,
          45.8992348,
          49.8941708,
          48.0447968,
          48.0777517,
          47.3215806,
          48.584614,
          47.2380222,
          48.249410749999996
         ],
         "legendgroup": "",
         "lon": [
          3.0831554,
          6.3419285,
          5.3699525,
          4.19154,
          4.3600687,
          4.8059012,
          4.4277202,
          5.5396318,
          4.4196718,
          5.4474738,
          2.3491069,
          6.3285616,
          1.3549991,
          1.4442469,
          5.7357819,
          -1.5592776,
          -1.4736657,
          4.8320114,
          -1.1520434,
          -0.7024738,
          1.4065544156065486,
          -1.511459954959514,
          3.0635282,
          1.0939658,
          -2.0260409,
          0.1079732,
          2.3200410217200766,
          6.1288847,
          2.2956951,
          7.3079618,
          7.3579641,
          5.0414701,
          7.7507127,
          6.0243622,
          7.344320233724503
         ],
         "marker": {
          "color": [
           25.79,
           25.14,
           23.03,
           22.81,
           22.63,
           22.62,
           22.61,
           22.48,
           22.14,
           22,
           21.8,
           20.75,
           19.96,
           19.78,
           18.88,
           18.7,
           18.61,
           17.49,
           17.14,
           15.77,
           15.75,
           15.73,
           15.37,
           15.35,
           15.32,
           15.22,
           15.15,
           14.99,
           14.93,
           14.9,
           14.9,
           14.4,
           13.69,
           13.26,
           11.42
          ],
          "coloraxis": "coloraxis",
          "size": [
           16.1,
           7.1,
           23.1,
           11.1,
           33.1,
           14.1,
           52.1,
           35.1,
           100.1,
           24.1,
           79.1,
           10.1,
           100.1,
           80.1,
           100.1,
           100.1,
           100.1,
           80.1,
           0.1,
           100.1,
           66.1,
           100.1,
           65.1,
           78.1,
           100.1,
           80.1,
           80.1,
           100.1,
           96.1,
           100.1,
           100.1,
           100.1,
           100.1,
           100.1,
           100.1
          ],
          "sizemode": "area",
          "sizeref": 0.25025
         },
         "mode": "markers",
         "name": "",
         "showlegend": false,
         "subplot": "mapbox",
         "type": "scattermapbox"
        }
       ],
       "layout": {
        "coloraxis": {
         "colorbar": {
          "title": {
           "text": "Temperature_avg"
          }
         },
         "colorscale": [
          [
           0,
           "#0d0887"
          ],
          [
           0.1111111111111111,
           "#46039f"
          ],
          [
           0.2222222222222222,
           "#7201a8"
          ],
          [
           0.3333333333333333,
           "#9c179e"
          ],
          [
           0.4444444444444444,
           "#bd3786"
          ],
          [
           0.5555555555555556,
           "#d8576b"
          ],
          [
           0.6666666666666666,
           "#ed7953"
          ],
          [
           0.7777777777777778,
           "#fb9f3a"
          ],
          [
           0.8888888888888888,
           "#fdca26"
          ],
          [
           1,
           "#f0f921"
          ]
         ]
        },
        "height": 860,
        "legend": {
         "itemsizing": "constant",
         "tracegroupgap": 0
        },
        "mapbox": {
         "center": {
          "lat": 45.841320038571425,
          "lon": 3.395720683316903
         },
         "domain": {
          "x": [
           0,
           1
          ],
          "y": [
           0,
           1
          ]
         },
         "style": "carto-positron",
         "zoom": 4
        },
        "template": {
         "data": {
          "bar": [
           {
            "error_x": {
             "color": "#2a3f5f"
            },
            "error_y": {
             "color": "#2a3f5f"
            },
            "marker": {
             "line": {
              "color": "#E5ECF6",
              "width": 0.5
             },
             "pattern": {
              "fillmode": "overlay",
              "size": 10,
              "solidity": 0.2
             }
            },
            "type": "bar"
           }
          ],
          "barpolar": [
           {
            "marker": {
             "line": {
              "color": "#E5ECF6",
              "width": 0.5
             },
             "pattern": {
              "fillmode": "overlay",
              "size": 10,
              "solidity": 0.2
             }
            },
            "type": "barpolar"
           }
          ],
          "carpet": [
           {
            "aaxis": {
             "endlinecolor": "#2a3f5f",
             "gridcolor": "white",
             "linecolor": "white",
             "minorgridcolor": "white",
             "startlinecolor": "#2a3f5f"
            },
            "baxis": {
             "endlinecolor": "#2a3f5f",
             "gridcolor": "white",
             "linecolor": "white",
             "minorgridcolor": "white",
             "startlinecolor": "#2a3f5f"
            },
            "type": "carpet"
           }
          ],
          "choropleth": [
           {
            "colorbar": {
             "outlinewidth": 0,
             "ticks": ""
            },
            "type": "choropleth"
           }
          ],
          "contour": [
           {
            "colorbar": {
             "outlinewidth": 0,
             "ticks": ""
            },
            "colorscale": [
             [
              0,
              "#0d0887"
             ],
             [
              0.1111111111111111,
              "#46039f"
             ],
             [
              0.2222222222222222,
              "#7201a8"
             ],
             [
              0.3333333333333333,
              "#9c179e"
             ],
             [
              0.4444444444444444,
              "#bd3786"
             ],
             [
              0.5555555555555556,
              "#d8576b"
             ],
             [
              0.6666666666666666,
              "#ed7953"
             ],
             [
              0.7777777777777778,
              "#fb9f3a"
             ],
             [
              0.8888888888888888,
              "#fdca26"
             ],
             [
              1,
              "#f0f921"
             ]
            ],
            "type": "contour"
           }
          ],
          "contourcarpet": [
           {
            "colorbar": {
             "outlinewidth": 0,
             "ticks": ""
            },
            "type": "contourcarpet"
           }
          ],
          "heatmap": [
           {
            "colorbar": {
             "outlinewidth": 0,
             "ticks": ""
            },
            "colorscale": [
             [
              0,
              "#0d0887"
             ],
             [
              0.1111111111111111,
              "#46039f"
             ],
             [
              0.2222222222222222,
              "#7201a8"
             ],
             [
              0.3333333333333333,
              "#9c179e"
             ],
             [
              0.4444444444444444,
              "#bd3786"
             ],
             [
              0.5555555555555556,
              "#d8576b"
             ],
             [
              0.6666666666666666,
              "#ed7953"
             ],
             [
              0.7777777777777778,
              "#fb9f3a"
             ],
             [
              0.8888888888888888,
              "#fdca26"
             ],
             [
              1,
              "#f0f921"
             ]
            ],
            "type": "heatmap"
           }
          ],
          "heatmapgl": [
           {
            "colorbar": {
             "outlinewidth": 0,
             "ticks": ""
            },
            "colorscale": [
             [
              0,
              "#0d0887"
             ],
             [
              0.1111111111111111,
              "#46039f"
             ],
             [
              0.2222222222222222,
              "#7201a8"
             ],
             [
              0.3333333333333333,
              "#9c179e"
             ],
             [
              0.4444444444444444,
              "#bd3786"
             ],
             [
              0.5555555555555556,
              "#d8576b"
             ],
             [
              0.6666666666666666,
              "#ed7953"
             ],
             [
              0.7777777777777778,
              "#fb9f3a"
             ],
             [
              0.8888888888888888,
              "#fdca26"
             ],
             [
              1,
              "#f0f921"
             ]
            ],
            "type": "heatmapgl"
           }
          ],
          "histogram": [
           {
            "marker": {
             "pattern": {
              "fillmode": "overlay",
              "size": 10,
              "solidity": 0.2
             }
            },
            "type": "histogram"
           }
          ],
          "histogram2d": [
           {
            "colorbar": {
             "outlinewidth": 0,
             "ticks": ""
            },
            "colorscale": [
             [
              0,
              "#0d0887"
             ],
             [
              0.1111111111111111,
              "#46039f"
             ],
             [
              0.2222222222222222,
              "#7201a8"
             ],
             [
              0.3333333333333333,
              "#9c179e"
             ],
             [
              0.4444444444444444,
              "#bd3786"
             ],
             [
              0.5555555555555556,
              "#d8576b"
             ],
             [
              0.6666666666666666,
              "#ed7953"
             ],
             [
              0.7777777777777778,
              "#fb9f3a"
             ],
             [
              0.8888888888888888,
              "#fdca26"
             ],
             [
              1,
              "#f0f921"
             ]
            ],
            "type": "histogram2d"
           }
          ],
          "histogram2dcontour": [
           {
            "colorbar": {
             "outlinewidth": 0,
             "ticks": ""
            },
            "colorscale": [
             [
              0,
              "#0d0887"
             ],
             [
              0.1111111111111111,
              "#46039f"
             ],
             [
              0.2222222222222222,
              "#7201a8"
             ],
             [
              0.3333333333333333,
              "#9c179e"
             ],
             [
              0.4444444444444444,
              "#bd3786"
             ],
             [
              0.5555555555555556,
              "#d8576b"
             ],
             [
              0.6666666666666666,
              "#ed7953"
             ],
             [
              0.7777777777777778,
              "#fb9f3a"
             ],
             [
              0.8888888888888888,
              "#fdca26"
             ],
             [
              1,
              "#f0f921"
             ]
            ],
            "type": "histogram2dcontour"
           }
          ],
          "mesh3d": [
           {
            "colorbar": {
             "outlinewidth": 0,
             "ticks": ""
            },
            "type": "mesh3d"
           }
          ],
          "parcoords": [
           {
            "line": {
             "colorbar": {
              "outlinewidth": 0,
              "ticks": ""
             }
            },
            "type": "parcoords"
           }
          ],
          "pie": [
           {
            "automargin": true,
            "type": "pie"
           }
          ],
          "scatter": [
           {
            "fillpattern": {
             "fillmode": "overlay",
             "size": 10,
             "solidity": 0.2
            },
            "type": "scatter"
           }
          ],
          "scatter3d": [
           {
            "line": {
             "colorbar": {
              "outlinewidth": 0,
              "ticks": ""
             }
            },
            "marker": {
             "colorbar": {
              "outlinewidth": 0,
              "ticks": ""
             }
            },
            "type": "scatter3d"
           }
          ],
          "scattercarpet": [
           {
            "marker": {
             "colorbar": {
              "outlinewidth": 0,
              "ticks": ""
             }
            },
            "type": "scattercarpet"
           }
          ],
          "scattergeo": [
           {
            "marker": {
             "colorbar": {
              "outlinewidth": 0,
              "ticks": ""
             }
            },
            "type": "scattergeo"
           }
          ],
          "scattergl": [
           {
            "marker": {
             "colorbar": {
              "outlinewidth": 0,
              "ticks": ""
             }
            },
            "type": "scattergl"
           }
          ],
          "scattermapbox": [
           {
            "marker": {
             "colorbar": {
              "outlinewidth": 0,
              "ticks": ""
             }
            },
            "type": "scattermapbox"
           }
          ],
          "scatterpolar": [
           {
            "marker": {
             "colorbar": {
              "outlinewidth": 0,
              "ticks": ""
             }
            },
            "type": "scatterpolar"
           }
          ],
          "scatterpolargl": [
           {
            "marker": {
             "colorbar": {
              "outlinewidth": 0,
              "ticks": ""
             }
            },
            "type": "scatterpolargl"
           }
          ],
          "scatterternary": [
           {
            "marker": {
             "colorbar": {
              "outlinewidth": 0,
              "ticks": ""
             }
            },
            "type": "scatterternary"
           }
          ],
          "surface": [
           {
            "colorbar": {
             "outlinewidth": 0,
             "ticks": ""
            },
            "colorscale": [
             [
              0,
              "#0d0887"
             ],
             [
              0.1111111111111111,
              "#46039f"
             ],
             [
              0.2222222222222222,
              "#7201a8"
             ],
             [
              0.3333333333333333,
              "#9c179e"
             ],
             [
              0.4444444444444444,
              "#bd3786"
             ],
             [
              0.5555555555555556,
              "#d8576b"
             ],
             [
              0.6666666666666666,
              "#ed7953"
             ],
             [
              0.7777777777777778,
              "#fb9f3a"
             ],
             [
              0.8888888888888888,
              "#fdca26"
             ],
             [
              1,
              "#f0f921"
             ]
            ],
            "type": "surface"
           }
          ],
          "table": [
           {
            "cells": {
             "fill": {
              "color": "#EBF0F8"
             },
             "line": {
              "color": "white"
             }
            },
            "header": {
             "fill": {
              "color": "#C8D4E3"
             },
             "line": {
              "color": "white"
             }
            },
            "type": "table"
           }
          ]
         },
         "layout": {
          "annotationdefaults": {
           "arrowcolor": "#2a3f5f",
           "arrowhead": 0,
           "arrowwidth": 1
          },
          "autotypenumbers": "strict",
          "coloraxis": {
           "colorbar": {
            "outlinewidth": 0,
            "ticks": ""
           }
          },
          "colorscale": {
           "diverging": [
            [
             0,
             "#8e0152"
            ],
            [
             0.1,
             "#c51b7d"
            ],
            [
             0.2,
             "#de77ae"
            ],
            [
             0.3,
             "#f1b6da"
            ],
            [
             0.4,
             "#fde0ef"
            ],
            [
             0.5,
             "#f7f7f7"
            ],
            [
             0.6,
             "#e6f5d0"
            ],
            [
             0.7,
             "#b8e186"
            ],
            [
             0.8,
             "#7fbc41"
            ],
            [
             0.9,
             "#4d9221"
            ],
            [
             1,
             "#276419"
            ]
           ],
           "sequential": [
            [
             0,
             "#0d0887"
            ],
            [
             0.1111111111111111,
             "#46039f"
            ],
            [
             0.2222222222222222,
             "#7201a8"
            ],
            [
             0.3333333333333333,
             "#9c179e"
            ],
            [
             0.4444444444444444,
             "#bd3786"
            ],
            [
             0.5555555555555556,
             "#d8576b"
            ],
            [
             0.6666666666666666,
             "#ed7953"
            ],
            [
             0.7777777777777778,
             "#fb9f3a"
            ],
            [
             0.8888888888888888,
             "#fdca26"
            ],
            [
             1,
             "#f0f921"
            ]
           ],
           "sequentialminus": [
            [
             0,
             "#0d0887"
            ],
            [
             0.1111111111111111,
             "#46039f"
            ],
            [
             0.2222222222222222,
             "#7201a8"
            ],
            [
             0.3333333333333333,
             "#9c179e"
            ],
            [
             0.4444444444444444,
             "#bd3786"
            ],
            [
             0.5555555555555556,
             "#d8576b"
            ],
            [
             0.6666666666666666,
             "#ed7953"
            ],
            [
             0.7777777777777778,
             "#fb9f3a"
            ],
            [
             0.8888888888888888,
             "#fdca26"
            ],
            [
             1,
             "#f0f921"
            ]
           ]
          },
          "colorway": [
           "#636efa",
           "#EF553B",
           "#00cc96",
           "#ab63fa",
           "#FFA15A",
           "#19d3f3",
           "#FF6692",
           "#B6E880",
           "#FF97FF",
           "#FECB52"
          ],
          "font": {
           "color": "#2a3f5f"
          },
          "geo": {
           "bgcolor": "white",
           "lakecolor": "white",
           "landcolor": "#E5ECF6",
           "showlakes": true,
           "showland": true,
           "subunitcolor": "white"
          },
          "hoverlabel": {
           "align": "left"
          },
          "hovermode": "closest",
          "mapbox": {
           "style": "light"
          },
          "paper_bgcolor": "white",
          "plot_bgcolor": "#E5ECF6",
          "polar": {
           "angularaxis": {
            "gridcolor": "white",
            "linecolor": "white",
            "ticks": ""
           },
           "bgcolor": "#E5ECF6",
           "radialaxis": {
            "gridcolor": "white",
            "linecolor": "white",
            "ticks": ""
           }
          },
          "scene": {
           "xaxis": {
            "backgroundcolor": "#E5ECF6",
            "gridcolor": "white",
            "gridwidth": 2,
            "linecolor": "white",
            "showbackground": true,
            "ticks": "",
            "zerolinecolor": "white"
           },
           "yaxis": {
            "backgroundcolor": "#E5ECF6",
            "gridcolor": "white",
            "gridwidth": 2,
            "linecolor": "white",
            "showbackground": true,
            "ticks": "",
            "zerolinecolor": "white"
           },
           "zaxis": {
            "backgroundcolor": "#E5ECF6",
            "gridcolor": "white",
            "gridwidth": 2,
            "linecolor": "white",
            "showbackground": true,
            "ticks": "",
            "zerolinecolor": "white"
           }
          },
          "shapedefaults": {
           "line": {
            "color": "#2a3f5f"
           }
          },
          "ternary": {
           "aaxis": {
            "gridcolor": "white",
            "linecolor": "white",
            "ticks": ""
           },
           "baxis": {
            "gridcolor": "white",
            "linecolor": "white",
            "ticks": ""
           },
           "bgcolor": "#E5ECF6",
           "caxis": {
            "gridcolor": "white",
            "linecolor": "white",
            "ticks": ""
           }
          },
          "title": {
           "x": 0.05
          },
          "xaxis": {
           "automargin": true,
           "gridcolor": "white",
           "linecolor": "white",
           "ticks": "",
           "title": {
            "standoff": 15
           },
           "zerolinecolor": "white",
           "zerolinewidth": 2
          },
          "yaxis": {
           "automargin": true,
           "gridcolor": "white",
           "linecolor": "white",
           "ticks": "",
           "title": {
            "standoff": 15
           },
           "zerolinecolor": "white",
           "zerolinewidth": 2
          }
         }
        },
        "title": {
         "text": "Moyenne des températures pour les villes du dataset"
        },
        "width": 800
       }
      }
     },
     "metadata": {},
     "output_type": "display_data"
    }
   ],
   "source": [
    "#Création du graphique\n",
    "df_final = df_cities_sorted.astype({\"latitude\": float, \"longitude\": float})\n",
    "\n",
    "fig = px.scatter_mapbox(df_final, lat=\"latitude\", lon=\"longitude\",\n",
    "                  \n",
    "                            mapbox_style=\"carto-positron\",zoom=4, width = 800,  height =860,\n",
    "                            title = 'Moyenne des températures pour les villes du dataset',\n",
    "                            color='Temperature_avg',\n",
    "                            size = 'Cloudiness_adjusted'\n",
    "                          \n",
    "            )\n",
    "fig.show()"
   ]
  },
  {
   "cell_type": "markdown",
   "metadata": {},
   "source": [
    "## Scrapping"
   ]
  },
  {
   "cell_type": "code",
   "execution_count": 19,
   "metadata": {},
   "outputs": [
    {
     "name": "stderr",
     "output_type": "stream",
     "text": [
      "2024-09-11 13:33:20 [scrapy.utils.log] INFO: Scrapy 2.11.1 started (bot: scrapybot)\n",
      "2024-09-11 13:33:20 [scrapy.utils.log] INFO: Versions: lxml 5.2.1.0, libxml2 2.11.7, cssselect 1.2.0, parsel 1.9.1, w3lib 2.1.2, Twisted 24.3.0, Python 3.12.2 | packaged by conda-forge | (main, Feb 16 2024, 20:42:31) [MSC v.1937 64 bit (AMD64)], pyOpenSSL 24.1.0 (OpenSSL 3.2.1 30 Jan 2024), cryptography 42.0.5, Platform Windows-11-10.0.22631-SP0\n",
      "2024-09-11 13:33:20 [scrapy.addons] INFO: Enabled addons:\n",
      "[]\n",
      "2024-09-11 13:33:20 [py.warnings] WARNING: c:\\Users\\mouto\\anaconda3\\envs\\jedha\\Lib\\site-packages\\scrapy\\utils\\request.py:254: ScrapyDeprecationWarning:\n",
      "\n",
      "'2.6' is a deprecated value for the 'REQUEST_FINGERPRINTER_IMPLEMENTATION' setting.\n",
      "\n",
      "It is also the default value. In other words, it is normal to get this warning if you have not defined a value for the 'REQUEST_FINGERPRINTER_IMPLEMENTATION' setting. This is so for backward compatibility reasons, but it will change in a future version of Scrapy.\n",
      "\n",
      "See the documentation of the 'REQUEST_FINGERPRINTER_IMPLEMENTATION' setting for information on how to handle this deprecation.\n",
      "\n",
      "\n",
      "2024-09-11 13:33:20 [scrapy.extensions.telnet] INFO: Telnet Password: 6ce2d731592fa652\n",
      "2024-09-11 13:33:21 [scrapy.middleware] INFO: Enabled extensions:\n",
      "['scrapy.extensions.corestats.CoreStats',\n",
      " 'scrapy.extensions.telnet.TelnetConsole',\n",
      " 'scrapy.extensions.feedexport.FeedExporter',\n",
      " 'scrapy.extensions.logstats.LogStats']\n",
      "2024-09-11 13:33:21 [scrapy.crawler] INFO: Overridden settings:\n",
      "{'LOG_LEVEL': 20,\n",
      " 'USER_AGENT': 'Mozilla/5.0 (Windows NT 10.0; Win64; x64; rv:109.0) '\n",
      "               'Gecko/20100101 Firefox/118.0'}\n",
      "2024-09-11 13:33:21 [scrapy.middleware] INFO: Enabled downloader middlewares:\n",
      "['scrapy.downloadermiddlewares.httpauth.HttpAuthMiddleware',\n",
      " 'scrapy.downloadermiddlewares.downloadtimeout.DownloadTimeoutMiddleware',\n",
      " 'scrapy.downloadermiddlewares.defaultheaders.DefaultHeadersMiddleware',\n",
      " 'scrapy.downloadermiddlewares.useragent.UserAgentMiddleware',\n",
      " 'scrapy.downloadermiddlewares.retry.RetryMiddleware',\n",
      " 'scrapy.downloadermiddlewares.redirect.MetaRefreshMiddleware',\n",
      " 'scrapy.downloadermiddlewares.httpcompression.HttpCompressionMiddleware',\n",
      " 'scrapy.downloadermiddlewares.redirect.RedirectMiddleware',\n",
      " 'scrapy.downloadermiddlewares.cookies.CookiesMiddleware',\n",
      " 'scrapy.downloadermiddlewares.httpproxy.HttpProxyMiddleware',\n",
      " 'scrapy.downloadermiddlewares.stats.DownloaderStats']\n",
      "2024-09-11 13:33:21 [scrapy.middleware] INFO: Enabled spider middlewares:\n",
      "['scrapy.spidermiddlewares.httperror.HttpErrorMiddleware',\n",
      " 'scrapy.spidermiddlewares.offsite.OffsiteMiddleware',\n",
      " 'scrapy.spidermiddlewares.referer.RefererMiddleware',\n",
      " 'scrapy.spidermiddlewares.urllength.UrlLengthMiddleware',\n",
      " 'scrapy.spidermiddlewares.depth.DepthMiddleware']\n",
      "2024-09-11 13:33:21 [scrapy.middleware] INFO: Enabled item pipelines:\n",
      "[]\n",
      "2024-09-11 13:33:21 [scrapy.core.engine] INFO: Spider opened\n",
      "2024-09-11 13:33:21 [scrapy.extensions.logstats] INFO: Crawled 0 pages (at 0 pages/min), scraped 0 items (at 0 items/min)\n",
      "2024-09-11 13:33:21 [scrapy.extensions.telnet] INFO: Telnet console listening on 127.0.0.1:6023\n",
      "2024-09-11 13:33:44 [scrapy.core.engine] INFO: Closing spider (finished)\n",
      "2024-09-11 13:33:44 [scrapy.extensions.feedexport] INFO: Stored json feed (125 items) in: files/booking_spider.json\n",
      "2024-09-11 13:33:44 [scrapy.statscollectors] INFO: Dumping Scrapy stats:\n",
      "{'downloader/request_bytes': 192880,\n",
      " 'downloader/request_count': 132,\n",
      " 'downloader/request_method_count/GET': 132,\n",
      " 'downloader/response_bytes': 35031828,\n",
      " 'downloader/response_count': 132,\n",
      " 'downloader/response_status_count/200': 131,\n",
      " 'downloader/response_status_count/302': 1,\n",
      " 'elapsed_time_seconds': 23.116109,\n",
      " 'feedexport/success_count/FileFeedStorage': 1,\n",
      " 'finish_reason': 'finished',\n",
      " 'finish_time': datetime.datetime(2024, 9, 11, 11, 33, 44, 285497, tzinfo=datetime.timezone.utc),\n",
      " 'httpcompression/response_bytes': 162770512,\n",
      " 'httpcompression/response_count': 131,\n",
      " 'item_scraped_count': 125,\n",
      " 'log_count/INFO': 11,\n",
      " 'log_count/WARNING': 1,\n",
      " 'request_depth_max': 2,\n",
      " 'response_received_count': 131,\n",
      " 'scheduler/dequeued': 132,\n",
      " 'scheduler/dequeued/memory': 132,\n",
      " 'scheduler/enqueued': 132,\n",
      " 'scheduler/enqueued/memory': 132,\n",
      " 'start_time': datetime.datetime(2024, 9, 11, 11, 33, 21, 169388, tzinfo=datetime.timezone.utc)}\n",
      "2024-09-11 13:33:44 [scrapy.core.engine] INFO: Spider closed (finished)\n"
     ]
    }
   ],
   "source": [
    "# Lancement de la spider contenue dans le dossier Scrap\n",
    "%run booking_spider.py"
   ]
  },
  {
   "cell_type": "code",
   "execution_count": 20,
   "metadata": {},
   "outputs": [
    {
     "data": {
      "text/html": [
       "<div>\n",
       "<style scoped>\n",
       "    .dataframe tbody tr th:only-of-type {\n",
       "        vertical-align: middle;\n",
       "    }\n",
       "\n",
       "    .dataframe tbody tr th {\n",
       "        vertical-align: top;\n",
       "    }\n",
       "\n",
       "    .dataframe thead th {\n",
       "        text-align: right;\n",
       "    }\n",
       "</style>\n",
       "<table border=\"1\" class=\"dataframe\">\n",
       "  <thead>\n",
       "    <tr style=\"text-align: right;\">\n",
       "      <th></th>\n",
       "      <th>city</th>\n",
       "      <th>name</th>\n",
       "      <th>note</th>\n",
       "      <th>url</th>\n",
       "      <th>description</th>\n",
       "      <th>depth</th>\n",
       "      <th>download_timeout</th>\n",
       "      <th>download_slot</th>\n",
       "      <th>download_latency</th>\n",
       "      <th>gps_hotel</th>\n",
       "    </tr>\n",
       "  </thead>\n",
       "  <tbody>\n",
       "    <tr>\n",
       "      <th>0</th>\n",
       "      <td>Nimes</td>\n",
       "      <td>à 10mn des arènes f2 au calme avec garage gratuit</td>\n",
       "      <td>8,4</td>\n",
       "      <td>https://www.booking.com/hotel/fr/logement-tout...</td>\n",
       "      <td>Situé à Nîmes, en Occitanie, à proximité du pa...</td>\n",
       "      <td>2</td>\n",
       "      <td>180</td>\n",
       "      <td>www.booking.com</td>\n",
       "      <td>0.596288</td>\n",
       "      <td>43.82838120,4.36336300</td>\n",
       "    </tr>\n",
       "    <tr>\n",
       "      <th>1</th>\n",
       "      <td>Nimes</td>\n",
       "      <td>Hotel Concorde</td>\n",
       "      <td>6,9</td>\n",
       "      <td>https://www.booking.com/hotel/fr/concorde-nime...</td>\n",
       "      <td>Situé dans une rue piétonne du centre de Nîmes...</td>\n",
       "      <td>2</td>\n",
       "      <td>180</td>\n",
       "      <td>www.booking.com</td>\n",
       "      <td>0.637275</td>\n",
       "      <td>43.83612815,4.36126995</td>\n",
       "    </tr>\n",
       "    <tr>\n",
       "      <th>2</th>\n",
       "      <td>Nimes</td>\n",
       "      <td>Studio Nîmes Centre</td>\n",
       "      <td>8,2</td>\n",
       "      <td>https://www.booking.com/hotel/fr/studio-boucar...</td>\n",
       "      <td>Le Studio Nîmes Centre propose des hébergement...</td>\n",
       "      <td>2</td>\n",
       "      <td>180</td>\n",
       "      <td>www.booking.com</td>\n",
       "      <td>0.625533</td>\n",
       "      <td>43.83976280,4.35694199</td>\n",
       "    </tr>\n",
       "    <tr>\n",
       "      <th>3</th>\n",
       "      <td>Nimes</td>\n",
       "      <td>Appartement avec terrasse panoramique au coeur...</td>\n",
       "      <td>9,2</td>\n",
       "      <td>https://www.booking.com/hotel/fr/votre-terrass...</td>\n",
       "      <td>Situé dans le centre de Nîmes, à 14 km du parc...</td>\n",
       "      <td>2</td>\n",
       "      <td>180</td>\n",
       "      <td>www.booking.com</td>\n",
       "      <td>0.639418</td>\n",
       "      <td>43.83677600,4.35801800</td>\n",
       "    </tr>\n",
       "    <tr>\n",
       "      <th>4</th>\n",
       "      <td>Nimes</td>\n",
       "      <td>ibis budget Nimes Centre Gare</td>\n",
       "      <td>8,0</td>\n",
       "      <td>https://www.booking.com/hotel/fr/ibis-budget-n...</td>\n",
       "      <td>Situé à seulement 50 mètres de la gare de Nîme...</td>\n",
       "      <td>2</td>\n",
       "      <td>180</td>\n",
       "      <td>www.booking.com</td>\n",
       "      <td>0.735267</td>\n",
       "      <td>43.83205590,4.36736450</td>\n",
       "    </tr>\n",
       "  </tbody>\n",
       "</table>\n",
       "</div>"
      ],
      "text/plain": [
       "    city                                               name note  \\\n",
       "0  Nimes  à 10mn des arènes f2 au calme avec garage gratuit  8,4   \n",
       "1  Nimes                                     Hotel Concorde  6,9   \n",
       "2  Nimes                                Studio Nîmes Centre  8,2   \n",
       "3  Nimes  Appartement avec terrasse panoramique au coeur...  9,2   \n",
       "4  Nimes                      ibis budget Nimes Centre Gare  8,0   \n",
       "\n",
       "                                                 url  \\\n",
       "0  https://www.booking.com/hotel/fr/logement-tout...   \n",
       "1  https://www.booking.com/hotel/fr/concorde-nime...   \n",
       "2  https://www.booking.com/hotel/fr/studio-boucar...   \n",
       "3  https://www.booking.com/hotel/fr/votre-terrass...   \n",
       "4  https://www.booking.com/hotel/fr/ibis-budget-n...   \n",
       "\n",
       "                                         description  depth  download_timeout  \\\n",
       "0  Situé à Nîmes, en Occitanie, à proximité du pa...      2               180   \n",
       "1  Situé dans une rue piétonne du centre de Nîmes...      2               180   \n",
       "2  Le Studio Nîmes Centre propose des hébergement...      2               180   \n",
       "3  Situé dans le centre de Nîmes, à 14 km du parc...      2               180   \n",
       "4  Situé à seulement 50 mètres de la gare de Nîme...      2               180   \n",
       "\n",
       "     download_slot  download_latency               gps_hotel  \n",
       "0  www.booking.com          0.596288  43.82838120,4.36336300  \n",
       "1  www.booking.com          0.637275  43.83612815,4.36126995  \n",
       "2  www.booking.com          0.625533  43.83976280,4.35694199  \n",
       "3  www.booking.com          0.639418  43.83677600,4.35801800  \n",
       "4  www.booking.com          0.735267  43.83205590,4.36736450  "
      ]
     },
     "execution_count": 20,
     "metadata": {},
     "output_type": "execute_result"
    }
   ],
   "source": [
    "data_hotels = pd.read_json(\"files/booking_spider.json\")\n",
    "data_hotels.head()"
   ]
  },
  {
   "cell_type": "code",
   "execution_count": 21,
   "metadata": {},
   "outputs": [],
   "source": [
    "# Remise en forme des coordonnées des hôtels\n",
    "data_hotels['coord_lat'] = data_hotels['gps_hotel'].apply(lambda x: x.split(',')[0])\n",
    "data_hotels['coord_lon'] = data_hotels['gps_hotel'].apply(lambda x: x.split(',')[1])"
   ]
  },
  {
   "cell_type": "code",
   "execution_count": 22,
   "metadata": {},
   "outputs": [],
   "source": [
    "to_drop = ['gps_hotel', 'depth', 'download_timeout', 'download_slot', 'download_latency']"
   ]
  },
  {
   "cell_type": "code",
   "execution_count": 23,
   "metadata": {},
   "outputs": [
    {
     "data": {
      "text/html": [
       "<div>\n",
       "<style scoped>\n",
       "    .dataframe tbody tr th:only-of-type {\n",
       "        vertical-align: middle;\n",
       "    }\n",
       "\n",
       "    .dataframe tbody tr th {\n",
       "        vertical-align: top;\n",
       "    }\n",
       "\n",
       "    .dataframe thead th {\n",
       "        text-align: right;\n",
       "    }\n",
       "</style>\n",
       "<table border=\"1\" class=\"dataframe\">\n",
       "  <thead>\n",
       "    <tr style=\"text-align: right;\">\n",
       "      <th></th>\n",
       "      <th>city</th>\n",
       "      <th>name</th>\n",
       "      <th>note</th>\n",
       "      <th>url</th>\n",
       "      <th>description</th>\n",
       "      <th>coord_lat</th>\n",
       "      <th>coord_lon</th>\n",
       "    </tr>\n",
       "  </thead>\n",
       "  <tbody>\n",
       "    <tr>\n",
       "      <th>0</th>\n",
       "      <td>Nimes</td>\n",
       "      <td>à 10mn des arènes f2 au calme avec garage gratuit</td>\n",
       "      <td>8,4</td>\n",
       "      <td>https://www.booking.com/hotel/fr/logement-tout...</td>\n",
       "      <td>Situé à Nîmes, en Occitanie, à proximité du pa...</td>\n",
       "      <td>43.82838120</td>\n",
       "      <td>4.36336300</td>\n",
       "    </tr>\n",
       "    <tr>\n",
       "      <th>1</th>\n",
       "      <td>Nimes</td>\n",
       "      <td>Hotel Concorde</td>\n",
       "      <td>6,9</td>\n",
       "      <td>https://www.booking.com/hotel/fr/concorde-nime...</td>\n",
       "      <td>Situé dans une rue piétonne du centre de Nîmes...</td>\n",
       "      <td>43.83612815</td>\n",
       "      <td>4.36126995</td>\n",
       "    </tr>\n",
       "    <tr>\n",
       "      <th>2</th>\n",
       "      <td>Nimes</td>\n",
       "      <td>Studio Nîmes Centre</td>\n",
       "      <td>8,2</td>\n",
       "      <td>https://www.booking.com/hotel/fr/studio-boucar...</td>\n",
       "      <td>Le Studio Nîmes Centre propose des hébergement...</td>\n",
       "      <td>43.83976280</td>\n",
       "      <td>4.35694199</td>\n",
       "    </tr>\n",
       "    <tr>\n",
       "      <th>3</th>\n",
       "      <td>Nimes</td>\n",
       "      <td>Appartement avec terrasse panoramique au coeur...</td>\n",
       "      <td>9,2</td>\n",
       "      <td>https://www.booking.com/hotel/fr/votre-terrass...</td>\n",
       "      <td>Situé dans le centre de Nîmes, à 14 km du parc...</td>\n",
       "      <td>43.83677600</td>\n",
       "      <td>4.35801800</td>\n",
       "    </tr>\n",
       "    <tr>\n",
       "      <th>4</th>\n",
       "      <td>Nimes</td>\n",
       "      <td>ibis budget Nimes Centre Gare</td>\n",
       "      <td>8,0</td>\n",
       "      <td>https://www.booking.com/hotel/fr/ibis-budget-n...</td>\n",
       "      <td>Situé à seulement 50 mètres de la gare de Nîme...</td>\n",
       "      <td>43.83205590</td>\n",
       "      <td>4.36736450</td>\n",
       "    </tr>\n",
       "  </tbody>\n",
       "</table>\n",
       "</div>"
      ],
      "text/plain": [
       "    city                                               name note  \\\n",
       "0  Nimes  à 10mn des arènes f2 au calme avec garage gratuit  8,4   \n",
       "1  Nimes                                     Hotel Concorde  6,9   \n",
       "2  Nimes                                Studio Nîmes Centre  8,2   \n",
       "3  Nimes  Appartement avec terrasse panoramique au coeur...  9,2   \n",
       "4  Nimes                      ibis budget Nimes Centre Gare  8,0   \n",
       "\n",
       "                                                 url  \\\n",
       "0  https://www.booking.com/hotel/fr/logement-tout...   \n",
       "1  https://www.booking.com/hotel/fr/concorde-nime...   \n",
       "2  https://www.booking.com/hotel/fr/studio-boucar...   \n",
       "3  https://www.booking.com/hotel/fr/votre-terrass...   \n",
       "4  https://www.booking.com/hotel/fr/ibis-budget-n...   \n",
       "\n",
       "                                         description    coord_lat   coord_lon  \n",
       "0  Situé à Nîmes, en Occitanie, à proximité du pa...  43.82838120  4.36336300  \n",
       "1  Situé dans une rue piétonne du centre de Nîmes...  43.83612815  4.36126995  \n",
       "2  Le Studio Nîmes Centre propose des hébergement...  43.83976280  4.35694199  \n",
       "3  Situé dans le centre de Nîmes, à 14 km du parc...  43.83677600  4.35801800  \n",
       "4  Situé à seulement 50 mètres de la gare de Nîme...  43.83205590  4.36736450  "
      ]
     },
     "execution_count": 23,
     "metadata": {},
     "output_type": "execute_result"
    }
   ],
   "source": [
    "data_hotels = data_hotels.drop(to_drop, axis=1)\n",
    "data_hotels.head()"
   ]
  },
  {
   "cell_type": "code",
   "execution_count": 24,
   "metadata": {},
   "outputs": [
    {
     "data": {
      "text/html": [
       "<div>\n",
       "<style scoped>\n",
       "    .dataframe tbody tr th:only-of-type {\n",
       "        vertical-align: middle;\n",
       "    }\n",
       "\n",
       "    .dataframe tbody tr th {\n",
       "        vertical-align: top;\n",
       "    }\n",
       "\n",
       "    .dataframe thead th {\n",
       "        text-align: right;\n",
       "    }\n",
       "</style>\n",
       "<table border=\"1\" class=\"dataframe\">\n",
       "  <thead>\n",
       "    <tr style=\"text-align: right;\">\n",
       "      <th></th>\n",
       "      <th>city</th>\n",
       "      <th>name</th>\n",
       "      <th>note</th>\n",
       "      <th>url</th>\n",
       "      <th>description</th>\n",
       "      <th>coord_lat</th>\n",
       "      <th>coord_lon</th>\n",
       "    </tr>\n",
       "  </thead>\n",
       "  <tbody>\n",
       "    <tr>\n",
       "      <th>0</th>\n",
       "      <td>Nimes</td>\n",
       "      <td>à 10mn des arènes f2 au calme avec garage gratuit</td>\n",
       "      <td>8,4</td>\n",
       "      <td>https://www.booking.com/hotel/fr/logement-tout...</td>\n",
       "      <td>Situé à Nîmes, en Occitanie, à proximité du pa...</td>\n",
       "      <td>43.82838120</td>\n",
       "      <td>4.36336300</td>\n",
       "    </tr>\n",
       "    <tr>\n",
       "      <th>1</th>\n",
       "      <td>Nimes</td>\n",
       "      <td>Hotel Concorde</td>\n",
       "      <td>6,9</td>\n",
       "      <td>https://www.booking.com/hotel/fr/concorde-nime...</td>\n",
       "      <td>Situé dans une rue piétonne du centre de Nîmes...</td>\n",
       "      <td>43.83612815</td>\n",
       "      <td>4.36126995</td>\n",
       "    </tr>\n",
       "    <tr>\n",
       "      <th>2</th>\n",
       "      <td>Nimes</td>\n",
       "      <td>Studio Nîmes Centre</td>\n",
       "      <td>8,2</td>\n",
       "      <td>https://www.booking.com/hotel/fr/studio-boucar...</td>\n",
       "      <td>Le Studio Nîmes Centre propose des hébergement...</td>\n",
       "      <td>43.83976280</td>\n",
       "      <td>4.35694199</td>\n",
       "    </tr>\n",
       "    <tr>\n",
       "      <th>3</th>\n",
       "      <td>Nimes</td>\n",
       "      <td>Appartement avec terrasse panoramique au coeur...</td>\n",
       "      <td>9,2</td>\n",
       "      <td>https://www.booking.com/hotel/fr/votre-terrass...</td>\n",
       "      <td>Situé dans le centre de Nîmes, à 14 km du parc...</td>\n",
       "      <td>43.83677600</td>\n",
       "      <td>4.35801800</td>\n",
       "    </tr>\n",
       "    <tr>\n",
       "      <th>4</th>\n",
       "      <td>Nimes</td>\n",
       "      <td>ibis budget Nimes Centre Gare</td>\n",
       "      <td>8,0</td>\n",
       "      <td>https://www.booking.com/hotel/fr/ibis-budget-n...</td>\n",
       "      <td>Situé à seulement 50 mètres de la gare de Nîme...</td>\n",
       "      <td>43.83205590</td>\n",
       "      <td>4.36736450</td>\n",
       "    </tr>\n",
       "  </tbody>\n",
       "</table>\n",
       "</div>"
      ],
      "text/plain": [
       "    city                                               name note  \\\n",
       "0  Nimes  à 10mn des arènes f2 au calme avec garage gratuit  8,4   \n",
       "1  Nimes                                     Hotel Concorde  6,9   \n",
       "2  Nimes                                Studio Nîmes Centre  8,2   \n",
       "3  Nimes  Appartement avec terrasse panoramique au coeur...  9,2   \n",
       "4  Nimes                      ibis budget Nimes Centre Gare  8,0   \n",
       "\n",
       "                                                 url  \\\n",
       "0  https://www.booking.com/hotel/fr/logement-tout...   \n",
       "1  https://www.booking.com/hotel/fr/concorde-nime...   \n",
       "2  https://www.booking.com/hotel/fr/studio-boucar...   \n",
       "3  https://www.booking.com/hotel/fr/votre-terrass...   \n",
       "4  https://www.booking.com/hotel/fr/ibis-budget-n...   \n",
       "\n",
       "                                         description    coord_lat   coord_lon  \n",
       "0  Situé à Nîmes, en Occitanie, à proximité du pa...  43.82838120  4.36336300  \n",
       "1  Situé dans une rue piétonne du centre de Nîmes...  43.83612815  4.36126995  \n",
       "2  Le Studio Nîmes Centre propose des hébergement...  43.83976280  4.35694199  \n",
       "3  Situé dans le centre de Nîmes, à 14 km du parc...  43.83677600  4.35801800  \n",
       "4  Situé à seulement 50 mètres de la gare de Nîme...  43.83205590  4.36736450  "
      ]
     },
     "execution_count": 24,
     "metadata": {},
     "output_type": "execute_result"
    }
   ],
   "source": [
    "data_hotels['note'] = data_hotels['note'].apply(lambda x: None if x==0 else x)\n",
    "data_hotels.head()"
   ]
  },
  {
   "cell_type": "code",
   "execution_count": 25,
   "metadata": {},
   "outputs": [
    {
     "data": {
      "text/html": [
       "<div>\n",
       "<style scoped>\n",
       "    .dataframe tbody tr th:only-of-type {\n",
       "        vertical-align: middle;\n",
       "    }\n",
       "\n",
       "    .dataframe tbody tr th {\n",
       "        vertical-align: top;\n",
       "    }\n",
       "\n",
       "    .dataframe thead th {\n",
       "        text-align: right;\n",
       "    }\n",
       "</style>\n",
       "<table border=\"1\" class=\"dataframe\">\n",
       "  <thead>\n",
       "    <tr style=\"text-align: right;\">\n",
       "      <th></th>\n",
       "      <th>city</th>\n",
       "      <th>name</th>\n",
       "      <th>note</th>\n",
       "      <th>url</th>\n",
       "      <th>description</th>\n",
       "      <th>coord_lat</th>\n",
       "      <th>coord_lon</th>\n",
       "    </tr>\n",
       "  </thead>\n",
       "  <tbody>\n",
       "    <tr>\n",
       "      <th>112</th>\n",
       "      <td>Aigues Mortes</td>\n",
       "      <td>Au Cœur des Remparts</td>\n",
       "      <td>9,9</td>\n",
       "      <td>https://www.booking.com/hotel/fr/au-coeur-des-...</td>\n",
       "      <td>Situé à Aigues-Mortes, à 24 km du parc des exp...</td>\n",
       "      <td>43.56540100</td>\n",
       "      <td>4.19297300</td>\n",
       "    </tr>\n",
       "    <tr>\n",
       "      <th>93</th>\n",
       "      <td>Aigues Mortes</td>\n",
       "      <td>La maison blanche Intra-Muros Free parking</td>\n",
       "      <td>9,8</td>\n",
       "      <td>https://www.booking.com/hotel/fr/bienvenue-che...</td>\n",
       "      <td>Doté d'un jardin, l'établissement La maison bl...</td>\n",
       "      <td>43.56452313</td>\n",
       "      <td>4.19255555</td>\n",
       "    </tr>\n",
       "    <tr>\n",
       "      <th>10</th>\n",
       "      <td>Nimes</td>\n",
       "      <td>Rougetomette</td>\n",
       "      <td>9,7</td>\n",
       "      <td>https://www.booking.com/hotel/fr/rougetomette-...</td>\n",
       "      <td>Situé à Nîmes, le Rougetomette propose une con...</td>\n",
       "      <td>43.83003691</td>\n",
       "      <td>4.36611269</td>\n",
       "    </tr>\n",
       "    <tr>\n",
       "      <th>37</th>\n",
       "      <td>Bormes les Mimosas</td>\n",
       "      <td>Cosy studio - Place du Figuier</td>\n",
       "      <td>9,7</td>\n",
       "      <td>https://www.booking.com/hotel/fr/studio-figuie...</td>\n",
       "      <td>Set in Bormes-les-Mimosas, 29 km from Chateau ...</td>\n",
       "      <td>43.15145512</td>\n",
       "      <td>6.34296830</td>\n",
       "    </tr>\n",
       "    <tr>\n",
       "      <th>28</th>\n",
       "      <td>Bormes les Mimosas</td>\n",
       "      <td>La Recampado</td>\n",
       "      <td>9,6</td>\n",
       "      <td>https://www.booking.com/hotel/fr/la-recampado-...</td>\n",
       "      <td>Situé à Bormes-les-Mimosas, à 29 km du château...</td>\n",
       "      <td>43.15097100</td>\n",
       "      <td>6.34211700</td>\n",
       "    </tr>\n",
       "    <tr>\n",
       "      <th>38</th>\n",
       "      <td>Bormes les Mimosas</td>\n",
       "      <td>Bel appartement classé 3 étoiles</td>\n",
       "      <td>9,6</td>\n",
       "      <td>https://www.booking.com/hotel/fr/joli-2-pieces...</td>\n",
       "      <td>Offrant une vue paisible sur la rue, le Bel ap...</td>\n",
       "      <td>43.14398290</td>\n",
       "      <td>6.33727200</td>\n",
       "    </tr>\n",
       "    <tr>\n",
       "      <th>20</th>\n",
       "      <td>Bormes les Mimosas</td>\n",
       "      <td>Studio lumineux - rue du Corsaire</td>\n",
       "      <td>9,5</td>\n",
       "      <td>https://www.booking.com/hotel/fr/studio-lumine...</td>\n",
       "      <td>Situated in Bormes-les-Mimosas, 29 km from Cha...</td>\n",
       "      <td>43.15103203</td>\n",
       "      <td>6.34226151</td>\n",
       "    </tr>\n",
       "    <tr>\n",
       "      <th>102</th>\n",
       "      <td>Aigues Mortes</td>\n",
       "      <td>Mas de Constance 3pieces standing</td>\n",
       "      <td>9,5</td>\n",
       "      <td>https://www.booking.com/hotel/fr/mas-de-consta...</td>\n",
       "      <td>Situé à Aigues-Mortes, le Mas de Constance 3pi...</td>\n",
       "      <td>43.57211540</td>\n",
       "      <td>4.18652590</td>\n",
       "    </tr>\n",
       "    <tr>\n",
       "      <th>25</th>\n",
       "      <td>Bormes les Mimosas</td>\n",
       "      <td>Les Terrasses de Lô</td>\n",
       "      <td>9,5</td>\n",
       "      <td>https://www.booking.com/hotel/fr/les-terrasses...</td>\n",
       "      <td>Doté d'une baignoire en plein air et offrant u...</td>\n",
       "      <td>43.14388500</td>\n",
       "      <td>6.35353600</td>\n",
       "    </tr>\n",
       "    <tr>\n",
       "      <th>106</th>\n",
       "      <td>Aigues Mortes</td>\n",
       "      <td>Appartements 3 étoiles terrasse ou patio intra...</td>\n",
       "      <td>9,5</td>\n",
       "      <td>https://www.booking.com/hotel/fr/appartement-3...</td>\n",
       "      <td>Appartements 3 étoiles terrasse ou patio intra...</td>\n",
       "      <td>43.56535840</td>\n",
       "      <td>4.19275020</td>\n",
       "    </tr>\n",
       "    <tr>\n",
       "      <th>19</th>\n",
       "      <td>Bormes les Mimosas</td>\n",
       "      <td>HomeStay Bormes</td>\n",
       "      <td>9,5</td>\n",
       "      <td>https://www.booking.com/hotel/fr/homestay-borm...</td>\n",
       "      <td>Offrant une vue sur la montagne, le HomeStay B...</td>\n",
       "      <td>43.14644500</td>\n",
       "      <td>6.32772400</td>\n",
       "    </tr>\n",
       "    <tr>\n",
       "      <th>76</th>\n",
       "      <td>Marseille</td>\n",
       "      <td>Studio Cosy rue Sainte/St Victor</td>\n",
       "      <td>9,5</td>\n",
       "      <td>https://www.booking.com/hotel/fr/studio-cosy-r...</td>\n",
       "      <td>Situé dans le quartier du Vieux Port - La Cane...</td>\n",
       "      <td>43.29076990</td>\n",
       "      <td>5.36721620</td>\n",
       "    </tr>\n",
       "    <tr>\n",
       "      <th>74</th>\n",
       "      <td>Marseille</td>\n",
       "      <td>Vieux-Port view - Ultra center - Air condition...</td>\n",
       "      <td>9,5</td>\n",
       "      <td>https://www.booking.com/hotel/fr/vieux-port-vi...</td>\n",
       "      <td>Situated in the centre of Marseille, 1.6 km fr...</td>\n",
       "      <td>43.29363530</td>\n",
       "      <td>5.37347210</td>\n",
       "    </tr>\n",
       "    <tr>\n",
       "      <th>44</th>\n",
       "      <td>Collioure</td>\n",
       "      <td>Boramar</td>\n",
       "      <td>9,5</td>\n",
       "      <td>https://www.booking.com/hotel/fr/boramar.fr.ht...</td>\n",
       "      <td>Le Boramar est un hébergement en bord de mer s...</td>\n",
       "      <td>42.52754300</td>\n",
       "      <td>3.08535500</td>\n",
       "    </tr>\n",
       "    <tr>\n",
       "      <th>71</th>\n",
       "      <td>Marseille</td>\n",
       "      <td>La Pitcholine : Superbe studio au Vieux-Port</td>\n",
       "      <td>9,5</td>\n",
       "      <td>https://www.booking.com/hotel/fr/la-pitcholine...</td>\n",
       "      <td>Situé dans le centre de Marseille, à proximité...</td>\n",
       "      <td>43.29218920</td>\n",
       "      <td>5.37001360</td>\n",
       "    </tr>\n",
       "    <tr>\n",
       "      <th>79</th>\n",
       "      <td>Marseille</td>\n",
       "      <td>~{Le Pan’yay}~</td>\n",
       "      <td>9,4</td>\n",
       "      <td>https://www.booking.com/hotel/fr/le-pan-yay.fr...</td>\n",
       "      <td>Situé dans le quartier du Panier à Marseille, ...</td>\n",
       "      <td>43.29774912</td>\n",
       "      <td>5.36706445</td>\n",
       "    </tr>\n",
       "    <tr>\n",
       "      <th>87</th>\n",
       "      <td>Marseille</td>\n",
       "      <td>Marseille City Chambres&amp;Appartements</td>\n",
       "      <td>9,3</td>\n",
       "      <td>https://www.booking.com/hotel/fr/marseillecity...</td>\n",
       "      <td>Le Marseille City Chambres&amp;Appartements propos...</td>\n",
       "      <td>43.30195653</td>\n",
       "      <td>5.37229434</td>\n",
       "    </tr>\n",
       "    <tr>\n",
       "      <th>51</th>\n",
       "      <td>Collioure</td>\n",
       "      <td>Appartement Centre COLLIOURE CLIM PATIO WIFI</td>\n",
       "      <td>9,3</td>\n",
       "      <td>https://www.booking.com/hotel/fr/appartement-c...</td>\n",
       "      <td>Situé à Collioure, à 300 mètres de la plage de...</td>\n",
       "      <td>42.52739229</td>\n",
       "      <td>3.08228340</td>\n",
       "    </tr>\n",
       "    <tr>\n",
       "      <th>27</th>\n",
       "      <td>Bormes les Mimosas</td>\n",
       "      <td>Studio climatisé avec une place de parking et ...</td>\n",
       "      <td>9,2</td>\n",
       "      <td>https://www.booking.com/hotel/fr/studio-cosy-c...</td>\n",
       "      <td>Situé à Bormes-les-Mimosas, en Provence-Alpes-...</td>\n",
       "      <td>43.12282480</td>\n",
       "      <td>6.35686020</td>\n",
       "    </tr>\n",
       "    <tr>\n",
       "      <th>61</th>\n",
       "      <td>Collioure</td>\n",
       "      <td>Canta la Mar - Vue exceptionnelle</td>\n",
       "      <td>9,2</td>\n",
       "      <td>https://www.booking.com/hotel/fr/studio-canta-...</td>\n",
       "      <td>Le Canta la Mar - Vue exceptionnelle est un hé...</td>\n",
       "      <td>42.52443110</td>\n",
       "      <td>3.09031585</td>\n",
       "    </tr>\n",
       "  </tbody>\n",
       "</table>\n",
       "</div>"
      ],
      "text/plain": [
       "                   city                                               name  \\\n",
       "112       Aigues Mortes                               Au Cœur des Remparts   \n",
       "93        Aigues Mortes         La maison blanche Intra-Muros Free parking   \n",
       "10                Nimes                                       Rougetomette   \n",
       "37   Bormes les Mimosas                     Cosy studio - Place du Figuier   \n",
       "28   Bormes les Mimosas                                       La Recampado   \n",
       "38   Bormes les Mimosas                   Bel appartement classé 3 étoiles   \n",
       "20   Bormes les Mimosas                  Studio lumineux - rue du Corsaire   \n",
       "102       Aigues Mortes                  Mas de Constance 3pieces standing   \n",
       "25   Bormes les Mimosas                                Les Terrasses de Lô   \n",
       "106       Aigues Mortes  Appartements 3 étoiles terrasse ou patio intra...   \n",
       "19   Bormes les Mimosas                                    HomeStay Bormes   \n",
       "76            Marseille                   Studio Cosy rue Sainte/St Victor   \n",
       "74            Marseille  Vieux-Port view - Ultra center - Air condition...   \n",
       "44            Collioure                                            Boramar   \n",
       "71            Marseille       La Pitcholine : Superbe studio au Vieux-Port   \n",
       "79            Marseille                                     ~{Le Pan’yay}~   \n",
       "87            Marseille               Marseille City Chambres&Appartements   \n",
       "51            Collioure       Appartement Centre COLLIOURE CLIM PATIO WIFI   \n",
       "27   Bormes les Mimosas  Studio climatisé avec une place de parking et ...   \n",
       "61            Collioure                  Canta la Mar - Vue exceptionnelle   \n",
       "\n",
       "    note                                                url  \\\n",
       "112  9,9  https://www.booking.com/hotel/fr/au-coeur-des-...   \n",
       "93   9,8  https://www.booking.com/hotel/fr/bienvenue-che...   \n",
       "10   9,7  https://www.booking.com/hotel/fr/rougetomette-...   \n",
       "37   9,7  https://www.booking.com/hotel/fr/studio-figuie...   \n",
       "28   9,6  https://www.booking.com/hotel/fr/la-recampado-...   \n",
       "38   9,6  https://www.booking.com/hotel/fr/joli-2-pieces...   \n",
       "20   9,5  https://www.booking.com/hotel/fr/studio-lumine...   \n",
       "102  9,5  https://www.booking.com/hotel/fr/mas-de-consta...   \n",
       "25   9,5  https://www.booking.com/hotel/fr/les-terrasses...   \n",
       "106  9,5  https://www.booking.com/hotel/fr/appartement-3...   \n",
       "19   9,5  https://www.booking.com/hotel/fr/homestay-borm...   \n",
       "76   9,5  https://www.booking.com/hotel/fr/studio-cosy-r...   \n",
       "74   9,5  https://www.booking.com/hotel/fr/vieux-port-vi...   \n",
       "44   9,5  https://www.booking.com/hotel/fr/boramar.fr.ht...   \n",
       "71   9,5  https://www.booking.com/hotel/fr/la-pitcholine...   \n",
       "79   9,4  https://www.booking.com/hotel/fr/le-pan-yay.fr...   \n",
       "87   9,3  https://www.booking.com/hotel/fr/marseillecity...   \n",
       "51   9,3  https://www.booking.com/hotel/fr/appartement-c...   \n",
       "27   9,2  https://www.booking.com/hotel/fr/studio-cosy-c...   \n",
       "61   9,2  https://www.booking.com/hotel/fr/studio-canta-...   \n",
       "\n",
       "                                           description    coord_lat  \\\n",
       "112  Situé à Aigues-Mortes, à 24 km du parc des exp...  43.56540100   \n",
       "93   Doté d'un jardin, l'établissement La maison bl...  43.56452313   \n",
       "10   Situé à Nîmes, le Rougetomette propose une con...  43.83003691   \n",
       "37   Set in Bormes-les-Mimosas, 29 km from Chateau ...  43.15145512   \n",
       "28   Situé à Bormes-les-Mimosas, à 29 km du château...  43.15097100   \n",
       "38   Offrant une vue paisible sur la rue, le Bel ap...  43.14398290   \n",
       "20   Situated in Bormes-les-Mimosas, 29 km from Cha...  43.15103203   \n",
       "102  Situé à Aigues-Mortes, le Mas de Constance 3pi...  43.57211540   \n",
       "25   Doté d'une baignoire en plein air et offrant u...  43.14388500   \n",
       "106  Appartements 3 étoiles terrasse ou patio intra...  43.56535840   \n",
       "19   Offrant une vue sur la montagne, le HomeStay B...  43.14644500   \n",
       "76   Situé dans le quartier du Vieux Port - La Cane...  43.29076990   \n",
       "74   Situated in the centre of Marseille, 1.6 km fr...  43.29363530   \n",
       "44   Le Boramar est un hébergement en bord de mer s...  42.52754300   \n",
       "71   Situé dans le centre de Marseille, à proximité...  43.29218920   \n",
       "79   Situé dans le quartier du Panier à Marseille, ...  43.29774912   \n",
       "87   Le Marseille City Chambres&Appartements propos...  43.30195653   \n",
       "51   Situé à Collioure, à 300 mètres de la plage de...  42.52739229   \n",
       "27   Situé à Bormes-les-Mimosas, en Provence-Alpes-...  43.12282480   \n",
       "61   Le Canta la Mar - Vue exceptionnelle est un hé...  42.52443110   \n",
       "\n",
       "      coord_lon  \n",
       "112  4.19297300  \n",
       "93   4.19255555  \n",
       "10   4.36611269  \n",
       "37   6.34296830  \n",
       "28   6.34211700  \n",
       "38   6.33727200  \n",
       "20   6.34226151  \n",
       "102  4.18652590  \n",
       "25   6.35353600  \n",
       "106  4.19275020  \n",
       "19   6.32772400  \n",
       "76   5.36721620  \n",
       "74   5.37347210  \n",
       "44   3.08535500  \n",
       "71   5.37001360  \n",
       "79   5.36706445  \n",
       "87   5.37229434  \n",
       "51   3.08228340  \n",
       "27   6.35686020  \n",
       "61   3.09031585  "
      ]
     },
     "execution_count": 25,
     "metadata": {},
     "output_type": "execute_result"
    }
   ],
   "source": [
    "data_hotel_sorted = data_hotels.sort_values(by='note', ascending=False)\n",
    "hotel_bests = data_hotel_sorted.head(20)\n",
    "hotel_bests"
   ]
  },
  {
   "cell_type": "code",
   "execution_count": 26,
   "metadata": {},
   "outputs": [
    {
     "data": {
      "text/html": [
       "<div>\n",
       "<style scoped>\n",
       "    .dataframe tbody tr th:only-of-type {\n",
       "        vertical-align: middle;\n",
       "    }\n",
       "\n",
       "    .dataframe tbody tr th {\n",
       "        vertical-align: top;\n",
       "    }\n",
       "\n",
       "    .dataframe thead th {\n",
       "        text-align: right;\n",
       "    }\n",
       "</style>\n",
       "<table border=\"1\" class=\"dataframe\">\n",
       "  <thead>\n",
       "    <tr style=\"text-align: right;\">\n",
       "      <th></th>\n",
       "      <th>city</th>\n",
       "      <th>name</th>\n",
       "      <th>note</th>\n",
       "      <th>url</th>\n",
       "      <th>description</th>\n",
       "      <th>coord_lat</th>\n",
       "      <th>coord_lon</th>\n",
       "    </tr>\n",
       "  </thead>\n",
       "  <tbody>\n",
       "    <tr>\n",
       "      <th>0</th>\n",
       "      <td>Nimes</td>\n",
       "      <td>à 10mn des arènes f2 au calme avec garage gratuit</td>\n",
       "      <td>8,4</td>\n",
       "      <td>https://www.booking.com/hotel/fr/logement-tout...</td>\n",
       "      <td>Situé à Nîmes, en Occitanie, à proximité du pa...</td>\n",
       "      <td>43.82838120</td>\n",
       "      <td>4.36336300</td>\n",
       "    </tr>\n",
       "    <tr>\n",
       "      <th>1</th>\n",
       "      <td>Nimes</td>\n",
       "      <td>Hotel Concorde</td>\n",
       "      <td>6,9</td>\n",
       "      <td>https://www.booking.com/hotel/fr/concorde-nime...</td>\n",
       "      <td>Situé dans une rue piétonne du centre de Nîmes...</td>\n",
       "      <td>43.83612815</td>\n",
       "      <td>4.36126995</td>\n",
       "    </tr>\n",
       "    <tr>\n",
       "      <th>2</th>\n",
       "      <td>Nimes</td>\n",
       "      <td>Studio Nîmes Centre</td>\n",
       "      <td>8,2</td>\n",
       "      <td>https://www.booking.com/hotel/fr/studio-boucar...</td>\n",
       "      <td>Le Studio Nîmes Centre propose des hébergement...</td>\n",
       "      <td>43.83976280</td>\n",
       "      <td>4.35694199</td>\n",
       "    </tr>\n",
       "    <tr>\n",
       "      <th>3</th>\n",
       "      <td>Nimes</td>\n",
       "      <td>Appartement avec terrasse panoramique au coeur...</td>\n",
       "      <td>9,2</td>\n",
       "      <td>https://www.booking.com/hotel/fr/votre-terrass...</td>\n",
       "      <td>Situé dans le centre de Nîmes, à 14 km du parc...</td>\n",
       "      <td>43.83677600</td>\n",
       "      <td>4.35801800</td>\n",
       "    </tr>\n",
       "    <tr>\n",
       "      <th>4</th>\n",
       "      <td>Nimes</td>\n",
       "      <td>ibis budget Nimes Centre Gare</td>\n",
       "      <td>8,0</td>\n",
       "      <td>https://www.booking.com/hotel/fr/ibis-budget-n...</td>\n",
       "      <td>Situé à seulement 50 mètres de la gare de Nîme...</td>\n",
       "      <td>43.83205590</td>\n",
       "      <td>4.36736450</td>\n",
       "    </tr>\n",
       "    <tr>\n",
       "      <th>...</th>\n",
       "      <td>...</td>\n",
       "      <td>...</td>\n",
       "      <td>...</td>\n",
       "      <td>...</td>\n",
       "      <td>...</td>\n",
       "      <td>...</td>\n",
       "      <td>...</td>\n",
       "    </tr>\n",
       "    <tr>\n",
       "      <th>120</th>\n",
       "      <td>Nimes</td>\n",
       "      <td>Appart'City Collection Nîmes Arènes</td>\n",
       "      <td>8,7</td>\n",
       "      <td>https://www.booking.com/hotel/fr/appart-39-cit...</td>\n",
       "      <td>None</td>\n",
       "      <td>43.83387353</td>\n",
       "      <td>4.36143396</td>\n",
       "    </tr>\n",
       "    <tr>\n",
       "      <th>121</th>\n",
       "      <td>Nimes</td>\n",
       "      <td>Agréable appartement P2 Centre ville au calme.</td>\n",
       "      <td>8,6</td>\n",
       "      <td>https://www.booking.com/hotel/fr/agreable-appa...</td>\n",
       "      <td>Offrant une vue sur le jardin, l'Agréable appa...</td>\n",
       "      <td>43.83799940</td>\n",
       "      <td>4.37090630</td>\n",
       "    </tr>\n",
       "    <tr>\n",
       "      <th>122</th>\n",
       "      <td>Nimes</td>\n",
       "      <td>B&amp;B HOTEL Nîmes Centre Arènes</td>\n",
       "      <td>7,7</td>\n",
       "      <td>https://www.booking.com/hotel/fr/b-amp-b-nimes...</td>\n",
       "      <td>None</td>\n",
       "      <td>43.82816140</td>\n",
       "      <td>4.35479020</td>\n",
       "    </tr>\n",
       "    <tr>\n",
       "      <th>123</th>\n",
       "      <td>Nimes</td>\n",
       "      <td>Odalys City Nîmes Arènes</td>\n",
       "      <td>8,6</td>\n",
       "      <td>https://www.booking.com/hotel/fr/odalys-city-n...</td>\n",
       "      <td>Situé à Nîmes, à 33 km de l'amphithéâtre d'Arl...</td>\n",
       "      <td>43.83406187</td>\n",
       "      <td>4.35899065</td>\n",
       "    </tr>\n",
       "    <tr>\n",
       "      <th>124</th>\n",
       "      <td>Nimes</td>\n",
       "      <td>SQUARE HOTEL</td>\n",
       "      <td>8,7</td>\n",
       "      <td>https://www.booking.com/hotel/fr/square-nimes....</td>\n",
       "      <td>Situé à Nîmes, à moins de 13 km du parc des ex...</td>\n",
       "      <td>43.83703200</td>\n",
       "      <td>4.36303700</td>\n",
       "    </tr>\n",
       "  </tbody>\n",
       "</table>\n",
       "<p>125 rows × 7 columns</p>\n",
       "</div>"
      ],
      "text/plain": [
       "      city                                               name note  \\\n",
       "0    Nimes  à 10mn des arènes f2 au calme avec garage gratuit  8,4   \n",
       "1    Nimes                                     Hotel Concorde  6,9   \n",
       "2    Nimes                                Studio Nîmes Centre  8,2   \n",
       "3    Nimes  Appartement avec terrasse panoramique au coeur...  9,2   \n",
       "4    Nimes                      ibis budget Nimes Centre Gare  8,0   \n",
       "..     ...                                                ...  ...   \n",
       "120  Nimes                Appart'City Collection Nîmes Arènes  8,7   \n",
       "121  Nimes     Agréable appartement P2 Centre ville au calme.  8,6   \n",
       "122  Nimes                      B&B HOTEL Nîmes Centre Arènes  7,7   \n",
       "123  Nimes                           Odalys City Nîmes Arènes  8,6   \n",
       "124  Nimes                                       SQUARE HOTEL  8,7   \n",
       "\n",
       "                                                   url  \\\n",
       "0    https://www.booking.com/hotel/fr/logement-tout...   \n",
       "1    https://www.booking.com/hotel/fr/concorde-nime...   \n",
       "2    https://www.booking.com/hotel/fr/studio-boucar...   \n",
       "3    https://www.booking.com/hotel/fr/votre-terrass...   \n",
       "4    https://www.booking.com/hotel/fr/ibis-budget-n...   \n",
       "..                                                 ...   \n",
       "120  https://www.booking.com/hotel/fr/appart-39-cit...   \n",
       "121  https://www.booking.com/hotel/fr/agreable-appa...   \n",
       "122  https://www.booking.com/hotel/fr/b-amp-b-nimes...   \n",
       "123  https://www.booking.com/hotel/fr/odalys-city-n...   \n",
       "124  https://www.booking.com/hotel/fr/square-nimes....   \n",
       "\n",
       "                                           description    coord_lat  \\\n",
       "0    Situé à Nîmes, en Occitanie, à proximité du pa...  43.82838120   \n",
       "1    Situé dans une rue piétonne du centre de Nîmes...  43.83612815   \n",
       "2    Le Studio Nîmes Centre propose des hébergement...  43.83976280   \n",
       "3    Situé dans le centre de Nîmes, à 14 km du parc...  43.83677600   \n",
       "4    Situé à seulement 50 mètres de la gare de Nîme...  43.83205590   \n",
       "..                                                 ...          ...   \n",
       "120                                               None  43.83387353   \n",
       "121  Offrant une vue sur le jardin, l'Agréable appa...  43.83799940   \n",
       "122                                               None  43.82816140   \n",
       "123  Situé à Nîmes, à 33 km de l'amphithéâtre d'Arl...  43.83406187   \n",
       "124  Situé à Nîmes, à moins de 13 km du parc des ex...  43.83703200   \n",
       "\n",
       "      coord_lon  \n",
       "0    4.36336300  \n",
       "1    4.36126995  \n",
       "2    4.35694199  \n",
       "3    4.35801800  \n",
       "4    4.36736450  \n",
       "..          ...  \n",
       "120  4.36143396  \n",
       "121  4.37090630  \n",
       "122  4.35479020  \n",
       "123  4.35899065  \n",
       "124  4.36303700  \n",
       "\n",
       "[125 rows x 7 columns]"
      ]
     },
     "execution_count": 26,
     "metadata": {},
     "output_type": "execute_result"
    }
   ],
   "source": [
    "data_hotels = data_hotels.replace(r'\\n',' ', regex=True)\n",
    "data_hotels = data_hotels.replace({chr(0x0153): 'oe',\n",
    "                                   chr(0x2013): '-',\n",
    "                                   chr(0x2019): '\\'',\n",
    "                                   chr(0x2022): '-'}, regex=True)\n",
    "\n",
    "data_hotels"
   ]
  },
  {
   "cell_type": "code",
   "execution_count": 27,
   "metadata": {},
   "outputs": [
    {
     "data": {
      "text/html": [
       "<div>\n",
       "<style scoped>\n",
       "    .dataframe tbody tr th:only-of-type {\n",
       "        vertical-align: middle;\n",
       "    }\n",
       "\n",
       "    .dataframe tbody tr th {\n",
       "        vertical-align: top;\n",
       "    }\n",
       "\n",
       "    .dataframe thead th {\n",
       "        text-align: right;\n",
       "    }\n",
       "</style>\n",
       "<table border=\"1\" class=\"dataframe\">\n",
       "  <thead>\n",
       "    <tr style=\"text-align: right;\">\n",
       "      <th></th>\n",
       "      <th>city</th>\n",
       "      <th>name</th>\n",
       "      <th>note</th>\n",
       "      <th>url</th>\n",
       "      <th>description</th>\n",
       "      <th>coord_lat</th>\n",
       "      <th>coord_lon</th>\n",
       "    </tr>\n",
       "  </thead>\n",
       "  <tbody>\n",
       "    <tr>\n",
       "      <th>0</th>\n",
       "      <td>Nimes</td>\n",
       "      <td>à 10mn des arènes f2 au calme avec garage gratuit</td>\n",
       "      <td>8,4</td>\n",
       "      <td>https://www.booking.com/hotel/fr/logement-tout...</td>\n",
       "      <td>Situé à Nîmes, en Occitanie, à proximité du pa...</td>\n",
       "      <td>43.82838120</td>\n",
       "      <td>4.36336300</td>\n",
       "    </tr>\n",
       "    <tr>\n",
       "      <th>1</th>\n",
       "      <td>Nimes</td>\n",
       "      <td>Hotel Concorde</td>\n",
       "      <td>6,9</td>\n",
       "      <td>https://www.booking.com/hotel/fr/concorde-nime...</td>\n",
       "      <td>Situé dans une rue piétonne du centre de Nîmes...</td>\n",
       "      <td>43.83612815</td>\n",
       "      <td>4.36126995</td>\n",
       "    </tr>\n",
       "    <tr>\n",
       "      <th>2</th>\n",
       "      <td>Nimes</td>\n",
       "      <td>Studio Nîmes Centre</td>\n",
       "      <td>8,2</td>\n",
       "      <td>https://www.booking.com/hotel/fr/studio-boucar...</td>\n",
       "      <td>Le Studio Nîmes Centre propose des hébergement...</td>\n",
       "      <td>43.83976280</td>\n",
       "      <td>4.35694199</td>\n",
       "    </tr>\n",
       "    <tr>\n",
       "      <th>3</th>\n",
       "      <td>Nimes</td>\n",
       "      <td>Appartement avec terrasse panoramique au coeur...</td>\n",
       "      <td>9,2</td>\n",
       "      <td>https://www.booking.com/hotel/fr/votre-terrass...</td>\n",
       "      <td>Situé dans le centre de Nîmes, à 14 km du parc...</td>\n",
       "      <td>43.83677600</td>\n",
       "      <td>4.35801800</td>\n",
       "    </tr>\n",
       "    <tr>\n",
       "      <th>4</th>\n",
       "      <td>Nimes</td>\n",
       "      <td>ibis budget Nimes Centre Gare</td>\n",
       "      <td>8,0</td>\n",
       "      <td>https://www.booking.com/hotel/fr/ibis-budget-n...</td>\n",
       "      <td>Situé à seulement 50 mètres de la gare de Nîme...</td>\n",
       "      <td>43.83205590</td>\n",
       "      <td>4.36736450</td>\n",
       "    </tr>\n",
       "  </tbody>\n",
       "</table>\n",
       "</div>"
      ],
      "text/plain": [
       "    city                                               name note  \\\n",
       "0  Nimes  à 10mn des arènes f2 au calme avec garage gratuit  8,4   \n",
       "1  Nimes                                     Hotel Concorde  6,9   \n",
       "2  Nimes                                Studio Nîmes Centre  8,2   \n",
       "3  Nimes  Appartement avec terrasse panoramique au coeur...  9,2   \n",
       "4  Nimes                      ibis budget Nimes Centre Gare  8,0   \n",
       "\n",
       "                                                 url  \\\n",
       "0  https://www.booking.com/hotel/fr/logement-tout...   \n",
       "1  https://www.booking.com/hotel/fr/concorde-nime...   \n",
       "2  https://www.booking.com/hotel/fr/studio-boucar...   \n",
       "3  https://www.booking.com/hotel/fr/votre-terrass...   \n",
       "4  https://www.booking.com/hotel/fr/ibis-budget-n...   \n",
       "\n",
       "                                         description    coord_lat   coord_lon  \n",
       "0  Situé à Nîmes, en Occitanie, à proximité du pa...  43.82838120  4.36336300  \n",
       "1  Situé dans une rue piétonne du centre de Nîmes...  43.83612815  4.36126995  \n",
       "2  Le Studio Nîmes Centre propose des hébergement...  43.83976280  4.35694199  \n",
       "3  Situé dans le centre de Nîmes, à 14 km du parc...  43.83677600  4.35801800  \n",
       "4  Situé à seulement 50 mètres de la gare de Nîme...  43.83205590  4.36736450  "
      ]
     },
     "execution_count": 27,
     "metadata": {},
     "output_type": "execute_result"
    }
   ],
   "source": [
    "def convert_to_float(x):\n",
    "    try:\n",
    "        # Si la valeur est un nombre au format texte, on la convertit en float\n",
    "        return float(str(x).replace(',', '.').replace('\"', ''))\n",
    "    except ValueError:\n",
    "        # Si la valeur n'est pas convertible en float, on la laisse telle quelle\n",
    "        return x\n",
    "\n",
    "# Applique la fonction à la colonne 'description'\n",
    "data_hotels['description'] = data_hotels['description'].apply(lambda x: convert_to_float(x) if pd.notnull(x) else x)\n",
    "\n",
    "data_hotels.head()\n"
   ]
  },
  {
   "cell_type": "code",
   "execution_count": 28,
   "metadata": {},
   "outputs": [],
   "source": [
    "data_hotels.to_csv('files/hotel_infos.csv', encoding='utf-8')"
   ]
  },
  {
   "cell_type": "code",
   "execution_count": 29,
   "metadata": {},
   "outputs": [
    {
     "name": "stdout",
     "output_type": "stream",
     "text": [
      "['43.56540100' '43.56452313' '43.83003691' '43.15145512' '43.15097100'\n",
      " '43.14398290' '43.15103203' '43.57211540' '43.14388500' '43.56535840'\n",
      " '43.14644500' '43.29076990' '43.29363530' '42.52754300' '43.29218920'\n",
      " '43.29774912' '43.30195653' '42.52739229' '43.12282480' '42.52443110']\n",
      "['4.19297300' '4.19255555' '4.36611269' '6.34296830' '6.34211700'\n",
      " '6.33727200' '6.34226151' '4.18652590' '6.35353600' '4.19275020'\n",
      " '6.32772400' '5.36721620' '5.37347210' '3.08535500' '5.37001360'\n",
      " '5.36706445' '5.37229434' '3.08228340' '6.35686020' '3.09031585']\n"
     ]
    }
   ],
   "source": [
    "# Inspecter les valeurs uniques dans les colonnes 'coord_lat' et 'coord_lon'\n",
    "print(hotel_bests['coord_lat'].unique())\n",
    "print(hotel_bests['coord_lon'].unique())"
   ]
  },
  {
   "cell_type": "code",
   "execution_count": 30,
   "metadata": {},
   "outputs": [
    {
     "data": {
      "application/vnd.plotly.v1+json": {
       "config": {
        "plotlyServerURL": "https://plot.ly"
       },
       "data": [
        {
         "customdata": [
          [
           "Au Cœur des Remparts",
           43.565401,
           4.192973,
           "9,9"
          ]
         ],
         "hovertemplate": "note=%{customdata[3]}<br>coord_lat=%{customdata[1]}<br>coord_lon=%{customdata[2]}<br>name=%{customdata[0]}<extra></extra>",
         "lat": [
          43.565401
         ],
         "legendgroup": "9,9",
         "lon": [
          4.192973
         ],
         "marker": {
          "color": "#636efa"
         },
         "mode": "markers",
         "name": "9,9",
         "showlegend": true,
         "subplot": "mapbox",
         "type": "scattermapbox"
        },
        {
         "customdata": [
          [
           "La maison blanche Intra-Muros Free parking",
           43.56452313,
           4.19255555,
           "9,8"
          ]
         ],
         "hovertemplate": "note=%{customdata[3]}<br>coord_lat=%{customdata[1]}<br>coord_lon=%{customdata[2]}<br>name=%{customdata[0]}<extra></extra>",
         "lat": [
          43.56452313
         ],
         "legendgroup": "9,8",
         "lon": [
          4.19255555
         ],
         "marker": {
          "color": "#EF553B"
         },
         "mode": "markers",
         "name": "9,8",
         "showlegend": true,
         "subplot": "mapbox",
         "type": "scattermapbox"
        },
        {
         "customdata": [
          [
           "Rougetomette",
           43.83003691,
           4.36611269,
           "9,7"
          ],
          [
           "Cosy studio - Place du Figuier",
           43.15145512,
           6.3429683,
           "9,7"
          ]
         ],
         "hovertemplate": "note=%{customdata[3]}<br>coord_lat=%{customdata[1]}<br>coord_lon=%{customdata[2]}<br>name=%{customdata[0]}<extra></extra>",
         "lat": [
          43.83003691,
          43.15145512
         ],
         "legendgroup": "9,7",
         "lon": [
          4.36611269,
          6.3429683
         ],
         "marker": {
          "color": "#00cc96"
         },
         "mode": "markers",
         "name": "9,7",
         "showlegend": true,
         "subplot": "mapbox",
         "type": "scattermapbox"
        },
        {
         "customdata": [
          [
           "La Recampado",
           43.150971,
           6.342117,
           "9,6"
          ],
          [
           "Bel appartement classé 3 étoiles",
           43.1439829,
           6.337272,
           "9,6"
          ]
         ],
         "hovertemplate": "note=%{customdata[3]}<br>coord_lat=%{customdata[1]}<br>coord_lon=%{customdata[2]}<br>name=%{customdata[0]}<extra></extra>",
         "lat": [
          43.150971,
          43.1439829
         ],
         "legendgroup": "9,6",
         "lon": [
          6.342117,
          6.337272
         ],
         "marker": {
          "color": "#ab63fa"
         },
         "mode": "markers",
         "name": "9,6",
         "showlegend": true,
         "subplot": "mapbox",
         "type": "scattermapbox"
        },
        {
         "customdata": [
          [
           "Studio lumineux - rue du Corsaire",
           43.15103203,
           6.34226151,
           "9,5"
          ],
          [
           "Mas de Constance 3pieces standing",
           43.5721154,
           4.1865259,
           "9,5"
          ],
          [
           "Les Terrasses de Lô",
           43.143885,
           6.353536,
           "9,5"
          ],
          [
           "Appartements 3 étoiles terrasse ou patio intra-muros",
           43.5653584,
           4.1927502,
           "9,5"
          ],
          [
           "HomeStay Bormes",
           43.146445,
           6.327724,
           "9,5"
          ],
          [
           "Studio Cosy rue Sainte/St Victor",
           43.2907699,
           5.3672162,
           "9,5"
          ],
          [
           "Vieux-Port view - Ultra center - Air conditioning - Les Frères de la Loc'",
           43.2936353,
           5.3734721,
           "9,5"
          ],
          [
           "Boramar",
           42.527543,
           3.085355,
           "9,5"
          ],
          [
           "La Pitcholine : Superbe studio au Vieux-Port",
           43.2921892,
           5.3700136,
           "9,5"
          ]
         ],
         "hovertemplate": "note=%{customdata[3]}<br>coord_lat=%{customdata[1]}<br>coord_lon=%{customdata[2]}<br>name=%{customdata[0]}<extra></extra>",
         "lat": [
          43.15103203,
          43.5721154,
          43.143885,
          43.5653584,
          43.146445,
          43.2907699,
          43.2936353,
          42.527543,
          43.2921892
         ],
         "legendgroup": "9,5",
         "lon": [
          6.34226151,
          4.1865259,
          6.353536,
          4.1927502,
          6.327724,
          5.3672162,
          5.3734721,
          3.085355,
          5.3700136
         ],
         "marker": {
          "color": "#FFA15A"
         },
         "mode": "markers",
         "name": "9,5",
         "showlegend": true,
         "subplot": "mapbox",
         "type": "scattermapbox"
        },
        {
         "customdata": [
          [
           "~{Le Pan’yay}~",
           43.29774912,
           5.36706445,
           "9,4"
          ]
         ],
         "hovertemplate": "note=%{customdata[3]}<br>coord_lat=%{customdata[1]}<br>coord_lon=%{customdata[2]}<br>name=%{customdata[0]}<extra></extra>",
         "lat": [
          43.29774912
         ],
         "legendgroup": "9,4",
         "lon": [
          5.36706445
         ],
         "marker": {
          "color": "#19d3f3"
         },
         "mode": "markers",
         "name": "9,4",
         "showlegend": true,
         "subplot": "mapbox",
         "type": "scattermapbox"
        },
        {
         "customdata": [
          [
           "Marseille City Chambres&Appartements",
           43.30195653,
           5.37229434,
           "9,3"
          ],
          [
           "Appartement Centre COLLIOURE CLIM PATIO WIFI",
           42.52739229,
           3.0822834,
           "9,3"
          ]
         ],
         "hovertemplate": "note=%{customdata[3]}<br>coord_lat=%{customdata[1]}<br>coord_lon=%{customdata[2]}<br>name=%{customdata[0]}<extra></extra>",
         "lat": [
          43.30195653,
          42.52739229
         ],
         "legendgroup": "9,3",
         "lon": [
          5.37229434,
          3.0822834
         ],
         "marker": {
          "color": "#FF6692"
         },
         "mode": "markers",
         "name": "9,3",
         "showlegend": true,
         "subplot": "mapbox",
         "type": "scattermapbox"
        },
        {
         "customdata": [
          [
           "Studio climatisé avec une place de parking et classé 2 étoiles à la Faviére",
           43.1228248,
           6.3568602,
           "9,2"
          ],
          [
           "Canta la Mar - Vue exceptionnelle",
           42.5244311,
           3.09031585,
           "9,2"
          ]
         ],
         "hovertemplate": "note=%{customdata[3]}<br>coord_lat=%{customdata[1]}<br>coord_lon=%{customdata[2]}<br>name=%{customdata[0]}<extra></extra>",
         "lat": [
          43.1228248,
          42.5244311
         ],
         "legendgroup": "9,2",
         "lon": [
          6.3568602,
          3.09031585
         ],
         "marker": {
          "color": "#B6E880"
         },
         "mode": "markers",
         "name": "9,2",
         "showlegend": true,
         "subplot": "mapbox",
         "type": "scattermapbox"
        }
       ],
       "layout": {
        "legend": {
         "title": {
          "text": "note"
         },
         "tracegroupgap": 0
        },
        "mapbox": {
         "center": {
          "lat": 43.208184856500004,
          "lon": 5.0820835644999995
         },
         "domain": {
          "x": [
           0,
           1
          ],
          "y": [
           0,
           1
          ]
         },
         "style": "carto-positron",
         "zoom": 4
        },
        "margin": {
         "t": 60
        },
        "template": {
         "data": {
          "bar": [
           {
            "error_x": {
             "color": "#2a3f5f"
            },
            "error_y": {
             "color": "#2a3f5f"
            },
            "marker": {
             "line": {
              "color": "#E5ECF6",
              "width": 0.5
             },
             "pattern": {
              "fillmode": "overlay",
              "size": 10,
              "solidity": 0.2
             }
            },
            "type": "bar"
           }
          ],
          "barpolar": [
           {
            "marker": {
             "line": {
              "color": "#E5ECF6",
              "width": 0.5
             },
             "pattern": {
              "fillmode": "overlay",
              "size": 10,
              "solidity": 0.2
             }
            },
            "type": "barpolar"
           }
          ],
          "carpet": [
           {
            "aaxis": {
             "endlinecolor": "#2a3f5f",
             "gridcolor": "white",
             "linecolor": "white",
             "minorgridcolor": "white",
             "startlinecolor": "#2a3f5f"
            },
            "baxis": {
             "endlinecolor": "#2a3f5f",
             "gridcolor": "white",
             "linecolor": "white",
             "minorgridcolor": "white",
             "startlinecolor": "#2a3f5f"
            },
            "type": "carpet"
           }
          ],
          "choropleth": [
           {
            "colorbar": {
             "outlinewidth": 0,
             "ticks": ""
            },
            "type": "choropleth"
           }
          ],
          "contour": [
           {
            "colorbar": {
             "outlinewidth": 0,
             "ticks": ""
            },
            "colorscale": [
             [
              0,
              "#0d0887"
             ],
             [
              0.1111111111111111,
              "#46039f"
             ],
             [
              0.2222222222222222,
              "#7201a8"
             ],
             [
              0.3333333333333333,
              "#9c179e"
             ],
             [
              0.4444444444444444,
              "#bd3786"
             ],
             [
              0.5555555555555556,
              "#d8576b"
             ],
             [
              0.6666666666666666,
              "#ed7953"
             ],
             [
              0.7777777777777778,
              "#fb9f3a"
             ],
             [
              0.8888888888888888,
              "#fdca26"
             ],
             [
              1,
              "#f0f921"
             ]
            ],
            "type": "contour"
           }
          ],
          "contourcarpet": [
           {
            "colorbar": {
             "outlinewidth": 0,
             "ticks": ""
            },
            "type": "contourcarpet"
           }
          ],
          "heatmap": [
           {
            "colorbar": {
             "outlinewidth": 0,
             "ticks": ""
            },
            "colorscale": [
             [
              0,
              "#0d0887"
             ],
             [
              0.1111111111111111,
              "#46039f"
             ],
             [
              0.2222222222222222,
              "#7201a8"
             ],
             [
              0.3333333333333333,
              "#9c179e"
             ],
             [
              0.4444444444444444,
              "#bd3786"
             ],
             [
              0.5555555555555556,
              "#d8576b"
             ],
             [
              0.6666666666666666,
              "#ed7953"
             ],
             [
              0.7777777777777778,
              "#fb9f3a"
             ],
             [
              0.8888888888888888,
              "#fdca26"
             ],
             [
              1,
              "#f0f921"
             ]
            ],
            "type": "heatmap"
           }
          ],
          "heatmapgl": [
           {
            "colorbar": {
             "outlinewidth": 0,
             "ticks": ""
            },
            "colorscale": [
             [
              0,
              "#0d0887"
             ],
             [
              0.1111111111111111,
              "#46039f"
             ],
             [
              0.2222222222222222,
              "#7201a8"
             ],
             [
              0.3333333333333333,
              "#9c179e"
             ],
             [
              0.4444444444444444,
              "#bd3786"
             ],
             [
              0.5555555555555556,
              "#d8576b"
             ],
             [
              0.6666666666666666,
              "#ed7953"
             ],
             [
              0.7777777777777778,
              "#fb9f3a"
             ],
             [
              0.8888888888888888,
              "#fdca26"
             ],
             [
              1,
              "#f0f921"
             ]
            ],
            "type": "heatmapgl"
           }
          ],
          "histogram": [
           {
            "marker": {
             "pattern": {
              "fillmode": "overlay",
              "size": 10,
              "solidity": 0.2
             }
            },
            "type": "histogram"
           }
          ],
          "histogram2d": [
           {
            "colorbar": {
             "outlinewidth": 0,
             "ticks": ""
            },
            "colorscale": [
             [
              0,
              "#0d0887"
             ],
             [
              0.1111111111111111,
              "#46039f"
             ],
             [
              0.2222222222222222,
              "#7201a8"
             ],
             [
              0.3333333333333333,
              "#9c179e"
             ],
             [
              0.4444444444444444,
              "#bd3786"
             ],
             [
              0.5555555555555556,
              "#d8576b"
             ],
             [
              0.6666666666666666,
              "#ed7953"
             ],
             [
              0.7777777777777778,
              "#fb9f3a"
             ],
             [
              0.8888888888888888,
              "#fdca26"
             ],
             [
              1,
              "#f0f921"
             ]
            ],
            "type": "histogram2d"
           }
          ],
          "histogram2dcontour": [
           {
            "colorbar": {
             "outlinewidth": 0,
             "ticks": ""
            },
            "colorscale": [
             [
              0,
              "#0d0887"
             ],
             [
              0.1111111111111111,
              "#46039f"
             ],
             [
              0.2222222222222222,
              "#7201a8"
             ],
             [
              0.3333333333333333,
              "#9c179e"
             ],
             [
              0.4444444444444444,
              "#bd3786"
             ],
             [
              0.5555555555555556,
              "#d8576b"
             ],
             [
              0.6666666666666666,
              "#ed7953"
             ],
             [
              0.7777777777777778,
              "#fb9f3a"
             ],
             [
              0.8888888888888888,
              "#fdca26"
             ],
             [
              1,
              "#f0f921"
             ]
            ],
            "type": "histogram2dcontour"
           }
          ],
          "mesh3d": [
           {
            "colorbar": {
             "outlinewidth": 0,
             "ticks": ""
            },
            "type": "mesh3d"
           }
          ],
          "parcoords": [
           {
            "line": {
             "colorbar": {
              "outlinewidth": 0,
              "ticks": ""
             }
            },
            "type": "parcoords"
           }
          ],
          "pie": [
           {
            "automargin": true,
            "type": "pie"
           }
          ],
          "scatter": [
           {
            "fillpattern": {
             "fillmode": "overlay",
             "size": 10,
             "solidity": 0.2
            },
            "type": "scatter"
           }
          ],
          "scatter3d": [
           {
            "line": {
             "colorbar": {
              "outlinewidth": 0,
              "ticks": ""
             }
            },
            "marker": {
             "colorbar": {
              "outlinewidth": 0,
              "ticks": ""
             }
            },
            "type": "scatter3d"
           }
          ],
          "scattercarpet": [
           {
            "marker": {
             "colorbar": {
              "outlinewidth": 0,
              "ticks": ""
             }
            },
            "type": "scattercarpet"
           }
          ],
          "scattergeo": [
           {
            "marker": {
             "colorbar": {
              "outlinewidth": 0,
              "ticks": ""
             }
            },
            "type": "scattergeo"
           }
          ],
          "scattergl": [
           {
            "marker": {
             "colorbar": {
              "outlinewidth": 0,
              "ticks": ""
             }
            },
            "type": "scattergl"
           }
          ],
          "scattermapbox": [
           {
            "marker": {
             "colorbar": {
              "outlinewidth": 0,
              "ticks": ""
             }
            },
            "type": "scattermapbox"
           }
          ],
          "scatterpolar": [
           {
            "marker": {
             "colorbar": {
              "outlinewidth": 0,
              "ticks": ""
             }
            },
            "type": "scatterpolar"
           }
          ],
          "scatterpolargl": [
           {
            "marker": {
             "colorbar": {
              "outlinewidth": 0,
              "ticks": ""
             }
            },
            "type": "scatterpolargl"
           }
          ],
          "scatterternary": [
           {
            "marker": {
             "colorbar": {
              "outlinewidth": 0,
              "ticks": ""
             }
            },
            "type": "scatterternary"
           }
          ],
          "surface": [
           {
            "colorbar": {
             "outlinewidth": 0,
             "ticks": ""
            },
            "colorscale": [
             [
              0,
              "#0d0887"
             ],
             [
              0.1111111111111111,
              "#46039f"
             ],
             [
              0.2222222222222222,
              "#7201a8"
             ],
             [
              0.3333333333333333,
              "#9c179e"
             ],
             [
              0.4444444444444444,
              "#bd3786"
             ],
             [
              0.5555555555555556,
              "#d8576b"
             ],
             [
              0.6666666666666666,
              "#ed7953"
             ],
             [
              0.7777777777777778,
              "#fb9f3a"
             ],
             [
              0.8888888888888888,
              "#fdca26"
             ],
             [
              1,
              "#f0f921"
             ]
            ],
            "type": "surface"
           }
          ],
          "table": [
           {
            "cells": {
             "fill": {
              "color": "#EBF0F8"
             },
             "line": {
              "color": "white"
             }
            },
            "header": {
             "fill": {
              "color": "#C8D4E3"
             },
             "line": {
              "color": "white"
             }
            },
            "type": "table"
           }
          ]
         },
         "layout": {
          "annotationdefaults": {
           "arrowcolor": "#2a3f5f",
           "arrowhead": 0,
           "arrowwidth": 1
          },
          "autotypenumbers": "strict",
          "coloraxis": {
           "colorbar": {
            "outlinewidth": 0,
            "ticks": ""
           }
          },
          "colorscale": {
           "diverging": [
            [
             0,
             "#8e0152"
            ],
            [
             0.1,
             "#c51b7d"
            ],
            [
             0.2,
             "#de77ae"
            ],
            [
             0.3,
             "#f1b6da"
            ],
            [
             0.4,
             "#fde0ef"
            ],
            [
             0.5,
             "#f7f7f7"
            ],
            [
             0.6,
             "#e6f5d0"
            ],
            [
             0.7,
             "#b8e186"
            ],
            [
             0.8,
             "#7fbc41"
            ],
            [
             0.9,
             "#4d9221"
            ],
            [
             1,
             "#276419"
            ]
           ],
           "sequential": [
            [
             0,
             "#0d0887"
            ],
            [
             0.1111111111111111,
             "#46039f"
            ],
            [
             0.2222222222222222,
             "#7201a8"
            ],
            [
             0.3333333333333333,
             "#9c179e"
            ],
            [
             0.4444444444444444,
             "#bd3786"
            ],
            [
             0.5555555555555556,
             "#d8576b"
            ],
            [
             0.6666666666666666,
             "#ed7953"
            ],
            [
             0.7777777777777778,
             "#fb9f3a"
            ],
            [
             0.8888888888888888,
             "#fdca26"
            ],
            [
             1,
             "#f0f921"
            ]
           ],
           "sequentialminus": [
            [
             0,
             "#0d0887"
            ],
            [
             0.1111111111111111,
             "#46039f"
            ],
            [
             0.2222222222222222,
             "#7201a8"
            ],
            [
             0.3333333333333333,
             "#9c179e"
            ],
            [
             0.4444444444444444,
             "#bd3786"
            ],
            [
             0.5555555555555556,
             "#d8576b"
            ],
            [
             0.6666666666666666,
             "#ed7953"
            ],
            [
             0.7777777777777778,
             "#fb9f3a"
            ],
            [
             0.8888888888888888,
             "#fdca26"
            ],
            [
             1,
             "#f0f921"
            ]
           ]
          },
          "colorway": [
           "#636efa",
           "#EF553B",
           "#00cc96",
           "#ab63fa",
           "#FFA15A",
           "#19d3f3",
           "#FF6692",
           "#B6E880",
           "#FF97FF",
           "#FECB52"
          ],
          "font": {
           "color": "#2a3f5f"
          },
          "geo": {
           "bgcolor": "white",
           "lakecolor": "white",
           "landcolor": "#E5ECF6",
           "showlakes": true,
           "showland": true,
           "subunitcolor": "white"
          },
          "hoverlabel": {
           "align": "left"
          },
          "hovermode": "closest",
          "mapbox": {
           "style": "light"
          },
          "paper_bgcolor": "white",
          "plot_bgcolor": "#E5ECF6",
          "polar": {
           "angularaxis": {
            "gridcolor": "white",
            "linecolor": "white",
            "ticks": ""
           },
           "bgcolor": "#E5ECF6",
           "radialaxis": {
            "gridcolor": "white",
            "linecolor": "white",
            "ticks": ""
           }
          },
          "scene": {
           "xaxis": {
            "backgroundcolor": "#E5ECF6",
            "gridcolor": "white",
            "gridwidth": 2,
            "linecolor": "white",
            "showbackground": true,
            "ticks": "",
            "zerolinecolor": "white"
           },
           "yaxis": {
            "backgroundcolor": "#E5ECF6",
            "gridcolor": "white",
            "gridwidth": 2,
            "linecolor": "white",
            "showbackground": true,
            "ticks": "",
            "zerolinecolor": "white"
           },
           "zaxis": {
            "backgroundcolor": "#E5ECF6",
            "gridcolor": "white",
            "gridwidth": 2,
            "linecolor": "white",
            "showbackground": true,
            "ticks": "",
            "zerolinecolor": "white"
           }
          },
          "shapedefaults": {
           "line": {
            "color": "#2a3f5f"
           }
          },
          "ternary": {
           "aaxis": {
            "gridcolor": "white",
            "linecolor": "white",
            "ticks": ""
           },
           "baxis": {
            "gridcolor": "white",
            "linecolor": "white",
            "ticks": ""
           },
           "bgcolor": "#E5ECF6",
           "caxis": {
            "gridcolor": "white",
            "linecolor": "white",
            "ticks": ""
           }
          },
          "title": {
           "x": 0.05
          },
          "xaxis": {
           "automargin": true,
           "gridcolor": "white",
           "linecolor": "white",
           "ticks": "",
           "title": {
            "standoff": 15
           },
           "zerolinecolor": "white",
           "zerolinewidth": 2
          },
          "yaxis": {
           "automargin": true,
           "gridcolor": "white",
           "linecolor": "white",
           "ticks": "",
           "title": {
            "standoff": 15
           },
           "zerolinecolor": "white",
           "zerolinewidth": 2
          }
         }
        },
        "width": 800
       }
      }
     },
     "metadata": {},
     "output_type": "display_data"
    }
   ],
   "source": [
    "# Si des chaînes sont concaténées par erreur, on peut les corriger\n",
    "hotel_bests.loc[:, 'coord_lat'] = hotel_bests['coord_lat'].apply(lambda x: x.split()[0] if isinstance(x, str) and ' ' in x else x)\n",
    "hotel_bests.loc[:, 'coord_lon'] = hotel_bests['coord_lon'].apply(lambda x: x.split()[0] if isinstance(x, str) and ' ' in x else x)\n",
    "\n",
    "# Convertir en float pour s'assurer que ce sont bien des nombres\n",
    "hotel_bests.loc[:, 'coord_lat'] = pd.to_numeric(hotel_bests['coord_lat'], errors='coerce')\n",
    "hotel_bests.loc[:, 'coord_lon'] = pd.to_numeric(hotel_bests['coord_lon'], errors='coerce')\n",
    "\n",
    "# Afficher à nouveau la carte après correction\n",
    "fig_hotels = px.scatter_mapbox(\n",
    "    hotel_bests,\n",
    "    lat=hotel_bests[\"coord_lat\"],\n",
    "    lon=hotel_bests[\"coord_lon\"],\n",
    "    color=\"note\",\n",
    "    hover_data={\"name\": True, \"coord_lat\": True, \"coord_lon\": True, \"note\": True},\n",
    "    mapbox_style=\"carto-positron\",\n",
    "    color_continuous_scale=px.colors.sequential.Blues,\n",
    "    zoom=4,\n",
    "    width=800\n",
    ")\n",
    "fig_hotels.show()\n"
   ]
  },
  {
   "cell_type": "markdown",
   "metadata": {},
   "source": [
    "# STOCKAGE AWS S3"
   ]
  },
  {
   "cell_type": "code",
   "execution_count": 31,
   "metadata": {},
   "outputs": [],
   "source": [
    "# Charger les variables depuis le fichier .env\n",
    "load_dotenv()\n",
    "\n",
    "# Récupérer les crédentiels AWS\n",
    "aws_access_key = os.getenv('AWS_ACCESS_KEY_ID')\n",
    "aws_secret_key = os.getenv('AWS_SECRET_ACCESS_KEY')\n",
    "aws_region = os.getenv('AWS_REGION')\n",
    "\n",
    "bucketname = 'booking-mouton-bucket'"
   ]
  },
  {
   "cell_type": "code",
   "execution_count": 32,
   "metadata": {},
   "outputs": [
    {
     "ename": "BucketAlreadyOwnedByYou",
     "evalue": "An error occurred (BucketAlreadyOwnedByYou) when calling the CreateBucket operation: Your previous request to create the named bucket succeeded and you already own it.",
     "output_type": "error",
     "traceback": [
      "\u001b[1;31m---------------------------------------------------------------------------\u001b[0m",
      "\u001b[1;31mBucketAlreadyOwnedByYou\u001b[0m                   Traceback (most recent call last)",
      "Cell \u001b[1;32mIn[32], line 11\u001b[0m\n\u001b[0;32m      3\u001b[0m \u001b[38;5;66;03m# Initialiser la session boto3 avec les crédentiels chargés\u001b[39;00m\n\u001b[0;32m      4\u001b[0m s3_client \u001b[38;5;241m=\u001b[39m boto3\u001b[38;5;241m.\u001b[39mclient(\n\u001b[0;32m      5\u001b[0m     \u001b[38;5;124m'\u001b[39m\u001b[38;5;124ms3\u001b[39m\u001b[38;5;124m'\u001b[39m,\n\u001b[0;32m      6\u001b[0m     aws_access_key_id\u001b[38;5;241m=\u001b[39maws_access_key,\n\u001b[0;32m      7\u001b[0m     aws_secret_access_key\u001b[38;5;241m=\u001b[39maws_secret_key,\n\u001b[0;32m      8\u001b[0m     region_name\u001b[38;5;241m=\u001b[39maws_region\n\u001b[0;32m      9\u001b[0m )\n\u001b[1;32m---> 11\u001b[0m bucket \u001b[38;5;241m=\u001b[39m s3_client\u001b[38;5;241m.\u001b[39mcreate_bucket(Bucket\u001b[38;5;241m=\u001b[39mbucketname, CreateBucketConfiguration\u001b[38;5;241m=\u001b[39m{\u001b[38;5;124m'\u001b[39m\u001b[38;5;124mLocationConstraint\u001b[39m\u001b[38;5;124m'\u001b[39m: \u001b[38;5;124m'\u001b[39m\u001b[38;5;124meu-west-3\u001b[39m\u001b[38;5;124m'\u001b[39m})\n\u001b[0;32m     13\u001b[0m \u001b[38;5;66;03m# Charger les fichiers dans le bucket S3\u001b[39;00m\n\u001b[0;32m     14\u001b[0m s3_client\u001b[38;5;241m.\u001b[39mupload_file(\u001b[38;5;124m'\u001b[39m\u001b[38;5;124mfiles/top_5city.csv\u001b[39m\u001b[38;5;124m'\u001b[39m, bucketname, \u001b[38;5;124m'\u001b[39m\u001b[38;5;124mtop_5city.csv\u001b[39m\u001b[38;5;124m'\u001b[39m)\n",
      "File \u001b[1;32mc:\\Users\\mouto\\anaconda3\\envs\\jedha\\Lib\\site-packages\\botocore\\client.py:565\u001b[0m, in \u001b[0;36mClientCreator._create_api_method.<locals>._api_call\u001b[1;34m(self, *args, **kwargs)\u001b[0m\n\u001b[0;32m    561\u001b[0m     \u001b[38;5;28;01mraise\u001b[39;00m \u001b[38;5;167;01mTypeError\u001b[39;00m(\n\u001b[0;32m    562\u001b[0m         \u001b[38;5;124mf\u001b[39m\u001b[38;5;124m\"\u001b[39m\u001b[38;5;132;01m{\u001b[39;00mpy_operation_name\u001b[38;5;132;01m}\u001b[39;00m\u001b[38;5;124m() only accepts keyword arguments.\u001b[39m\u001b[38;5;124m\"\u001b[39m\n\u001b[0;32m    563\u001b[0m     )\n\u001b[0;32m    564\u001b[0m \u001b[38;5;66;03m# The \"self\" in this scope is referring to the BaseClient.\u001b[39;00m\n\u001b[1;32m--> 565\u001b[0m \u001b[38;5;28;01mreturn\u001b[39;00m \u001b[38;5;28mself\u001b[39m\u001b[38;5;241m.\u001b[39m_make_api_call(operation_name, kwargs)\n",
      "File \u001b[1;32mc:\\Users\\mouto\\anaconda3\\envs\\jedha\\Lib\\site-packages\\botocore\\client.py:1021\u001b[0m, in \u001b[0;36mBaseClient._make_api_call\u001b[1;34m(self, operation_name, api_params)\u001b[0m\n\u001b[0;32m   1017\u001b[0m     error_code \u001b[38;5;241m=\u001b[39m error_info\u001b[38;5;241m.\u001b[39mget(\u001b[38;5;124m\"\u001b[39m\u001b[38;5;124mQueryErrorCode\u001b[39m\u001b[38;5;124m\"\u001b[39m) \u001b[38;5;129;01mor\u001b[39;00m error_info\u001b[38;5;241m.\u001b[39mget(\n\u001b[0;32m   1018\u001b[0m         \u001b[38;5;124m\"\u001b[39m\u001b[38;5;124mCode\u001b[39m\u001b[38;5;124m\"\u001b[39m\n\u001b[0;32m   1019\u001b[0m     )\n\u001b[0;32m   1020\u001b[0m     error_class \u001b[38;5;241m=\u001b[39m \u001b[38;5;28mself\u001b[39m\u001b[38;5;241m.\u001b[39mexceptions\u001b[38;5;241m.\u001b[39mfrom_code(error_code)\n\u001b[1;32m-> 1021\u001b[0m     \u001b[38;5;28;01mraise\u001b[39;00m error_class(parsed_response, operation_name)\n\u001b[0;32m   1022\u001b[0m \u001b[38;5;28;01melse\u001b[39;00m:\n\u001b[0;32m   1023\u001b[0m     \u001b[38;5;28;01mreturn\u001b[39;00m parsed_response\n",
      "\u001b[1;31mBucketAlreadyOwnedByYou\u001b[0m: An error occurred (BucketAlreadyOwnedByYou) when calling the CreateBucket operation: Your previous request to create the named bucket succeeded and you already own it."
     ]
    }
   ],
   "source": [
    "import boto3\n",
    "\n",
    "# Initialiser la session boto3 avec les crédentiels chargés\n",
    "s3_client = boto3.client(\n",
    "    's3',\n",
    "    aws_access_key_id=aws_access_key,\n",
    "    aws_secret_access_key=aws_secret_key,\n",
    "    region_name=aws_region\n",
    ")\n",
    "\n",
    "bucket = s3_client.create_bucket(Bucket=bucketname, CreateBucketConfiguration={'LocationConstraint': 'eu-west-3'})\n",
    "\n",
    "# Charger les fichiers dans le bucket S3\n",
    "s3_client.upload_file('files/top_5city.csv', bucketname, 'top_5city.csv')\n",
    "s3_client.upload_file('files/booking_spider.json', bucketname, 'booking_spider.json')\n",
    "s3_client.upload_file('files/hotel_infos.csv', bucketname, 'hotel_infos.csv')\n"
   ]
  },
  {
   "cell_type": "code",
   "execution_count": null,
   "metadata": {},
   "outputs": [],
   "source": [
    "# Charger les CSV en DataFrame\n",
    "top_5city_df = pd.read_csv('files/top_5city.csv')\n",
    "hotel_infos_df = pd.read_csv('files/hotel_infos.csv')\n",
    "\n",
    "# Charger le fichier JSON en DataFrame\n",
    "booking_spider_df = pd.read_json('files/booking_spider.json')\n"
   ]
  },
  {
   "cell_type": "code",
   "execution_count": null,
   "metadata": {},
   "outputs": [
    {
     "data": {
      "text/plain": [
       "125"
      ]
     },
     "execution_count": 33,
     "metadata": {},
     "output_type": "execute_result"
    }
   ],
   "source": [
    "from sqlalchemy import create_engine\n",
    "\n",
    "# Créer un moteur de base de données (SQLite par exemple)\n",
    "engine = create_engine('sqlite:///my_database.db')\n",
    "\n",
    "# Sauvegarder les DataFrames dans des tables SQL\n",
    "top_5city_df.to_sql('top_5city', con=engine, if_exists='replace', index=False)\n",
    "hotel_infos_df.to_sql('hotel_infos', con=engine, if_exists='replace', index=False)\n",
    "booking_spider_df.to_sql('booking_spider', con=engine, if_exists='replace', index=False)\n"
   ]
  },
  {
   "cell_type": "code",
   "execution_count": null,
   "metadata": {},
   "outputs": [
    {
     "name": "stdout",
     "output_type": "stream",
     "text": [
      "(0, 'Lille', \"Grand' Place of Lille - Superb designer apartment\", '7,7', 'https://www.booking.com/hotel/fr/grand-place-of-lille-superb-designer-apartment.fr.html?aid=304142&label=gen173nr-1FCAEoggI46AdIM1gEaE2IAQGYAQm4ARfIA ... (132 characters truncated) ... dults=2&no_rooms=1&group_children=0&req_children=0&hpos=21&hapos=21&sr_order=popularity&srpvid=3c7d39ad6ea106a6&srepoch=1725955932&from=searchresults', \"Situé à Lille, à proximité de l'Hospice Gantois, du zoo de Lille et de la maison Coilliot, le Grand' Place of Lille - Superb designer apartment dispose d'une connexion Wi-Fi gratuite. \", 50.6349319, 3.0586239)\n",
      "(1, 'Lille', 'Studio Vieux Lille parking privé', '9,1', 'https://www.booking.com/hotel/fr/studio-vieux-lille-lille.fr.html?aid=304142&label=gen173nr-1FCAEoggI46AdIM1gEaE2IAQGYAQm4ARfIAQ_YAQHoAQH4AQOIAgGoAgO ... (110 characters truncated) ... dults=2&no_rooms=1&group_children=0&req_children=0&hpos=23&hapos=23&sr_order=popularity&srpvid=3c7d39ad6ea106a6&srepoch=1725955932&from=searchresults', \"Situé à Lille, à seulement 1 km de l'opéra, le Studio Vieux Lille parking privé propose un hébergement avec vue sur la ville, connexion Wi-Fi et parking privé gratuits. \", 50.6449536, 3.0624115)\n",
      "(2, 'Lille', 'Hotel Chagnot', '8,0', 'https://www.booking.com/hotel/fr/hotel-balladins-superior-lille-centre.fr.html?aid=304142&label=gen173nr-1FCAEoggI46AdIM1gEaE2IAQGYAQm4ARfIAQ_YAQHoAQ ... (123 characters truncated) ... dults=2&no_rooms=1&group_children=0&req_children=0&hpos=18&hapos=18&sr_order=popularity&srpvid=3c7d39ad6ea106a6&srepoch=1725955932&from=searchresults', \"L'Hotel Chagnot est situé dans le centre-ville de Lille, juste en face de la gare de Lille-Flandres et à 10 minutes à pied de la gare de Lille-Europe. \", 50.63624596, 3.06924239)\n",
      "(3, 'Lille', 'Mama Shelter Lille', '8,4', 'https://www.booking.com/hotel/fr/mama-shelter-lille.fr.html?aid=304142&label=gen173nr-1FCAEoggI46AdIM1gEaE2IAQGYAQm4ARfIAQ_YAQHoAQH4AQOIAgGoAgO4Atn-_ ... (135 characters truncated) ... en=0&req_children=0&hpos=25&hapos=25&sr_order=popularity&srpvid=3c7d39ad6ea106a6&srepoch=1725955932&from_sustainable_property_sr=1&from=searchresults', \"Le Mama Shelter Lille est situé dans le centre de Lille, à 4 minutes à pied de la gare et de la station de métro Lille Flandres ainsi qu'à 7 minutes de marche de la gare Lille Europe. \", 50.639065, 3.070951)\n",
      "(4, 'Lille', 'Le Napoleon', '7,0', 'https://www.booking.com/hotel/fr/le-napoleon.fr.html?aid=304142&label=gen173nr-1FCAEoggI46AdIM1gEaE2IAQGYAQm4ARfIAQ_YAQHoAQH4AQOIAgGoAgO4Atn-_7YGwAIB ... (97 characters truncated) ... dults=2&no_rooms=1&group_children=0&req_children=0&hpos=24&hapos=24&sr_order=popularity&srpvid=3c7d39ad6ea106a6&srepoch=1725955932&from=searchresults', \"Situé en plein centre de Lille, à 100 mètres des gares et de la place principale, l'hôtel Le Napoleon propose une connexion Wi-Fi gratuite. \", 50.63635314, 3.06912839)\n",
      "(5, 'Lille', 'galerie jacqueline storme', '9,4', 'https://www.booking.com/hotel/fr/galerie-jacqueline-storme.fr.html?aid=304142&label=gen173nr-1FCAEoggI46AdIM1gEaE2IAQGYAQm4ARfIAQ_YAQHoAQH4AQOIAgGoAg ... (142 characters truncated) ... en=0&req_children=0&hpos=19&hapos=19&sr_order=popularity&srpvid=3c7d39ad6ea106a6&srepoch=1725955932&from_sustainable_property_sr=1&from=searchresults', \"Dotée d'un salon commun et offrant une vue sur la ville, la galerie jacqueline storme est une maison d'hôtes récemment rénovée située à Lille, à 1,7 km de la gare de Lille Europe. \", 50.6453748, 3.0612643)\n",
      "(6, 'Lille', 'JOST Hôtel Lille Centre', '8,1', 'https://www.booking.com/hotel/fr/jost-lille-wazemmes.fr.html?aid=304142&label=gen173nr-1FCAEoggI46AdIM1gEaE2IAQGYAQm4ARfIAQ_YAQHoAQH4AQOIAgGoAgO4Atn- ... (136 characters truncated) ... en=0&req_children=0&hpos=20&hapos=20&sr_order=popularity&srpvid=3c7d39ad6ea106a6&srepoch=1725955932&from_sustainable_property_sr=1&from=searchresults', \"Situé à Lille, à moins de 1 km de la maison Coilliot, le JOST Hôtel Lille Wazemmes propose une terrasse, des chambres non-fumeurs, une connexion Wi-Fi gratuite dans l'ensemble de ses locaux et un bar....\", 50.6288419, 3.0519791)\n",
      "(7, 'Lille', 'CHARME VIEUX LILLE Apartment 1 chambre 24H24H Access', '7,9', 'https://www.booking.com/hotel/fr/charme-du-vieux-lille.fr.html?aid=304142&label=gen173nr-1FCAEoggI46AdIM1gEaE2IAQGYAQm4ARfIAQ_YAQHoAQH4AQOIAgGoAgO4At ... (107 characters truncated) ... dults=2&no_rooms=1&group_children=0&req_children=0&hpos=22&hapos=22&sr_order=popularity&srpvid=3c7d39ad6ea106a6&srepoch=1725955932&from=searchresults', \"Le CHARME VIEUX LILLE Apartment 1 chambre 24H24H Access est un appartement avec cuisine situé à Lille, à 1,6 km de l'opéra, à 1,7 km du parc zoologique et à 1,8 km de la Grand'Place. \", 50.64333085, 3.05954592)\n",
      "(8, 'Lille', 'Chambre privée Place aux oignons', '9,7', 'https://www.booking.com/hotel/fr/maison-de-1730-place-aux-oignons.fr.html?aid=304142&label=gen173nr-1FCAEoggI46AdIM1gEaE2IAQGYAQm4ARfIAQ_YAQHoAQH4AQO ... (118 characters truncated) ... dults=2&no_rooms=1&group_children=0&req_children=0&hpos=17&hapos=17&sr_order=popularity&srpvid=3c7d39ad6ea106a6&srepoch=1725955932&from=searchresults', 'Occupant un bâtiment historique, la Chambre privée Place aux oignons, récemment rénovée, propose des hébergements avec une terrasse et une connexion Wi-Fi gratuite. ', 50.64049648, 3.06128638)\n",
      "(9, 'Lille', 'LeRelaisdOdile - Appart Cosy au Vieux-Lille', '9,0', 'https://www.booking.com/hotel/fr/lerelaisdodile-appart-cosy-au-vieux-lille.fr.html?aid=304142&label=gen173nr-1FCAEoggI46AdIM1gEaE2IAQGYAQm4ARfIAQ_YAQ ... (127 characters truncated) ... dults=2&no_rooms=1&group_children=0&req_children=0&hpos=16&hapos=16&sr_order=popularity&srpvid=3c7d39ad6ea106a6&srepoch=1725955932&from=searchresults', 'Offrant une vue sur la ville, LeRelaisdOdile - Appart Cosy au Vieux-Lille est un hébergement situé à Lille, à 1,5 km du zoo et à moins de 1 km de la Grand-Place. ', 50.6438827, 3.058751)\n",
      "(10, 'Lille', 'Appartement cosy au coeur de Lille - Euralille', '8,8', 'https://www.booking.com/hotel/fr/studio-cosy-au-coeur-de-lille.fr.html?aid=304142&label=gen173nr-1FCAEoggI46AdIM1gEaE2IAQGYAQm4ARfIAQ_YAQHoAQH4AQOIAg ... (115 characters truncated) ... dults=2&no_rooms=1&group_children=0&req_children=0&hpos=13&hapos=13&sr_order=popularity&srpvid=3c7d39ad6ea106a6&srepoch=1725955932&from=searchresults', \"Situé à Lille, à moins de 1 km du Grand Palais et à 7 minutes à pied du Zénith, l'Appartement cosy au coeur de Lille - Euralille propose un hébergement avec une connexion Wi-Fi gratuite et une...\", 50.6369435, 3.0733355)\n",
      "(11, 'Lille', 'Au Coeur De Lille', '9,5', 'https://www.booking.com/hotel/fr/au-coeur-de-lille.fr.html?aid=304142&label=gen173nr-1FCAEoggI46AdIM1gEaE2IAQGYAQm4ARfIAQ_YAQHoAQH4AQOIAgGoAgO4Atn-_7 ... (103 characters truncated) ... dults=2&no_rooms=1&group_children=0&req_children=0&hpos=14&hapos=14&sr_order=popularity&srpvid=3c7d39ad6ea106a6&srepoch=1725955932&from=searchresults', \"Offrant une vue sur la ville, l'établissement Au Coeur De Lille est situé dans le quartier de Lille-Centre, à moins de 1\\xa0km du zoo et à 15\\xa0minutes à pied de l'Hospice Gantois. \", 50.63551312, 3.05439251)\n",
      "(12, 'Lille', 'Equipped apartment premium location', '8,0', 'https://www.booking.com/hotel/fr/heart-of-old-lille-bright-flat.fr.html?aid=304142&label=gen173nr-1FCAEoggI46AdIM1gEaE2IAQGYAQm4ARfIAQ_YAQHoAQH4AQOIA ... (116 characters truncated) ... dults=2&no_rooms=1&group_children=0&req_children=0&hpos=15&hapos=15&sr_order=popularity&srpvid=3c7d39ad6ea106a6&srepoch=1725955932&from=searchresults', \"L'Equiped apartment premium location est situé dans le quartier du Vieux-Lille à Lille, à 500 mètres de l'opéra, de la Grand-Place et à moins de 1 km de la gare de Lille-Flandres. \", 50.6408384, 3.0657605)\n",
      "(13, 'Lille', 'Vieille Bourse - Studio close to stations and old city - Welkeys', '7,9', 'https://www.booking.com/hotel/fr/vieille-bourse-cozy-studio-close-to-stations-and-old-city-welkeys.fr.html?aid=304142&label=gen173nr-1FCAEoggI46AdIM1 ... (151 characters truncated) ... dults=2&no_rooms=1&group_children=0&req_children=0&hpos=10&hapos=10&sr_order=popularity&srpvid=3c7d39ad6ea106a6&srepoch=1725955932&from=searchresults', 'Le Vieille Bourse - Studio close to stations and old city - Welkeys est situé dans le centre de Lille, à 500 mètres de la Grand-Place, à 300 mètres de la gare de Lille-Flandres et à 700 mètres de...', 50.6372416, 3.0691052)\n",
      "(14, 'Lille', 'OKKO Hotels Lille Centre', '8,7', 'https://www.booking.com/hotel/fr/okko-hotels-lille-centre.fr.html?aid=304142&label=gen173nr-1FCAEoggI46AdIM1gEaE2IAQGYAQm4ARfIAQ_YAQHoAQH4AQOIAgGoAgO ... (141 characters truncated) ... en=0&req_children=0&hpos=11&hapos=11&sr_order=popularity&srpvid=3c7d39ad6ea106a6&srepoch=1725955932&from_sustainable_property_sr=1&from=searchresults', \"Situé à Lille, l'OKKO Hotels Lille Centre propose une salle de sport, un salon commun, une terrasse et un restaurant. \", 50.634074, 3.064229)\n",
      "(15, 'Lille', 'My Little Home - Le Vieux Lille de St Etienne', '9,0', 'https://www.booking.com/hotel/fr/vieux-lille-le-nid-du-cure.fr.html?aid=304142&label=gen173nr-1FCAEoggI46AdIM1gEaE2IAQGYAQm4ARfIAQ_YAQHoAQH4AQOIAgGoA ... (143 characters truncated) ... en=0&req_children=0&hpos=12&hapos=12&sr_order=popularity&srpvid=3c7d39ad6ea106a6&srepoch=1725955932&from_sustainable_property_sr=1&from=searchresults', \"Récemment rénové, l'établissement My Little Home - Le Vieux Lille de St Etienne est situé à Lille, à proximité de l'opéra, de la Grand-Place et du zoo de Lille. \", 50.6382023, 3.0622442)\n",
      "(16, 'Rouen', 'B&B HOTEL Rouen Centre Rive Droite', '8,1', 'https://www.booking.com/hotel/fr/ibis-rouen-centre-rive-droite.fr.html?aid=304142&label=gen173nr-1FCAEoggI46AdIM1gEaE2IAQGYAQm4ARfIAQ_YAQHoAQH4AQOIAg ... (115 characters truncated) ... dults=2&no_rooms=1&group_children=0&req_children=0&hpos=25&hapos=25&sr_order=popularity&srpvid=968439ad14550551&srepoch=1725955932&from=searchresults', \"Situé à 20 minutes à pied du centre et de la cathédrale, l'hôtel B&B HOTEL Rouen Centre Rive Droite propose un restaurant français, un bar et des chambres climatisées dotées d'une télévision par câble...\", 49.44318544, 1.07911371)\n",
      "(17, 'Rouen', 'Grand appartement Cordier', '8,2', 'https://www.booking.com/hotel/fr/grand-appartement-cordier.fr.html?aid=304142&label=gen173nr-1FCAEoggI46AdIM1gEaE2IAQGYAQm4ARfIAQ_YAQHoAQH4AQOIAgGoAg ... (111 characters truncated) ... dults=2&no_rooms=1&group_children=0&req_children=0&hpos=24&hapos=24&sr_order=popularity&srpvid=968439ad14550551&srepoch=1725955932&from=searchresults', 'Le Grand appartement Cordier est situé dans le centre-ville de Rouen, à 600 mètres de la gare de Rouen Rive Droite, à 3,7 km du palais des sports Kindarena et à 4,3 km de la gare Voltaire. ', 49.4457455, 1.096343)\n",
      "(18, 'Rouen', \"L'escale normande - Terrasse - Gare\", '9,4', 'https://www.booking.com/hotel/fr/la-walnut-room-terrasse-arrivee-autonome.fr.html?aid=304142&label=gen173nr-1FCAEoggI46AdIM1gEaE2IAQGYAQm4ARfIAQ_YAQH ... (126 characters truncated) ... dults=2&no_rooms=1&group_children=0&req_children=0&hpos=21&hapos=21&sr_order=popularity&srpvid=968439ad14550551&srepoch=1725955932&from=searchresults', \"Situé à Rouen, à 200 mètres de la gare de Rouen Rive Droite, l'établissement L'escale normande - Terrasse - Gare propose un hébergement récemment rénové avec connexion Wi-Fi gratuite et terrasse. \", 49.4483861, 1.0956814)\n",
      "(19, 'Rouen', 'Le 4B - Le Tiki', '9,2', 'https://www.booking.com/hotel/fr/le-4b-mathilde.fr.html?aid=304142&label=gen173nr-1FCAEoggI46AdIM1gEaE2IAQGYAQm4ARfIAQ_YAQHoAQH4AQOIAgGoAgO4Atn-_7YGw ... (131 characters truncated) ... en=0&req_children=0&hpos=22&hapos=22&sr_order=popularity&srpvid=968439ad14550551&srepoch=1725955932&from_sustainable_property_sr=1&from=searchresults', 'Offrant une vue sur la ville, Le 4B - Le Tiki est un hébergement situé à Rouen, à 3,2 km du palais des sports Kindarena et à 3,8 km de la gare de Voltaire. ', 49.4465452, 1.0929032)\n",
      "(20, 'Rouen', 'Grand Hôtel De La Seine', '8,2', 'https://www.booking.com/hotel/fr/rouencentre.fr.html?aid=304142&label=gen173nr-1FCAEoggI46AdIM1gEaE2IAQGYAQm4ARfIAQ_YAQHoAQH4AQOIAgGoAgO4Atn-_7YGwAIB ... (97 characters truncated) ... dults=2&no_rooms=1&group_children=0&req_children=0&hpos=23&hapos=23&sr_order=popularity&srpvid=968439ad14550551&srepoch=1725955932&from=searchresults', 'Situé à seulement 500 mètres de la gare de Rouen-Orléans, le Grand Hôtel De La Seine se trouve à 15 minutes à pied de la cathédrale de Rouen et à 2 km du palais des sports. ', 49.44158357, 1.08144455)\n",
      "(21, 'Rouen', 'Hôtel Littéraire Gustave Flaubert, BW Signature Collection', '8,6', 'https://www.booking.com/hotel/fr/hotellitterairegustaveflaubert.fr.html?aid=304142&label=gen173nr-1FCAEoggI46AdIM1gEaE2IAQGYAQm4ARfIAQ_YAQHoAQH4AQOIA ... (147 characters truncated) ... en=0&req_children=0&hpos=20&hapos=20&sr_order=popularity&srpvid=968439ad14550551&srepoch=1725955932&from_sustainable_property_sr=1&from=searchresults', None, 49.44263508, 1.08685791)\n",
      "(22, 'Rouen', '*Emma : Mignon* F2 *proche de la gare', '8,5', 'https://www.booking.com/hotel/fr/emma-mignon-f2-proche-de-la-gare.fr.html?aid=304142&label=gen173nr-1FCAEoggI46AdIM1gEaE2IAQGYAQm4ARfIAQ_YAQHoAQH4AQO ... (118 characters truncated) ... dults=2&no_rooms=1&group_children=0&req_children=0&hpos=19&hapos=19&sr_order=popularity&srpvid=968439ad14550551&srepoch=1725955932&from=searchresults', 'Le Rouen *Emma: Mignon* F2 *proche de la gare est un hébergement situé à Rouen, à 1,3 km de la cathédrale Notre-Dame, à 4,3 km du palais des sports Kindarena et à 5 km de la gare Voltaire. ', 49.4508491, 1.0956646)\n",
      "(23, 'Rouen', 'Le Mini Loft - Au Coeur de Rouen - Déco Atelier', '7,2', 'https://www.booking.com/hotel/fr/le-mini-loft-rouen.fr.html?aid=304142&label=gen173nr-1FCAEoggI46AdIM1gEaE2IAQGYAQm4ARfIAQ_YAQHoAQH4AQOIAgGoAgO4Atn-_ ... (135 characters truncated) ... en=0&req_children=0&hpos=18&hapos=18&sr_order=popularity&srpvid=968439ad14550551&srepoch=1725955932&from_sustainable_property_sr=1&from=searchresults', 'Situé dans le centre de Rouen, à seulement 300 mètres de la cathédrale Notre-Dame et à 1,2 km de la gare de Rouen Rive Droite, Le Mini Loft - Au Coeur de Rouen - Déco Atelier propose un hébergement...', 49.4415238, 1.0967643)\n",
      "(24, 'Rouen', 'Studio N°2 Plein coeur de Rouen', '8,5', 'https://www.booking.com/hotel/fr/studio-ndeg2-plein-coeur-de-rouen.fr.html?aid=304142&label=gen173nr-1FCAEoggI46AdIM1gEaE2IAQGYAQm4ARfIAQ_YAQHoAQH4AQ ... (119 characters truncated) ... dults=2&no_rooms=1&group_children=0&req_children=0&hpos=17&hapos=17&sr_order=popularity&srpvid=968439ad14550551&srepoch=1725955932&from=searchresults', 'Le Studio N°2 Plein coeur de Rouen propose un hébergement avec une connexion Wi-Fi gratuite à Rouen, à 2,4 km de la gare Voltaire, à 1,1 km de la gare de Rouen Rive Droite et à 3,2 km du palais des...', 49.4413794, 1.0929714)\n",
      "(25, 'Rouen', 'Les Carmes', '8,4', 'https://www.booking.com/hotel/fr/chambres-d-ha-tes-les-carmes.fr.html?aid=304142&label=gen173nr-1FCAEoggI46AdIM1gEaE2IAQGYAQm4ARfIAQ_YAQHoAQH4AQOIAgG ... (114 characters truncated) ... dults=2&no_rooms=1&group_children=0&req_children=0&hpos=15&hapos=15&sr_order=popularity&srpvid=968439ad14550551&srepoch=1725955932&from=searchresults', \"Occupant une maison de ville du XIXe siècle située dans le centre historique de Rouen, les Chambres d'Hôtes Les Carmes proposent une connexion Wi-Fi gratuite dans tous les locaux et des hébergements...\", 49.44219136, 1.09654337)\n",
      "(26, 'Rouen', 'Chez Nata Avec Parking', '9,1', 'https://www.booking.com/hotel/fr/appartement-rouen3.fr.html?aid=304142&label=gen173nr-1FCAEoggI46AdIM1gEaE2IAQGYAQm4ARfIAQ_YAQHoAQH4AQOIAgGoAgO4Atn-_ ... (104 characters truncated) ... dults=2&no_rooms=1&group_children=0&req_children=0&hpos=14&hapos=14&sr_order=popularity&srpvid=968439ad14550551&srepoch=1725955932&from=searchresults', 'Offrant une vue sur le lac, le Chez Nata Avec Parking propose un hébergement avec un balcon, à environ 1,4 km de la gare de Rouen Rive Droite. ', 49.4389739, 1.0932591)\n",
      "(27, 'Rouen', 'Le Vieux Carré', '8,0', 'https://www.booking.com/hotel/fr/le-vieux-carre.fr.html?aid=304142&label=gen173nr-1FCAEoggI46AdIM1gEaE2IAQGYAQm4ARfIAQ_YAQHoAQH4AQOIAgGoAgO4Atn-_7YGw ... (100 characters truncated) ... dults=2&no_rooms=1&group_children=0&req_children=0&hpos=13&hapos=13&sr_order=popularity&srpvid=968439ad14550551&srepoch=1725955932&from=searchresults', \"L'hôtel Le Vieux Carré est situé dans le centre de Rouen, dans une zone piétonne, à seulement 850\\xa0mètres de la gare de Rouen-Rive-Droite. \", 49.44332714, 1.09457396)\n",
      "(28, 'Rouen', 'Havre de Paix au Centre de Rouen', '9,6', 'https://www.booking.com/hotel/fr/havre-de-paix-au-centre-de-rouen.fr.html?aid=304142&label=gen173nr-1FCAEoggI46AdIM1gEaE2IAQGYAQm4ARfIAQ_YAQHoAQH4AQO ... (118 characters truncated) ... dults=2&no_rooms=1&group_children=0&req_children=0&hpos=16&hapos=16&sr_order=popularity&srpvid=968439ad14550551&srepoch=1725955932&from=searchresults', 'Situé dans le centre de Rouen, à seulement 600 mètres de la gare de Rouen Rive Droite et à moins de 1 km de la cathédrale Notre-Dame, le Havre de Paix au Centre de Rouen propose un hébergement avec...', 49.4460795, 1.0913701)\n",
      "(29, 'Rouen', 'Studio N1 hypercentre Rue Saint Nicolas', '8,6', 'https://www.booking.com/hotel/fr/studio-hypercentre-rouen-rue-saint-nicolas.fr.html?aid=304142&label=gen173nr-1FCAEoggI46AdIM1gEaE2IAQGYAQm4ARfIAQ_YA ... (128 characters truncated) ... dults=2&no_rooms=1&group_children=0&req_children=0&hpos=12&hapos=12&sr_order=popularity&srpvid=968439ad14550551&srepoch=1725955932&from=searchresults', 'Le Studio N1 hypercentre Rue Saint Nicolas propose un hébergement avec connexion Wi-Fi gratuite à Rouen, à 3,2 km de la gare Voltaire, à 1,3 km de la gare de Rouen Rive Droite et à 3,5 km du palais...', 49.4408228, 1.0973912)\n",
      "(30, 'Rouen', 'Charmant studio hypercentre', '8,6', 'https://www.booking.com/hotel/fr/charmant-studio-hypercentre.fr.html?aid=304142&label=gen173nr-1FCAEoggI46AdIM1gEaE2IAQGYAQm4ARfIAQ_YAQHoAQH4AQOIAgGo ... (113 characters truncated) ... dults=2&no_rooms=1&group_children=0&req_children=0&hpos=11&hapos=11&sr_order=popularity&srpvid=968439ad14550551&srepoch=1725955932&from=searchresults', \"Doté d'une connexion Wi-Fi gratuite, le Charmant studio hypercentre est situé à Rouen, à 800 mètres de la gare de Rouen Rive Droite, à 3 km du palais des sports Kindarena et à 3,6 km de la gare...\", 49.444792, 1.0903173)\n",
      "(31, 'Rouen', 'Le petit écureuil studio Hypercentre', '7,9', 'https://www.booking.com/hotel/fr/le-petit-ecureuil-studio-hypercentre.fr.html?aid=304142&label=gen173nr-1FCAEoggI46AdIM1gEaE2IAQGYAQm4ARfIAQ_YAQHoAQH ... (120 characters truncated) ... _adults=2&no_rooms=1&group_children=0&req_children=0&hpos=8&hapos=8&sr_order=popularity&srpvid=968439ad14550551&srepoch=1725955932&from=searchresults', 'Le petit écureuil studio Hypercentre is set in the Rouen City Centre district of Rouen, less than 1 km from Gare de Rouen Rive Droite, 3.4 km from Voltaire Station, Rouen and 3.5 km from Rouen...', 49.4435906, 1.0944773)\n",
      "(32, 'Rouen', 'Les 3 Clochers - Cozy et Confort - Hypercentre', '9,4', 'https://www.booking.com/hotel/fr/les-3-clochers-cozy-et-confort-hypercentre.fr.html?aid=304142&label=gen173nr-1FCAEoggI46AdIM1gEaE2IAQGYAQm4ARfIAQ_YA ... (128 characters truncated) ... dults=2&no_rooms=1&group_children=0&req_children=0&hpos=10&hapos=10&sr_order=popularity&srpvid=968439ad14550551&srepoch=1725955932&from=searchresults', \"Doté d'une connexion Wi-Fi gratuite et offrant une vue sur la ville, l'établissement Les 3 Clochers - Cozy et Confort - Hypercentre est situé au coeur de Rouen, à seulement 400 mètres de la cathédrale...\", 49.4400755, 1.098714)\n",
      "(33, 'Rouen', 'Appartement dans ancien Hôtel historique', '8,8', 'https://www.booking.com/hotel/fr/appartement-dans-ancien-historique.fr.html?aid=304142&label=gen173nr-1FCAEoggI46AdIM1gEaE2IAQGYAQm4ARfIAQ_YAQHoAQH4A ... (118 characters truncated) ... _adults=2&no_rooms=1&group_children=0&req_children=0&hpos=9&hapos=9&sr_order=popularity&srpvid=968439ad14550551&srepoch=1725955932&from=searchresults', \"Situé dans le centre-ville de Rouen, à proximité de la gare de Rouen Rive Droite, l'Appartement dans ancien Hôtel historique dispose d'une connexion Wi-Fi gratuite et d'un lave-linge. \", 49.4405749, 1.09187076)\n",
      "(34, 'Rouen', 'Student Factory Rouen Champ de Mars', '8,7', 'https://www.booking.com/hotel/fr/student-factory-rouen-champ-de-mars-rouen.fr.html?aid=304142&label=gen173nr-1FCAEoggI46AdIM1gEaE2IAQGYAQm4ARfIAQ_YAQ ... (125 characters truncated) ... _adults=2&no_rooms=1&group_children=0&req_children=0&hpos=5&hapos=5&sr_order=popularity&srpvid=968439ad14550551&srepoch=1725955932&from=searchresults', 'Situé à Rouen, en Haute-Normandie, à proximité de la cathédrale Notre-Dame et du musée des Beaux-Arts de Rouen, le Student Factory Rouen Champ de Mars propose des hébergements avec connexion Wi-Fi et...', 49.4356924, 1.1075596)\n",
      "(35, 'Rouen', 'Joli studio hyper centre', '9,0', 'https://www.booking.com/hotel/fr/joli-studio-hyper-centre.fr.html?aid=304142&label=gen173nr-1FCAEoggI46AdIM1gEaE2IAQGYAQm4ARfIAQ_YAQHoAQH4AQOIAgGoAgO ... (108 characters truncated) ... _adults=2&no_rooms=1&group_children=0&req_children=0&hpos=4&hapos=4&sr_order=popularity&srpvid=968439ad14550551&srepoch=1725955932&from=searchresults', 'Le Joli studio hyper centre propose un hébergement avec connexion Wi-Fi gratuite à Rouen, à moins de 1 km de la gare de Rouen Rive Droite, à 3,3 km du palais des sports Kindarena et à 3,9 km de la...', 49.4436997, 1.0924325)\n",
      "(36, 'Rouen', 'studio Nicaise', '8,3', 'https://www.booking.com/hotel/fr/studio-nicaise.fr.html?aid=304142&label=gen173nr-1FCAEoggI46AdIM1gEaE2IAQGYAQm4ARfIAQ_YAQHoAQH4AQOIAgGoAgO4Atn-_7YGw ... (98 characters truncated) ... _adults=2&no_rooms=1&group_children=0&req_children=0&hpos=7&hapos=7&sr_order=popularity&srpvid=968439ad14550551&srepoch=1725955932&from=searchresults', 'Situé dans le centre de Rouen, à moins de 1 km de la cathédrale Notre-Dame et à 13 minutes à pied de la gare de Rouen Rive Droite, Le studio Nicaise propose un hébergement avec vue sur la cour...', 49.443839, 1.1028833)\n",
      "(37, 'Rouen', 'Studio hypercentre Quai de Seine', '8,1', 'https://www.booking.com/hotel/fr/studio-hypercentre-quai-de-seine.fr.html?aid=304142&label=gen173nr-1FCAEoggI46AdIM1gEaE2IAQGYAQm4ARfIAQ_YAQHoAQH4AQO ... (116 characters truncated) ... _adults=2&no_rooms=1&group_children=0&req_children=0&hpos=3&hapos=3&sr_order=popularity&srpvid=968439ad14550551&srepoch=1725955932&from=searchresults', 'Le Studio hypercentre Quai de Seine est un appartement récemment rénové situé dans le centre de Rouen, à 700 mètres de la cathédrale Notre-Dame et à 2,4 km de la gare Voltaire. ', 49.4371117, 1.0978727)\n",
      "(38, 'Rouen', 'Studios Le Médicis', '8,4', 'https://www.booking.com/hotel/fr/studios-le-medicis.fr.html?aid=304142&label=gen173nr-1FCAEoggI46AdIM1gEaE2IAQGYAQm4ARfIAQ_YAQHoAQH4AQOIAgGoAgO4Atn-_ ... (102 characters truncated) ... _adults=2&no_rooms=1&group_children=0&req_children=0&hpos=6&hapos=6&sr_order=popularity&srpvid=968439ad14550551&srepoch=1725955932&from=searchresults', \"Récemment rénové, l'établissement Studios Le Médicis est situé à Rouen, près du palais des sports Kindarena, pont Flaubert. \", 49.44922952, 1.06794342)\n",
      "(39, 'Ariege', 't2 Europa', '8,5', 'https://www.booking.com/hotel/fr/t2-europa.fr.html?aid=304142&label=gen173nr-1FCAEoggI46AdIM1gEaE2IAQGYAQm4ARfIAQ_YAQHoAQH4AQOIAgGoAgO4Atn-_7YGwAIB0g ... (95 characters truncated) ... dults=2&no_rooms=1&group_children=0&req_children=0&hpos=25&hapos=25&sr_order=popularity&srpvid=6f0a39adfe950805&srepoch=1725955932&from=searchresults', \"Situé à Ax-les-Thermes, en Midi-Pyrénées, l'appartement t2 Europa dispose d'une terrasse. Le parking privé sur place est gratuit. \", 42.7185454, 1.8405304)\n",
      "(40, 'Rouen', \"Valère, nid d'amour pour 2 proche Cathédrale\", '9,1', 'https://www.booking.com/hotel/fr/valere-nid-d-amour-pour-2-proche-cathedrale.fr.html?aid=304142&label=gen173nr-1FCAEoggI46AdIM1gEaE2IAQGYAQm4ARfIAQ_Y ... (127 characters truncated) ... _adults=2&no_rooms=1&group_children=0&req_children=0&hpos=2&hapos=2&sr_order=popularity&srpvid=968439ad14550551&srepoch=1725955932&from=searchresults', \"Doté d'une connexion Wi-Fi gratuite, le Valère, nid d'amour pour 2 proche Cathédrale est situé à Rouen, à 3,4 km de la gare de Voltaire, à 1,3 km de la gare de Rouen Rive Droite et à 3,7 km du palais...\", 49.4414231, 1.0969131)\n",
      "(41, 'Ariege', 'Chalet Pyrénéen', '8,2', 'https://www.booking.com/hotel/fr/chalet-pyreneen.fr.html?aid=304142&label=gen173nr-1FCAEoggI46AdIM1gEaE2IAQGYAQm4ARfIAQ_YAQHoAQH4AQOIAgGoAgO4Atn-_7YG ... (132 characters truncated) ... en=0&req_children=0&hpos=23&hapos=23&sr_order=popularity&srpvid=6f0a39adfe950805&srepoch=1725955932&from_sustainable_property_sr=1&from=searchresults', \"Situé à Saint-Ybars, le Chalet Pyrénéen propose un jardin, un bar et un barbecue. Ce chalet dispose d'un parking privé gratuit et d'une supérette. \", 43.221838, 1.3976962)\n",
      "(42, 'Ariege', 'Le Nopal Bleu', '9,0', 'https://www.booking.com/hotel/fr/le-nopal-bleu.fr.html?aid=304142&label=gen173nr-1FCAEoggI46AdIM1gEaE2IAQGYAQm4ARfIAQ_YAQHoAQH4AQOIAgGoAgO4Atn-_7YGwA ... (130 characters truncated) ... en=0&req_children=0&hpos=22&hapos=22&sr_order=popularity&srpvid=6f0a39adfe950805&srepoch=1725955932&from_sustainable_property_sr=1&from=searchresults', \"Situé à Tarascon-sur-Ariège, à seulement 36 km du col de la Crouzette, l'établissement Le Nopal Bleu propose un hébergement avec vue sur le jardin, une connexion Wi-Fi et un parking privé gratuits. \", 42.8485793, 1.6071044)\n",
      "(43, 'Ariege', 'T2 250m du centre ville AX-LES-THERMES', '8,4', 'https://www.booking.com/hotel/fr/t2-250m-du-centre-ville-ax-les-thermes.fr.html?aid=304142&label=gen173nr-1FCAEoggI46AdIM1gEaE2IAQGYAQm4ARfIAQ_YAQHoA ... (124 characters truncated) ... dults=2&no_rooms=1&group_children=0&req_children=0&hpos=24&hapos=24&sr_order=popularity&srpvid=6f0a39adfe950805&srepoch=1725955932&from=searchresults', \"Doté d'un casino et offrant une vue sur la montagne, le T2 250m du centre ville AX-LES-THERMES est situé à Ax-les-Thermes, à 47 km du sanctuaire de Meritxell et à 25 km de la carrière Talc de...\", 42.71258945, 1.84119565)\n",
      "(44, 'Ariege', 'Le Clos Fleuri', '9,7', 'https://www.booking.com/hotel/fr/le-clos-fleuri-rimont.fr.html?aid=304142&label=gen173nr-1FCAEoggI46AdIM1gEaE2IAQGYAQm4ARfIAQ_YAQHoAQH4AQOIAgGoAgO4At ... (107 characters truncated) ... dults=2&no_rooms=1&group_children=0&req_children=0&hpos=21&hapos=21&sr_order=popularity&srpvid=6f0a39adfe950805&srepoch=1725955932&from=searchresults', \"L'établissement Le Clos Fleuri est une maison de vacances rénovée datant du XIXe siècle située dans le hameau de Sucre, à Caumont, à 11 km de Saint-Girons. \", 43.0344956, 1.0572396)\n",
      "(45, 'Ariege', \"Chambres d'hôtes Relais Mira Peis\", '9,0', 'https://www.booking.com/hotel/fr/relais-mira-peis.fr.html?aid=304142&label=gen173nr-1FCAEoggI46AdIM1gEaE2IAQGYAQm4ARfIAQ_YAQHoAQH4AQOIAgGoAgO4Atn-_7Y ... (133 characters truncated) ... en=0&req_children=0&hpos=20&hapos=20&sr_order=popularity&srpvid=6f0a39adfe950805&srepoch=1725955932&from_sustainable_property_sr=1&from=searchresults', \"Situé à Mirepoix, l'établissement Chambres d'hôtes Relais Mira Peis propose une piscine extérieure ouverte en saison, une terrasse, un bar et une connexion Wi-Fi gratuite dans l'ensemble de ses...\", 43.088176, 1.875399)\n",
      "(46, 'Ariege', 'La Grange - 10 couchages', '9,3', 'https://www.booking.com/hotel/fr/la-grange-carla-de-roquefort.fr.html?aid=304142&label=gen173nr-1FCAEoggI46AdIM1gEaE2IAQGYAQm4ARfIAQ_YAQHoAQH4AQOIAgG ... (114 characters truncated) ... dults=2&no_rooms=1&group_children=0&req_children=0&hpos=18&hapos=18&sr_order=popularity&srpvid=6f0a39adfe950805&srepoch=1725955932&from=searchresults', \"Situé à Carla-de-Roquefort, à 20 km du château de Foix et de la fontaine Fontestorbes, l'établissement La Grange - 10 couchages dispose d'un jardin et de la climatisation. \", 42.9751989, 1.7654221)\n",
      "(47, 'Ariege', 'Apartment Natik', '9,0', 'https://www.booking.com/hotel/fr/apartment-natik.fr.html?aid=304142&label=gen173nr-1FCAEoggI46AdIM1gEaE2IAQGYAQm4ARfIAQ_YAQHoAQH4AQOIAgGoAgO4Atn-_7YG ... (101 characters truncated) ... dults=2&no_rooms=1&group_children=0&req_children=0&hpos=19&hapos=19&sr_order=popularity&srpvid=6f0a39adfe950805&srepoch=1725955932&from=searchresults', \"Situé à Ax-les-Thermes, en Midi-Pyrénées, l'Apartment Natik dispose d'un balcon et offre une vue sur la montagne. \", 42.71962529, 1.83817893)\n",
      "(48, 'Ariege', 'loft At Besset', '8,7', 'https://www.booking.com/hotel/fr/loft-at-besset.fr.html?aid=304142&label=gen173nr-1FCAEoggI46AdIM1gEaE2IAQGYAQm4ARfIAQ_YAQHoAQH4AQOIAgGoAgO4Atn-_7YGw ... (100 characters truncated) ... dults=2&no_rooms=1&group_children=0&req_children=0&hpos=17&hapos=17&sr_order=popularity&srpvid=6f0a39adfe950805&srepoch=1725955932&from=searchresults', 'Situé à Besset, à 30 km de la fontaine de Fontestorbes et à 32 km du château de Montsegur, le loft At Besset propose un barbecue et la climatisation. ', 43.08384244, 1.84741706)\n",
      "(49, 'Ariege', \"Chambres d'hôtes Belle Occitane\", '9,2', 'https://www.booking.com/hotel/fr/belle-occitane.fr.html?aid=304142&label=gen173nr-1FCAEoggI46AdIM1gEaE2IAQGYAQm4ARfIAQ_YAQHoAQH4AQOIAgGoAgO4Atn-_7YGw ... (131 characters truncated) ... en=0&req_children=0&hpos=14&hapos=14&sr_order=popularity&srpvid=6f0a39adfe950805&srepoch=1725955932&from_sustainable_property_sr=1&from=searchresults', \"L'établissement Chambres d'hôtes Belle Occitane est une demeure de caractère du XVIIIe siècle située dans la ville médiévale de Tarascon-sur-Ariège. \", 42.8471852, 1.60675853)\n",
      "(50, 'Ariege', 'Domaine de Garabaud', '8,3', 'https://www.booking.com/hotel/fr/domaine-de-garabaud.fr.html?aid=304142&label=gen173nr-1FCAEoggI46AdIM1gEaE2IAQGYAQm4ARfIAQ_YAQHoAQH4AQOIAgGoAgO4Atn- ... (136 characters truncated) ... en=0&req_children=0&hpos=15&hapos=15&sr_order=popularity&srpvid=6f0a39adfe950805&srepoch=1725955932&from_sustainable_property_sr=1&from=searchresults', 'Situé à Mazères, à 40 minutes de route de Toulouse, le Domaine de Garabaud est installé dans un magnifique cadre verdoyant, idéal pour accueillir tous vos événements. ', 43.25701228, 1.666435)\n",
      "(51, 'Ariege', 'Malepère', '9,2', 'https://www.booking.com/hotel/fr/malepere.fr.html?aid=304142&label=gen173nr-1FCAEoggI46AdIM1gEaE2IAQGYAQm4ARfIAQ_YAQHoAQH4AQOIAgGoAgO4Atn-_7YGwAIB0gI ... (125 characters truncated) ... en=0&req_children=0&hpos=13&hapos=13&sr_order=popularity&srpvid=6f0a39adfe950805&srepoch=1725955932&from_sustainable_property_sr=1&from=searchresults', 'Offrant une vue sur son jardin, le Malepère propose un hébergement avec une piscine extérieure ouverte en saison, un jardin et un barbecue, à environ 19 km de Buffalo Farm. ', 43.05318016, 1.84865303)\n",
      "(52, 'Ariege', 'Les appartements de Clélia', '9,5', 'https://www.booking.com/hotel/fr/les-jardins-de-clelia.fr.html?aid=304142&label=gen173nr-1FCAEoggI46AdIM1gEaE2IAQGYAQm4ARfIAQ_YAQHoAQH4AQOIAgGoAgO4At ... (138 characters truncated) ... en=0&req_children=0&hpos=11&hapos=11&sr_order=popularity&srpvid=6f0a39adfe950805&srepoch=1725955932&from_sustainable_property_sr=1&from=searchresults', \"Doté d'un jardin et offrant une vue sur la montagne, l'établissement Les appartements de Clélia est un appartement récemment rénové situé à Ax-les-Thermes, à 48 km du sanctuaire de Meritxell. \", 42.72085404, 1.83361059)\n",
      "(53, 'Ariege', 'Gite De Charme', '9,8', 'https://www.booking.com/hotel/fr/gite-de-charme-ganac.fr.html?aid=304142&label=gen173nr-1FCAEoggI46AdIM1gEaE2IAQGYAQm4ARfIAQ_YAQHoAQH4AQOIAgGoAgO4Atn ... (106 characters truncated) ... dults=2&no_rooms=1&group_children=0&req_children=0&hpos=16&hapos=16&sr_order=popularity&srpvid=6f0a39adfe950805&srepoch=1725955932&from=searchresults', 'Situé à Ganac, à seulement 34 km du col de la Crouzette, le Gite De Charme propose un hébergement avec vue sur la rue calme, connexion Wi-Fi et parking privé gratuits. ', 42.9359233, 1.57316923)\n",
      "(54, 'Ariege', 'Appartement Fontargente', '9,2', 'https://www.booking.com/hotel/fr/appartement-fontargente.fr.html?aid=304142&label=gen173nr-1FCAEoggI46AdIM1gEaE2IAQGYAQm4ARfIAQ_YAQHoAQH4AQOIAgGoAgO4 ... (140 characters truncated) ... en=0&req_children=0&hpos=12&hapos=12&sr_order=popularity&srpvid=6f0a39adfe950805&srepoch=1725955932&from_sustainable_property_sr=1&from=searchresults', \"Situé à Ax-les-Thermes, à seulement 48 km du sanctuaire de Meritxell, l'Appartement Fontargente propose un hébergement avec vue sur la cour intérieure, connexion Wi-Fi et parking privé gratuits. \", 42.71847547, 1.84064515)\n",
      "(55, 'Ariege', 'Studio Le Roof - Une vue splendide - Petit déjeuner inclus 1ère nuit - AUX 4 LOGIS', '9,0', 'https://www.booking.com/hotel/fr/le-roof-studio-aux-4-logis-petit-dejeuner-inclus-1ere-nuit.fr.html?aid=304142&label=gen173nr-1FCAEoggI46AdIM1gEaE2IA ... (175 characters truncated) ... en=0&req_children=0&hpos=10&hapos=10&sr_order=popularity&srpvid=6f0a39adfe950805&srepoch=1725955932&from_sustainable_property_sr=1&from=searchresults', \"Situé à Foix, le Studio Le Roof - Une vue splendide - Petit déjeuner inclus L'établissement 1ère nuit - AUX 4 LOGIS est un hébergement récemment rénové, à 600 mètres du château de Foix et à 6,5 km de...\", 42.9681599, 1.6083351)\n",
      "(56, 'Ariege', 'The Originals Access, Hôtel Foix', '8,0', 'https://www.booking.com/hotel/fr/campanilefoix.fr.html?aid=304142&label=gen173nr-1FCAEoggI46AdIM1gEaE2IAQGYAQm4ARfIAQ_YAQHoAQH4AQOIAgGoAgO4Atn-_7YGwA ... (128 characters truncated) ... dren=0&req_children=0&hpos=6&hapos=6&sr_order=popularity&srpvid=6f0a39adfe950805&srepoch=1725955932&from_sustainable_property_sr=1&from=searchresults', \"Situé au sein du parc naturel régional des Pyrénées ariégeoises, à 75\\xa0km de Toulouse, l'établissement The Originals Access, Hôtel Foix dispose d'une réception automatique ouverte 24h/24. \", 42.9921119, 1.61583245)\n",
      "(57, 'Ariege', 'Chalet en Castel', '9,3', 'https://www.booking.com/hotel/fr/maison-au-calme-sur-les-hauteurs-d-ax-les-thermes.fr.html?aid=304142&label=gen173nr-1FCAEoggI46AdIM1gEaE2IAQGYAQm4AR ... (164 characters truncated) ... dren=0&req_children=0&hpos=7&hapos=7&sr_order=popularity&srpvid=6f0a39adfe950805&srepoch=1725955932&from_sustainable_property_sr=1&from=searchresults', 'Offrant une vue sur le jardin, le Chalet en Castel est situé à Ax-les-Thermes, à 24 km de la carrière de Talc et à 25 km de la grotte de Lombrives. ', 42.72250548, 1.83303026)\n",
      "(58, 'Ariege', 'Chalet bois au milieu des Pyrénées', '8,9', 'https://www.booking.com/hotel/fr/chalet-bois-au-milieu-des-pyrenees.fr.html?aid=304142&label=gen173nr-1FCAEoggI46AdIM1gEaE2IAQGYAQm4ARfIAQ_YAQHoAQH4A ... (118 characters truncated) ... _adults=2&no_rooms=1&group_children=0&req_children=0&hpos=8&hapos=8&sr_order=popularity&srpvid=6f0a39adfe950805&srepoch=1725955932&from=searchresults', \"Doté d'une terrasse et d'une réception ouverte 24h/24, le Chalet bois au milieu des Pyrénées bénéficie d'un emplacement idéal à L'Hospitalet-près-l'Andorre, à 30\\xa0km du club de golf Real de Cerdaña et...\", 42.58990385, 1.79836833)\n",
      "(59, 'Ariege', 'Brit Hotel Confort Foix', '8,1', 'https://www.booking.com/hotel/fr/hotel-balladins-foix-confort.fr.html?aid=304142&label=gen173nr-1FCAEoggI46AdIM1gEaE2IAQGYAQm4ARfIAQ_YAQHoAQH4AQOIAgG ... (143 characters truncated) ... dren=0&req_children=0&hpos=4&hapos=4&sr_order=popularity&srpvid=6f0a39adfe950805&srepoch=1725955932&from_sustainable_property_sr=1&from=searchresults', 'Idéalement situé au pied des Pyrénées, le Brit Hotel Confort Foix propose des chambres bien équipées conçues pour un confort ultime avec salle de bains privative et connexion Wi-Fi gratuite. ', 43.0052395, 1.61475956)\n",
      "(60, 'Ariege', \"Chambre d'Hôtes La Bourdasse\", '9,5', 'https://www.booking.com/hotel/fr/chambre-d-hotes-cantariege.fr.html?aid=304142&label=gen173nr-1FCAEoggI46AdIM1gEaE2IAQGYAQm4ARfIAQ_YAQHoAQH4AQOIAgGoA ... (110 characters truncated) ... _adults=2&no_rooms=1&group_children=0&req_children=0&hpos=5&hapos=5&sr_order=popularity&srpvid=6f0a39adfe950805&srepoch=1725955932&from=searchresults', \"Située sur un domaine agricole, la Chambre d'Hôtes La Bourdasse propose des chambres à la décoration individuelle à 15 minutes de route de Foix et de son château. \", 43.03173136, 1.55587971)\n",
      "(61, 'Ariege', \"Lagrange Vacances Les Chalets d'Ax\", '7,8', 'https://www.booking.com/hotel/fr/residence-les-chalets-d-ax.fr.html?aid=304142&label=gen173nr-1FCAEoggI46AdIM1gEaE2IAQGYAQm4ARfIAQ_YAQHoAQH4AQOIAgGoA ... (110 characters truncated) ... _adults=2&no_rooms=1&group_children=0&req_children=0&hpos=9&hapos=9&sr_order=popularity&srpvid=6f0a39adfe950805&srepoch=1725955932&from=searchresults', \"Le Lagrange Vacances Les Chalets d'Ax est situé à Ax-Les-Thermes, à 800 mètres du centre-ville et des remontées mécaniques. \", 42.71383156, 1.83920681)\n",
      "(62, 'Ariege', \"Demeure de la Carmine, sejour bien-etre d'exception, piscine, hammam, champagne\", '9,6', 'https://www.booking.com/hotel/fr/demeure-de-la-carmine.fr.html?aid=304142&label=gen173nr-1FCAEoggI46AdIM1gEaE2IAQGYAQm4ARfIAQ_YAQHoAQH4AQOIAgGoAgO4At ... (136 characters truncated) ... dren=0&req_children=0&hpos=3&hapos=3&sr_order=popularity&srpvid=6f0a39adfe950805&srepoch=1725955932&from_sustainable_property_sr=1&from=searchresults', \"Implantée à Mirepoix, en Midi-Pyrénées, la Demeure de la Carmine, sejour bien-etre d'exception, piscine, hammam, champagne se situe à 41 km de Carcassonne. \", 43.08754039, 1.87135531)\n",
      "(63, 'Rouen', 'L Hibiscus 2', '8,7', 'https://www.booking.com/hotel/fr/l-hibiscus-2.fr.html?aid=304142&label=gen173nr-1FCAEoggI46AdIM1gEaE2IAQGYAQm4ARfIAQ_YAQHoAQH4AQOIAgGoAgO4Atn-_7YGwAI ... (96 characters truncated) ... _adults=2&no_rooms=1&group_children=0&req_children=0&hpos=1&hapos=1&sr_order=popularity&srpvid=968439ad14550551&srepoch=1725955932&from=searchresults', \"Situé dans le centre-ville de Rouen, à proximité de la gare de Rouen Rive Droite, l'établissement L Hibiscus 2 dispose d'une connexion Wi-Fi gratuite et d'un lave-linge. \", 49.443643, 1.088954)\n",
      "(64, 'Amiens', 'Les Hortensias Blancs', None, 'https://www.booking.com/hotel/fr/les-hortensias-blancs.fr.html?aid=304142&label=gen173nr-1FCAEoggI46AdIM1gEaE2IAQGYAQm4ARfIAQ_YAQHoAQH4AQOIAgGoAgO4At ... (107 characters truncated) ... dults=2&no_rooms=1&group_children=0&req_children=0&hpos=25&hapos=25&sr_order=popularity&srpvid=761039adae94031b&srepoch=1725955932&from=searchresults', \"Offering quiet street views, Les Hortensias Blancs is an accommodation set in Amiens, 1.1 km from The Floating gardens Park and 500 metres from Berny's Museum. \", 49.8961405, 2.3007116)\n",
      "(65, 'Ariege', 'Le petit nid', '9,1', 'https://www.booking.com/hotel/fr/le-petit-nid-montgaillard.fr.html?aid=304142&label=gen173nr-1FCAEoggI46AdIM1gEaE2IAQGYAQm4ARfIAQ_YAQHoAQH4AQOIAgGoAg ... (140 characters truncated) ... dren=0&req_children=0&hpos=2&hapos=2&sr_order=popularity&srpvid=6f0a39adfe950805&srepoch=1725955932&from_sustainable_property_sr=1&from=searchresults', \"Situé à Montgaillard, l'appartement Le petit nid récemment rénové dispose d'un jardin. Vous bénéficierez d'un accès à une terrasse, d'un bowling et d'une connexion Wi-Fi gratuite. \", 42.93227802, 1.63516787)\n",
      "(66, 'Ariege', 'Les gîtes de Beille', '8,1', 'https://www.booking.com/hotel/fr/les-gites-de-beille.fr.html?aid=304142&label=gen173nr-1FCAEoggI46AdIM1gEaE2IAQGYAQm4ARfIAQ_YAQHoAQH4AQOIAgGoAgO4Atn- ... (134 characters truncated) ... dren=0&req_children=0&hpos=1&hapos=1&sr_order=popularity&srpvid=6f0a39adfe950805&srepoch=1725955932&from_sustainable_property_sr=1&from=searchresults', \"Doté d'un jardin, d'un barbecue et offrant une vue sur la montagne, l'établissement Les gîtes de Beille est situé aux Cabannes, à 45 km du col de la Crouzette. \", 42.7855571, 1.68166541)\n",
      "(67, 'Amiens', 'Le Cocon : studio en Hypercentre Cathédrale', '7,8', 'https://www.booking.com/hotel/fr/le-cocon-studio-en-hypercentre-cathedrale.fr.html?aid=304142&label=gen173nr-1FCAEoggI46AdIM1gEaE2IAQGYAQm4ARfIAQ_YAQ ... (127 characters truncated) ... dults=2&no_rooms=1&group_children=0&req_children=0&hpos=24&hapos=24&sr_order=popularity&srpvid=761039adae94031b&srepoch=1725955932&from=searchresults', 'Le Cocon: studio en Hypercentre Cathédrale est situé à Amiens, à 3,6 km du Zénith, à moins de 1 km du parc des jardins flottants et à 3 minutes à pied du musée Berny. ', 49.8932952, 2.3041744)\n",
      "(68, 'Amiens', 'B&B HOTEL Amiens Centre Cathédrale', '7,9', 'https://www.booking.com/hotel/fr/ibis-amiens-centre-cathedrale.fr.html?aid=304142&label=gen173nr-1FCAEoggI46AdIM1gEaE2IAQGYAQm4ARfIAQ_YAQHoAQH4AQOIAg ... (146 characters truncated) ... en=0&req_children=0&hpos=22&hapos=22&sr_order=popularity&srpvid=761039adae94031b&srepoch=1725955932&from_sustainable_property_sr=1&from=searchresults', \"Doté d'un restaurant et d'une connexion Wi-Fi gratuite, l'ibis Amiens Centre Cathédrale est situé dans le centre d'Amiens. Les chambres possèdent une télévision à écran plat et un bureau. \", 49.891999, 2.29197)\n",
      "(69, 'Amiens', 'Le Macquet Vion *Best Quality* Amiens Center', '8,9', 'https://www.booking.com/hotel/fr/le-macquet-vion-best-quality-amiens-center-amiens.fr.html?aid=304142&label=gen173nr-1FCAEoggI46AdIM1gEaE2IAQGYAQm4AR ... (135 characters truncated) ... dults=2&no_rooms=1&group_children=0&req_children=0&hpos=23&hapos=23&sr_order=popularity&srpvid=761039adae94031b&srepoch=1725955932&from=searchresults', \"Situé à Amiens, en Picardie, à proximité du Zénith d'Amiens et du musée Berny, l'établissement Le Macquet Vion *Best Quality* Amiens Center propose des hébergements avec un parking privé gratuit. \", 49.8914669, 2.2811957)\n",
      "(70, 'Amiens', 'Spacieux appt Haussmannien parking privé', '8,7', 'https://www.booking.com/hotel/fr/charmant-apt-central-parking.fr.html?aid=304142&label=gen173nr-1FCAEoggI46AdIM1gEaE2IAQGYAQm4ARfIAQ_YAQHoAQH4AQOIAgG ... (114 characters truncated) ... dults=2&no_rooms=1&group_children=0&req_children=0&hpos=21&hapos=21&sr_order=popularity&srpvid=761039adae94031b&srepoch=1725955932&from=searchresults', 'Situé à Amiens, en Picardie, à proximité de la gare et du parc des jardins flottants, le Spacieux appt Haussmannien parking privé propose des hébergements avec connexion Wi-Fi et parking privé...', 49.8873113, 2.3050939)\n",
      "(71, 'Amiens', 'Appartement Les Jardins de Jules Verne - Côté Jardin - Idéal JO Paris', '9,1', 'https://www.booking.com/hotel/fr/les-jardins-de-jules-verne-cote-jardin-amiens.fr.html?aid=304142&label=gen173nr-1FCAEoggI46AdIM1gEaE2IAQGYAQm4ARfIAQ ... (162 characters truncated) ... en=0&req_children=0&hpos=20&hapos=20&sr_order=popularity&srpvid=761039adae94031b&srepoch=1725955932&from_sustainable_property_sr=1&from=searchresults', \"Offrant une vue sur son jardin, l'Appartement Les Jardins de Jules Verne - Côté Jardin - Idéal JO Paris propose un hébergement avec un jardin et une terrasse, à environ 1,7 km de la gare d'Amiens. \", 49.8860539, 2.2902209)\n",
      "(72, 'Amiens', 'Manifique T1 centre ville Saint-Leu 2 pers WIFI', '8,0', 'https://www.booking.com/hotel/fr/manifique-t1-centre-ville-saint-leu-2-pers-wifi.fr.html?aid=304142&label=gen173nr-1FCAEoggI46AdIM1gEaE2IAQGYAQm4ARfI ... (133 characters truncated) ... dults=2&no_rooms=1&group_children=0&req_children=0&hpos=19&hapos=19&sr_order=popularity&srpvid=761039adae94031b&srepoch=1725955932&from=searchresults', 'Le Manifique T1 centre ville Saint-Leu 2 pers WIFI est situé à Amiens, à 2,6 km du Zénith, à 1,7 km du parc des jardins flottants et à 1,1 km du musée Berny. ', 49.8989335, 2.295679)\n",
      "(73, 'Amiens', \"Appart'City Confort Amiens Gare\", '7,6', 'https://www.booking.com/hotel/fr/appart-city-amiens.fr.html?aid=304142&label=gen173nr-1FCAEoggI46AdIM1gEaE2IAQGYAQm4ARfIAQ_YAQHoAQH4AQOIAgGoAgO4Atn-_ ... (135 characters truncated) ... en=0&req_children=0&hpos=16&hapos=16&sr_order=popularity&srpvid=761039adae94031b&srepoch=1725955932&from_sustainable_property_sr=1&from=searchresults', \"Situé à 300 mètres de la cathédrale Notre-Dame d'Amiens et des Hortillonnages, l'Appart'City Confort Amiens Gare propose des studios indépendants avec une télévision à écran LCD et une kitchenette...\", 49.8943163, 2.3097612)\n",
      "(74, 'Amiens', 'Studio Bohème hypercentre', '7,9', 'https://www.booking.com/hotel/fr/studio-boheme-hypercentre.fr.html?aid=304142&label=gen173nr-1FCAEoggI46AdIM1gEaE2IAQGYAQm4ARfIAQ_YAQHoAQH4AQOIAgGoAg ... (111 characters truncated) ... dults=2&no_rooms=1&group_children=0&req_children=0&hpos=15&hapos=15&sr_order=popularity&srpvid=761039adae94031b&srepoch=1725955932&from=searchresults', 'Le Studio Bohème hypercentre est situé à Amiens, à 2,7 km du Zénith, à 500 mètres du musée Berny et à 1,5 km du parc des jardins flottants. ', 49.8927103, 2.2973129)\n",
      "(75, 'Amiens', 'Le Terrazza - 1P à 2P Terrasse - Henriville', '8,4', 'https://www.booking.com/hotel/fr/la-terrasse-henriville.fr.html?aid=304142&label=gen173nr-1FCAEoggI46AdIM1gEaE2IAQGYAQm4ARfIAQ_YAQHoAQH4AQOIAgGoAgO4A ... (108 characters truncated) ... dults=2&no_rooms=1&group_children=0&req_children=0&hpos=17&hapos=17&sr_order=popularity&srpvid=761039adae94031b&srepoch=1725955932&from=searchresults', \"Récemment rénové, l'établissement Le Terrazza - 1P à 2P Terrasse - Henriville est situé à Amiens, à proximité de la gare, du musée Berny et du parc des jardins flottants. \", 49.88511213, 2.29947227)\n",
      "(76, 'Amiens', 'Cocon centre ville - gare', '9,7', 'https://www.booking.com/hotel/fr/cocon-centre-ville-gare.fr.html?aid=304142&label=gen173nr-1FCAEoggI46AdIM1gEaE2IAQGYAQm4ARfIAQ_YAQHoAQH4AQOIAgGoAgO4 ... (109 characters truncated) ... dults=2&no_rooms=1&group_children=0&req_children=0&hpos=18&hapos=18&sr_order=popularity&srpvid=761039adae94031b&srepoch=1725955932&from=searchresults', \"Doté d'une terrasse, le Cocon centre ville - gare est situé à Amiens, à moins de 1 km du musée Berny et à 17 minutes à pied du parc des jardins flottants. \", 49.8865202, 2.3022562)\n",
      "(77, 'Amiens', 'Mercure Amiens Cathédrale', '8,3', 'https://www.booking.com/hotel/fr/mercure-amiens-cathdrale.fr.html?aid=304142&label=gen173nr-1FCAEoggI46AdIM1gEaE2IAQGYAQm4ARfIAQ_YAQHoAQH4AQOIAgGoAgO ... (141 characters truncated) ... en=0&req_children=0&hpos=14&hapos=14&sr_order=popularity&srpvid=761039adae94031b&srepoch=1725955932&from_sustainable_property_sr=1&from=searchresults', None, 49.89571084, 2.29956239)\n",
      "(78, 'Amiens', 'Proche Citadelle & Quartier Saint-leu', '8,9', 'https://www.booking.com/hotel/fr/proche-citadelle-amp-quartier-saint-leu.fr.html?aid=304142&label=gen173nr-1FCAEoggI46AdIM1gEaE2IAQGYAQm4ARfIAQ_YAQHo ... (125 characters truncated) ... dults=2&no_rooms=1&group_children=0&req_children=0&hpos=12&hapos=12&sr_order=popularity&srpvid=761039adae94031b&srepoch=1725955932&from=searchresults', \"Doté d'une connexion Wi-Fi gratuite et offrant une vue sur la cour intérieure, le Proche Citadelle & Quartier Saint-leu est un hébergement situé à Amiens, à seulement 1,8 km de la gare et à 1,3 km du...\", 49.9024549, 2.301422)\n",
      "(79, 'Amiens', 'SUPERBE STUDIO HYPER CENTRE TOUT ÉQUIPÉ WIFI NETFLIX 2PERS', '8,3', 'https://www.booking.com/hotel/fr/superbe-studio-hyper-centre-tout-equipe-wifi-netflix-2pers.fr.html?aid=304142&label=gen173nr-1FCAEoggI46AdIM1gEaE2IA ... (144 characters truncated) ... dults=2&no_rooms=1&group_children=0&req_children=0&hpos=11&hapos=11&sr_order=popularity&srpvid=761039adae94031b&srepoch=1725955932&from=searchresults', 'Situé à Amiens, à 400 mètres de la gare et à 3,6 km du Zénith, le SUPERBE STUDIO HYPER CENTRE TOUT ÉQUIPÉ WIFI NETFLIX 2PERS propose un hébergement climatisé avec une terrasse et une connexion Wi-Fi...', 49.888977, 2.3115448)\n",
      "(80, 'Amiens', 'LA BERGE', '9,2', 'https://www.booking.com/hotel/fr/la-berge.fr.html?aid=304142&label=gen173nr-1FCAEoggI46AdIM1gEaE2IAQGYAQm4ARfIAQ_YAQHoAQH4AQOIAgGoAgO4Atn-_7YGwAIB0gI ... (123 characters truncated) ... dren=0&req_children=0&hpos=9&hapos=9&sr_order=popularity&srpvid=761039adae94031b&srepoch=1725955932&from_sustainable_property_sr=1&from=searchresults', \"Situé à Amiens, en Picardie, à proximité de la gare et du parc des jardins flottants, l'établissement LA BERGE propose des hébergements avec connexion Wi-Fi et parking privé gratuits. \", 49.8961025, 2.3107899)\n",
      "(81, 'Amiens', 'ibis budget Amiens Centre Gare', '8,0', 'https://www.booking.com/hotel/fr/ibis-budget-amiens-centre-gare.fr.html?aid=304142&label=gen173nr-1FCAEoggI46AdIM1gEaE2IAQGYAQm4ARfIAQ_YAQHoAQH4AQOIA ... (147 characters truncated) ... en=0&req_children=0&hpos=13&hapos=13&sr_order=popularity&srpvid=761039adae94031b&srepoch=1725955932&from_sustainable_property_sr=1&from=searchresults', None, 49.891591, 2.313573)\n",
      "(82, 'Amiens', 'Hyper centre idéal gare Amiens', '9,3', 'https://www.booking.com/hotel/fr/hyper-centre-amiens-studio-elegant-amp-cosy.fr.html?aid=304142&label=gen173nr-1FCAEoggI46AdIM1gEaE2IAQGYAQm4ARfIAQ_Y ... (127 characters truncated) ... _adults=2&no_rooms=1&group_children=0&req_children=0&hpos=8&hapos=8&sr_order=popularity&srpvid=761039adae94031b&srepoch=1725955932&from=searchresults', \"Offrant une vue sur la cour intérieure, l'Hyper centre idéal gare Amiens est un hébergement situé à Amiens, à moins de 1 km du parc des jardins flottants et à 5 minutes à pied du musée Berny. \", 49.8922794, 2.3050653)\n",
      "(83, 'Amiens', 'Le Nid Amiénois', '8,4', 'https://www.booking.com/hotel/fr/hortillon-de-saint-leu.fr.html?aid=304142&label=gen173nr-1FCAEoggI46AdIM1gEaE2IAQGYAQm4ARfIAQ_YAQHoAQH4AQOIAgGoAgO4A ... (108 characters truncated) ... dults=2&no_rooms=1&group_children=0&req_children=0&hpos=10&hapos=10&sr_order=popularity&srpvid=761039adae94031b&srepoch=1725955932&from=searchresults', 'Le Nid Amiénois est situé à Amiens, à 3,6 km du Zénith, à moins de 1 km du parc des jardins flottants et à 7 minutes à pied du musée Berny. ', 49.8975354, 2.3028737)\n",
      "(84, 'Amiens', 'Charmant studio au coeur de St Leu hyper centre', '8,5', 'https://www.booking.com/hotel/fr/charmant-studio-au-coeur-de-st-leu.fr.html?aid=304142&label=gen173nr-1FCAEoggI46AdIM1gEaE2IAQGYAQm4ARfIAQ_YAQHoAQH4A ... (118 characters truncated) ... _adults=2&no_rooms=1&group_children=0&req_children=0&hpos=7&hapos=7&sr_order=popularity&srpvid=761039adae94031b&srepoch=1725955932&from=searchresults', \"Doté d'un jardin, le Charmant studio au coeur de St Leu hyper centre est situé à Amiens, à 600 mètres du parc des jardins flottants, à 500 mètres du musée Berny et du tribunal de grande instance. \", 49.8935056, 2.3069593)\n",
      "(85, 'Amiens', 'Le Châlet des Hortillonnages', '9,0', 'https://www.booking.com/hotel/fr/le-chalet-des-hortillons.fr.html?aid=304142&label=gen173nr-1FCAEoggI46AdIM1gEaE2IAQGYAQm4ARfIAQ_YAQHoAQH4AQOIAgGoAgO ... (139 characters truncated) ... dren=0&req_children=0&hpos=6&hapos=6&sr_order=popularity&srpvid=761039adae94031b&srepoch=1725955932&from_sustainable_property_sr=1&from=searchresults', \"Situé à Amiens, à 1,5 km de la gare et à 5,1 km du Zénith, l'établissement Le Châlet des Hortillonnages dispose d'un jardin et de la climatisation. \", 49.89752703, 2.31641591)\n",
      "(86, 'Amiens', \"L'escapade studio en Hypercentre Cathédrale\", '8,6', 'https://www.booking.com/hotel/fr/escapade-studio-en-hypercentre-cathedrale.fr.html?aid=304142&label=gen173nr-1FCAEoggI46AdIM1gEaE2IAQGYAQm4ARfIAQ_YAQ ... (125 characters truncated) ... _adults=2&no_rooms=1&group_children=0&req_children=0&hpos=4&hapos=4&sr_order=popularity&srpvid=761039adae94031b&srepoch=1725955932&from=searchresults', \"Situé à 3,6 km du Zénith d'Amiens, à moins de 1 km du parc des jardins flottants et à 3 minutes à pied du musée Berny, l'établissement L'escapade studio en Hypercentre Cathédrale propose un...\", 49.89327026, 2.30426682)\n",
      "(87, 'Lille', \"chambre d'hôte M et Mme Collet\", '8,5', 'https://www.booking.com/hotel/fr/chambre-d-39-hote-m-et-mme-collet.fr.html?aid=304142&label=gen173nr-1FCAEoggI46AdIM1gEaE2IAQGYAQm4ARfIAQ_YAQHoAQH4AQ ... (117 characters truncated) ... _adults=2&no_rooms=1&group_children=0&req_children=0&hpos=9&hapos=9&sr_order=popularity&srpvid=3c7d39ad6ea106a6&srepoch=1725955932&from=searchresults', \"La chambre d'hôte M et Mme Collet est située à Lille, à 800 mètres du centre-ville et du Vieux-Lille. \", 50.64377105, 3.05425984)\n",
      "(88, 'Amiens', \"Ginkgo Maison d'hôtes\", '9,2', 'https://www.booking.com/hotel/fr/ginkgo-maison-d-39-hotes.fr.html?aid=304142&label=gen173nr-1FCAEoggI46AdIM1gEaE2IAQGYAQm4ARfIAQ_YAQHoAQH4AQOIAgGoAgO ... (108 characters truncated) ... _adults=2&no_rooms=1&group_children=0&req_children=0&hpos=5&hapos=5&sr_order=popularity&srpvid=761039adae94031b&srepoch=1725955932&from=searchresults', \"Dotée d'un jardin et offrant une vue sur la ville, la maison d'hôtes Ginkgo Maison d'hôtes occupe un bâtiment historique à Amiens, à 1,3 km de la gare. \", 49.887125, 2.295143)\n",
      "(89, 'Amiens', 'Odalys City Amiens Blamont', '7,9', 'https://www.booking.com/hotel/fr/appart-39-odalys-blamont.fr.html?aid=304142&label=gen173nr-1FCAEoggI46AdIM1gEaE2IAQGYAQm4ARfIAQ_YAQHoAQH4AQOIAgGoAgO ... (139 characters truncated) ... dren=0&req_children=0&hpos=3&hapos=3&sr_order=popularity&srpvid=761039adae94031b&srepoch=1725955932&from_sustainable_property_sr=1&from=searchresults', \"Situé à 2,8 km du Zénith d'Amiens et à 900 mètres du musée Berny à Amiens, l'Odalys City Amiens Blamont propose des hébergements avec une connexion Wi-Fi gratuite. \", 49.88714842, 2.3116109)\n",
      "(90, 'Lille', 'Chez Christophe', '8,9', 'https://www.booking.com/hotel/fr/chez-christophe.fr.html?aid=304142&label=gen173nr-1FCAEoggI46AdIM1gEaE2IAQGYAQm4ARfIAQ_YAQHoAQH4AQOIAgGoAgO4Atn-_7YG ... (99 characters truncated) ... _adults=2&no_rooms=1&group_children=0&req_children=0&hpos=7&hapos=7&sr_order=popularity&srpvid=3c7d39ad6ea106a6&srepoch=1725955932&from=searchresults', \"Offrant une vue sur son jardin, l'établissement Chez Christophe propose des hébergements bien situés à Lille, à proximité du zoo, du grand magasin Printemps et de l'hospice Gantois. \", 50.64046063, 3.05577636)\n",
      "(91, 'Amiens', 'LES GRENOUILLES', '9,1', 'https://www.booking.com/hotel/fr/les-grenouilles-amiens.fr.html?aid=304142&label=gen173nr-1FCAEoggI46AdIM1gEaE2IAQGYAQm4ARfIAQ_YAQHoAQH4AQOIAgGoAgO4A ... (137 characters truncated) ... dren=0&req_children=0&hpos=2&hapos=2&sr_order=popularity&srpvid=761039adae94031b&srepoch=1725955932&from_sustainable_property_sr=1&from=searchresults', \"L'établissement LES GRENOUILLES propose des hébergements avec connexion Wi-Fi gratuite à Amiens, à moins de 1 km de la gare, à 4,5 km du Zénith et à 100 mètres du parc des jardins flottants. \", 49.8961025, 2.3107899)\n",
      "(92, 'Lille', 'ibis Styles Lille Centre Gare Beffroi', '7,8', 'https://www.booking.com/hotel/fr/ibis-styles-lille-centre-gare-beffroi.fr.html?aid=304142&label=gen173nr-1FCAEoggI46AdIM1gEaE2IAQGYAQm4ARfIAQ_YAQHoAQ ... (121 characters truncated) ... _adults=2&no_rooms=1&group_children=0&req_children=0&hpos=5&hapos=5&sr_order=popularity&srpvid=3c7d39ad6ea106a6&srepoch=1725955932&from=searchresults', \"L'ibis Styles Lille Centre Gare Beffroi vous accueille dans le centre-ville de Lille, à 600\\xa0mètres des gares de Lille-Europe et de Lille-Flandres. \", 50.63238245, 3.06794286)\n",
      "(93, 'Lille', 'Rosa Hotel', '8,8', 'https://www.booking.com/hotel/fr/continental-lille.fr.html?aid=304142&label=gen173nr-1FCAEoggI46AdIM1gEaE2IAQGYAQm4ARfIAQ_YAQHoAQH4AQOIAgGoAgO4Atn-_7 ... (132 characters truncated) ... dren=0&req_children=0&hpos=6&hapos=6&sr_order=popularity&srpvid=3c7d39ad6ea106a6&srepoch=1725955932&from_sustainable_property_sr=1&from=searchresults', 'Rosa Hotel is offering accommodation in Lille. With free WiFi, this 3-star hotel offers a 24-hour front desk and luggage storage space. The hotel has family rooms. ', 50.63688475, 3.06941137)\n",
      "(94, 'Lille', 'My Little Home - Le Vieux Lille de Rousseau', '8,8', 'https://www.booking.com/hotel/fr/rousseau-apartment.fr.html?aid=304142&label=gen173nr-1FCAEoggI46AdIM1gEaE2IAQGYAQm4ARfIAQ_YAQHoAQH4AQOIAgGoAgO4Atn-_ ... (102 characters truncated) ... _adults=2&no_rooms=1&group_children=0&req_children=0&hpos=8&hapos=8&sr_order=popularity&srpvid=3c7d39ad6ea106a6&srepoch=1725955932&from=searchresults', \"Offrant une vue sur la cour intérieure, l'appartement My Little Home - Le Vieux Lille de Rousseau est situé à Lille, à 600 mètres de l'opéra et à 500 mètres de la Grand-Place. \", 50.63965, 3.059795)\n",
      "(95, 'Lille', 'Lille centre parking privé gratuit très calme', '8,2', 'https://www.booking.com/hotel/fr/48-rue-royale.fr.html?aid=304142&label=gen173nr-1FCAEoggI46AdIM1gEaE2IAQGYAQm4ARfIAQ_YAQHoAQH4AQOIAgGoAgO4Atn-_7YGwA ... (97 characters truncated) ... _adults=2&no_rooms=1&group_children=0&req_children=0&hpos=4&hapos=4&sr_order=popularity&srpvid=3c7d39ad6ea106a6&srepoch=1725955932&from=searchresults', \"Offrant une vue sur la cour intérieure, le Lille centre parking privé gratuit très calme est un hébergement situé à Lille, à moins de 1 km du grand magasin Printemps et à 8 minutes à pied de l'opéra. \", 50.6406166, 3.0575643)\n",
      "(96, 'Lille', 'Les Cariatides', '9,4', 'https://www.booking.com/hotel/fr/les-cariatides-lille.fr.html?aid=304142&label=gen173nr-1FCAEoggI46AdIM1gEaE2IAQGYAQm4ARfIAQ_YAQHoAQH4AQOIAgGoAgO4Atn ... (104 characters truncated) ... _adults=2&no_rooms=1&group_children=0&req_children=0&hpos=3&hapos=3&sr_order=popularity&srpvid=3c7d39ad6ea106a6&srepoch=1725955932&from=searchresults', \"Offrant une vue sur la ville, l'établissement Les Cariatides propose un hébergement avec un balcon, à environ 600 mètres du grand magasin Printemps. \", 50.631062, 3.06031)\n",
      "(97, 'Lille', 'Hotel Lille Europe', '8,0', 'https://www.booking.com/hotel/fr/lille-europe.fr.html?aid=304142&label=gen173nr-1FCAEoggI46AdIM1gEaE2IAQGYAQm4ARfIAQ_YAQHoAQH4AQOIAgGoAgO4Atn-_7YGwAI ... (96 characters truncated) ... _adults=2&no_rooms=1&group_children=0&req_children=0&hpos=2&hapos=2&sr_order=popularity&srpvid=3c7d39ad6ea106a6&srepoch=1725955932&from=searchresults', \"L'Hotel Lille Europe est un établissement 3 étoiles situé au coeur du quartier des affaires international, à seulement 250 mètres de la gare de Lille-Flandres et à 17 minutes de route du stade...\", 50.63788756, 3.072685)\n",
      "(98, 'Chateau du Haut Koenigsbourg', 'Hôtel Le Mittelwihr', '8,8', 'https://www.booking.com/hotel/fr/le-mittelwihr.fr.html?aid=304142&label=gen173nr-1FCAEoggI46AdIM1gEaE2IAQGYAQm4ARfIAQ_YAQHoAQH4AQOIAgGoAgO4Atn-_7YGwA ... (130 characters truncated) ... en=0&req_children=0&hpos=25&hapos=25&sr_order=popularity&srpvid=8fa539ad952d0be5&srepoch=1725955931&from_sustainable_property_sr=1&from=searchresults', \"Bénéficiant d'un emplacement idéal sur la route des vins, l'Hôtel Le Mittelwihr vous réserve un accueil chaleureux et convivial dans un bâtiment au design époustouflant, au coeur d'un environnement...\", 48.15064882, 7.32050344)\n",
      "(99, 'Chateau du Haut Koenigsbourg', 'LE PIED A TERRE SELESTADIEN', '7,5', 'https://www.booking.com/hotel/fr/le-pied-a-terre-selestadien.fr.html?aid=304142&label=gen173nr-1FCAEoggI46AdIM1gEaE2IAQGYAQm4ARfIAQ_YAQHoAQH4AQOIAgGo ... (144 characters truncated) ... en=0&req_children=0&hpos=24&hapos=24&sr_order=popularity&srpvid=8fa539ad952d0be5&srepoch=1725955931&from_sustainable_property_sr=1&from=searchresults', \"Offrant une vue sur le jardin, l'hébergement LE PIED A TERRE SELESTADIEN est situé à Sélestat, à 22 km du parc des expositions Colmar Expo et à 25 km de la Maison des Têtes. \", 48.2588035, 7.4600396)\n",
      "(100, 'Chateau du Haut Koenigsbourg', 'Laterale Residences Riquewihr', '9,4', 'https://www.booking.com/hotel/fr/laterale-4.fr.html?aid=304142&label=gen173nr-1FCAEoggI46AdIM1gEaE2IAQGYAQm4ARfIAQ_YAQHoAQH4AQOIAgGoAgO4Atn-_7YGwAIB0 ... (127 characters truncated) ... en=0&req_children=0&hpos=23&hapos=23&sr_order=popularity&srpvid=8fa539ad952d0be5&srepoch=1725955931&from_sustainable_property_sr=1&from=searchresults', 'Le Laterale Résidences se trouve à Riquewihr, en Alsace, à 200 mètres du marché de Noël. Il met gratuitement à votre disposition une connexion Wi-Fi. ', 48.16652177, 7.29689996)\n",
      "(101, 'Chateau du Haut Koenigsbourg', 'Le chalet des bois', '9,5', 'https://www.booking.com/hotel/fr/le-chalet-des-bois-lalaye1.fr.html?aid=304142&label=gen173nr-1FCAEoggI46AdIM1gEaE2IAQGYAQm4ARfIAQ_YAQHoAQH4AQOIAgGoA ... (143 characters truncated) ... en=0&req_children=0&hpos=22&hapos=22&sr_order=popularity&srpvid=8fa539ad952d0be5&srepoch=1725955931&from_sustainable_property_sr=1&from=searchresults', None, 48.33368227, 7.25640698)\n",
      "(102, 'Chateau du Haut Koenigsbourg', 'La maison de Tania', '9,5', 'https://www.booking.com/hotel/fr/la-maison-de-tania.fr.html?aid=304142&label=gen173nr-1FCAEoggI46AdIM1gEaE2IAQGYAQm4ARfIAQ_YAQHoAQH4AQOIAgGoAgO4Atn-_ ... (135 characters truncated) ... en=0&req_children=0&hpos=21&hapos=21&sr_order=popularity&srpvid=8fa539ad952d0be5&srepoch=1725955931&from_sustainable_property_sr=1&from=searchresults', \"Dotée d'un barbecue et offrant une vue sur la ville, La maison de Tania est située à Neuve-Église, à 20 km du château du Haut Koenigsbourg et à 31 km du parc des expositions Colmar Expo. \", 48.3295105, 7.3137996)\n",
      "(103, 'Chateau du Haut Koenigsbourg', \"L'Appart' Sélestadien\", '8,1', 'https://www.booking.com/hotel/fr/l-39-appart-39-selestadien.fr.html?aid=304142&label=gen173nr-1FCAEoggI46AdIM1gEaE2IAQGYAQm4ARfIAQ_YAQHoAQH4AQOIAgGoA ... (143 characters truncated) ... en=0&req_children=0&hpos=20&hapos=20&sr_order=popularity&srpvid=8fa539ad952d0be5&srepoch=1725955931&from_sustainable_property_sr=1&from=searchresults', \"Bénéficiant d'un jardin, d'une piscine chauffée et d'une vue sur le jardin, L'Appart' Sélestadien est situé à Sélestat. Vous bénéficierez gratuitement d'une connexion Wi-Fi et d'un parking sur place. \", 48.25874644, 7.45997232)\n",
      "(104, 'Chateau du Haut Koenigsbourg', 'Gites & Camping on the Route des Vins', '8,6', 'https://www.booking.com/hotel/fr/gites-amp-camping-on-the-route-des-vins.fr.html?aid=304142&label=gen173nr-1FCAEoggI46AdIM1gEaE2IAQGYAQm4ARfIAQ_YAQHo ... (125 characters truncated) ... dults=2&no_rooms=1&group_children=0&req_children=0&hpos=19&hapos=19&sr_order=popularity&srpvid=8fa539ad952d0be5&srepoch=1725955931&from=searchresults', \"Situé à Bergheim, à 17 km de Colmar, le Gites & Camping on the Route des Vins dispose d'un barbecue et offre une vue sur la montagne. Fribourg-en-Brisgau se trouve à 62 km. \", 48.20214343, 7.36871663)\n",
      "(105, 'Amiens', 'Nemea Appart Hotel Coliseum Amiens Centre', '8,5', 'https://www.booking.com/hotel/fr/nemea-appart-coliseum.fr.html?aid=304142&label=gen173nr-1FCAEoggI46AdIM1gEaE2IAQGYAQm4ARfIAQ_YAQHoAQH4AQOIAgGoAgO4At ... (105 characters truncated) ... _adults=2&no_rooms=1&group_children=0&req_children=0&hpos=1&hapos=1&sr_order=popularity&srpvid=761039adae94031b&srepoch=1725955932&from=searchresults', \"Situé à Amiens, en Picardie, à proximité de la gare et du Zénith d'Amiens, le Nemea Appart Hotel Coliseum Amiens Centre propose des hébergements avec accès à une salle de sport. \", 49.8921749, 2.2889352)\n",
      "(106, 'Lille', 'Lille A Part - Gites Urbains', '8,4', 'https://www.booking.com/hotel/fr/lille-a-part.fr.html?aid=304142&label=gen173nr-1FCAEoggI46AdIM1gEaE2IAQGYAQm4ARfIAQ_YAQHoAQH4AQOIAgGoAgO4Atn-_7YGwAI ... (96 characters truncated) ... _adults=2&no_rooms=1&group_children=0&req_children=0&hpos=1&hapos=1&sr_order=popularity&srpvid=3c7d39ad6ea106a6&srepoch=1725955932&from=searchresults', 'Situé au coeur de la vieille ville de Lille, le Lille A Part -Gîtes Urbains propose 2 appartements à seulement 10 minutes à pied de la gare de Lille Flandres, à 2 km du Grand Palais de Lille et à 1,1...', 50.64342775, 3.06085646)\n",
      "(107, 'Chateau du Haut Koenigsbourg', \"Appartement L'Oriel avec Parking\", '8,5', 'https://www.booking.com/hotel/fr/l-39-oriel-ammerschwihr.fr.html?aid=304142&label=gen173nr-1FCAEoggI46AdIM1gEaE2IAQGYAQm4ARfIAQ_YAQHoAQH4AQOIAgGoAgO4 ... (140 characters truncated) ... en=0&req_children=0&hpos=18&hapos=18&sr_order=popularity&srpvid=8fa539ad952d0be5&srepoch=1725955931&from_sustainable_property_sr=1&from=searchresults', \"L'Appartement L'Oriel avec Parking est situé à Ammerschwihr, à 8,2 km de la Maison des Têtes, à 8,7 km du parc des expositions Colmar Expo et à 8,7 km de la collégiale Saint-Martin. \", 48.12522526, 7.282522)\n",
      "(108, 'Chateau du Haut Koenigsbourg', 'La Maison 1603', '9,5', 'https://www.booking.com/hotel/fr/la-maison-1603.fr.html?aid=304142&label=gen173nr-1FCAEoggI46AdIM1gEaE2IAQGYAQm4ARfIAQ_YAQHoAQH4AQOIAgGoAgO4Atn-_7YGw ... (131 characters truncated) ... en=0&req_children=0&hpos=17&hapos=17&sr_order=popularity&srpvid=8fa539ad952d0be5&srepoch=1725955931&from_sustainable_property_sr=1&from=searchresults', \"Situé à Hunawihr, à moins de 13 km du parc des expositions Colmar Expo et à 16 km du château du Haut Koenigsbourg, l'établissement La Maison 1603 propose des chambres climatisées avec salle de bains...\", 48.1800349, 7.30920452)\n",
      "(109, 'Chateau du Haut Koenigsbourg', \"Gîte d'Alsace l'Escale\", '9,2', 'https://www.booking.com/hotel/fr/gite-d-alsace-l-escale.fr.html?aid=304142&label=gen173nr-1FCAEoggI46AdIM1gEaE2IAQGYAQm4ARfIAQ_YAQHoAQH4AQOIAgGoAgO4A ... (139 characters truncated) ... en=0&req_children=0&hpos=15&hapos=15&sr_order=popularity&srpvid=8fa539ad952d0be5&srepoch=1725955931&from_sustainable_property_sr=1&from=searchresults', \"Situé à Ostheim, dans un bâtiment historique, à 7,5 km du parc des expositions Colmar Expo, le Gîte d'Alsace l'Escale est un appartement avec une baignoire en plein air et un casino. \", 48.15967462, 7.36115874)\n",
      "(110, 'Chateau du Haut Koenigsbourg', 'La Maison de Vacances', '9,7', 'https://www.booking.com/hotel/fr/la-maison-de-vacances.fr.html?aid=304142&label=gen173nr-1FCAEoggI46AdIM1gEaE2IAQGYAQm4ARfIAQ_YAQHoAQH4AQOIAgGoAgO4At ... (138 characters truncated) ... en=0&req_children=0&hpos=16&hapos=16&sr_order=popularity&srpvid=8fa539ad952d0be5&srepoch=1725955931&from_sustainable_property_sr=1&from=searchresults', 'La Maison de Vacances est un gîte indépendant situé sur les collines de Nothalten, au milieu des vignobles alsaciens. ', 48.35602535, 7.41966145)\n",
      "(111, 'Chateau du Haut Koenigsbourg', 'La Pouponiere', '9,0', 'https://www.booking.com/hotel/fr/la-pouponiere.fr.html?aid=304142&label=gen173nr-1FCAEoggI46AdIM1gEaE2IAQGYAQm4ARfIAQ_YAQHoAQH4AQOIAgGoAgO4Atn-_7YGwA ... (99 characters truncated) ... dults=2&no_rooms=1&group_children=0&req_children=0&hpos=13&hapos=13&sr_order=popularity&srpvid=8fa539ad952d0be5&srepoch=1725955931&from=searchresults', \"Doté d'un barbecue, l'établissement La Pouponiere est situé à Sainte-Marie-aux-Mines, à 33 km de la Maison des Têtes, de la collégiale Saint-Martin et de la gare de Colmar. \", 48.246202, 7.200121)\n",
      "(112, 'Chateau du Haut Koenigsbourg', 'Gîte, Maison indépendante \"Chez Yvette et André\" 2 à 6 pers, Ribeauvillé à 3 km, Colmar à 10 km', '9,4', 'https://www.booking.com/hotel/fr/gite-maison-alsacienne-independante-pres-colmar-ribeauville-europa-park.fr.html?aid=304142&label=gen173nr-1FCAEoggI4 ... (157 characters truncated) ... dults=2&no_rooms=1&group_children=0&req_children=0&hpos=12&hapos=12&sr_order=popularity&srpvid=8fa539ad952d0be5&srepoch=1725955931&from=searchresults', 'Située à Guémar, la Gîte, Maison indépendante \"Chez Yvette et André\" 2 à 6 pers, Ribeauvillé à 3 km, Colmar à 10 km André\", 2 à 6 pers, à 3 km de Ribeauvillé, près de Colmar. ', 48.18729812, 7.3961651)\n",
      "(113, 'Chateau du Haut Koenigsbourg', 'Appartement des Sorcieres - Witches Apartment', '9,4', 'https://www.booking.com/hotel/fr/appartement-des-sorcieres-witches-apartment.fr.html?aid=304142&label=gen173nr-1FCAEoggI46AdIM1gEaE2IAQGYAQm4ARfIAQ_Y ... (129 characters truncated) ... dults=2&no_rooms=1&group_children=0&req_children=0&hpos=11&hapos=11&sr_order=popularity&srpvid=8fa539ad952d0be5&srepoch=1725955931&from=searchresults', \"L'Appartement des Sorcieres - Witches Apartment est situé à Sélestat, à 13 km du château du Haut Koenigsbourg, à 21 km du parc des expositions Colmar Expo et à 24 km de la Maison des Têtes. \", 48.2567086, 7.4508171)\n",
      "(114, 'Chateau du Haut Koenigsbourg', \"L'éclos des vignes - Appartements haut de gamme avec Spa\", '8,7', 'https://www.booking.com/hotel/fr/gite-les-amandiers.fr.html?aid=304142&label=gen173nr-1FCAEoggI46AdIM1gEaE2IAQGYAQm4ARfIAQ_YAQHoAQH4AQOIAgGoAgO4Atn-_ ... (135 characters truncated) ... en=0&req_children=0&hpos=14&hapos=14&sr_order=popularity&srpvid=8fa539ad952d0be5&srepoch=1725955931&from_sustainable_property_sr=1&from=searchresults', \"Situé à Bergheim, en Alsace, à 14 km de Colmar, le Gîte Les Amandiers dispose d'un barbecue et offre une vue sur le jardin. Fribourg-en-Brisgau se trouve à 43 km. \", 48.20646645, 7.35700397)\n",
      "(115, 'Chateau du Haut Koenigsbourg', 'Duplex tout confort sur la Route des Vins dans un village typique et médiéval - Appartements 3 et 4 personnes - Centre Alsace', '8,8', 'https://www.booking.com/hotel/fr/beigheim-centre-spacieux-fibre.fr.html?aid=304142&label=gen173nr-1FCAEoggI46AdIM1gEaE2IAQGYAQm4ARfIAQ_YAQHoAQH4AQOIA ... (147 characters truncated) ... en=0&req_children=0&hpos=10&hapos=10&sr_order=popularity&srpvid=8fa539ad952d0be5&srepoch=1725955931&from_sustainable_property_sr=1&from=searchresults', 'Offrant une vue sur la rue calme, le Duplex tout confort sur la Route des Vins dans un village typique et médiéval - Appartements 3 et 4 personnes - Centre Alsace est un hébergement situé à Bergheim,...', 48.2053428, 7.3619099)\n",
      "(116, 'Chateau du Haut Koenigsbourg', 'Villa Maeva - Parking, Sauna & Fitness', '9,4', 'https://www.booking.com/hotel/fr/riquewihr-magnifique-appartement-de-120-m2.fr.html?aid=304142&label=gen173nr-1FCAEoggI46AdIM1gEaE2IAQGYAQm4ARfIAQ_YA ... (157 characters truncated) ... dren=0&req_children=0&hpos=9&hapos=9&sr_order=popularity&srpvid=8fa539ad952d0be5&srepoch=1725955931&from_sustainable_property_sr=1&from=searchresults', \"En plein milieu du vignoble alsacien, et située à 2mn à pied du principal accès à la vieille ville de Riquewihr, la Villa Maeva prend place au sein d'une maison bourgeoise construite à la fin du 19ème...\", 48.166004, 7.300942)\n",
      "(117, 'Chateau du Haut Koenigsbourg', 'Chambre d\\'Hôtes \"Au Vigneron\"', '9,3', 'https://www.booking.com/hotel/fr/chambre-d-39-hotes-quot-au-vigneron-quot.fr.html?aid=304142&label=gen173nr-1FCAEoggI46AdIM1gEaE2IAQGYAQm4ARfIAQ_YAQH ... (124 characters truncated) ... _adults=2&no_rooms=1&group_children=0&req_children=0&hpos=8&hapos=8&sr_order=popularity&srpvid=8fa539ad952d0be5&srepoch=1725955931&from=searchresults', 'Offrant une vue sur le jardin, la Chambre d\\'Hôtes \"Au Vigneron\" propose un hébergement avec un jardin et un balcon, à environ 20 km du château du Haut Koenigsbourg. ', 48.33785787, 7.32529467)\n",
      "(118, 'Chateau du Haut Koenigsbourg', \"Chambres d'Hôtes Le Domaine des Remparts\", '8,9', 'https://www.booking.com/hotel/fr/le-domaine-des-remparts.fr.html?aid=304142&label=gen173nr-1FCAEoggI46AdIM1gEaE2IAQGYAQm4ARfIAQ_YAQHoAQH4AQOIAgGoAgO4 ... (107 characters truncated) ... _adults=2&no_rooms=1&group_children=0&req_children=0&hpos=7&hapos=7&sr_order=popularity&srpvid=8fa539ad952d0be5&srepoch=1725955931&from=searchresults', \"Situées à Sélestat, dans une maison à colombages, les Chambres d'Hôtes Le Domaine des Remparts sont à 10 minutes en voiture de la Route des Vins d'Alsace. \", 48.25543163, 7.45202824)\n",
      "(119, 'Chateau du Haut Koenigsbourg', 'Les Chambres du Beau Regard', '9,4', 'https://www.booking.com/hotel/fr/les-chambres-du-beau-regard.fr.html?aid=304142&label=gen173nr-1FCAEoggI46AdIM1gEaE2IAQGYAQm4ARfIAQ_YAQHoAQH4AQOIAgGo ... (111 characters truncated) ... _adults=2&no_rooms=1&group_children=0&req_children=0&hpos=6&hapos=6&sr_order=popularity&srpvid=8fa539ad952d0be5&srepoch=1725955931&from=searchresults', \"Offrant une vue sur son jardin, l'établissement Les Chambres du Beau Regard est situé à Villé, à 22 km du château du Haut Koenigsbourg et à 33 km de Colmar Expo. \", 48.34467593, 7.30561306)\n",
      "(120, 'Chateau du Haut Koenigsbourg', 'Logis Hotel Le Parc & Spa', '8,7', 'https://www.booking.com/hotel/fr/logis-le-parc-st-hippolyte.fr.html?aid=304142&label=gen173nr-1FCAEoggI46AdIM1gEaE2IAQGYAQm4ARfIAQ_YAQHoAQH4AQOIAgGoA ... (110 characters truncated) ... _adults=2&no_rooms=1&group_children=0&req_children=0&hpos=5&hapos=5&sr_order=popularity&srpvid=8fa539ad952d0be5&srepoch=1725955931&from=searchresults', 'Le Logis Hôtel Le Parc se trouve dans le village alsacien historique de Saint-Hippolyte. ', 48.23240406, 7.36546665)\n",
      "(121, 'Chateau du Haut Koenigsbourg', 'Chalet Les Prés', '9,3', 'https://www.booking.com/hotel/fr/chalet-les-pres.fr.html?aid=304142&label=gen173nr-1FCAEoggI46AdIM1gEaE2IAQGYAQm4ARfIAQ_YAQHoAQH4AQOIAgGoAgO4Atn-_7YG ... (130 characters truncated) ... dren=0&req_children=0&hpos=3&hapos=3&sr_order=popularity&srpvid=8fa539ad952d0be5&srepoch=1725955931&from_sustainable_property_sr=1&from=searchresults', 'Offrant une vue sur son jardin, le Chalet Les Prés est situé à Neubois, à 28 km de Colmar Expo et à 31 km de la Maison des Têtes. ', 48.30668606, 7.34107822)\n",
      "(122, 'Chateau du Haut Koenigsbourg', 'Gîte \"AU CADRAN SOLAIRE\"', '8,8', 'https://www.booking.com/hotel/fr/gite-au-cadran-solaire.fr.html?aid=304142&label=gen173nr-1FCAEoggI46AdIM1gEaE2IAQGYAQm4ARfIAQ_YAQHoAQH4AQOIAgGoAgO4A ... (137 characters truncated) ... dren=0&req_children=0&hpos=4&hapos=4&sr_order=popularity&srpvid=8fa539ad952d0be5&srepoch=1725955931&from_sustainable_property_sr=1&from=searchresults', 'Offrant une vue sur la ville, le Gîte \"AU CADRAN SOLAIRE\" est un hébergement situé à Triembach-au-Val, à 20 km du château du Haut Koenigsbourg et à 31 km du parc des expositions Colmar Expo. ', 48.3382457, 7.3252449)\n",
      "(123, 'Chateau du Haut Koenigsbourg', 'Domaine du Haut-Koenigsbourg', '8,6', 'https://www.booking.com/hotel/fr/les-chambres-du-haut-koenigsbourg.fr.html?aid=304142&label=gen173nr-1FCAEoggI46AdIM1gEaE2IAQGYAQm4ARfIAQ_YAQHoAQH4AQ ... (117 characters truncated) ... _adults=2&no_rooms=1&group_children=0&req_children=0&hpos=1&hapos=1&sr_order=popularity&srpvid=8fa539ad952d0be5&srepoch=1725955931&from=searchresults', 'Le Domaine du Haut-Koenigsbourg est situé à Orschwiller, à 23 km de Colmar Expo, à 26 km de la Maison des Têtes et de la collégiale Saint-Martin. ', 48.2470228, 7.34632093)\n",
      "(124, 'Chateau du Haut Koenigsbourg', 'Gîte Binnert Bader', '9,2', 'https://www.booking.com/hotel/fr/au-muenchberg.fr.html?aid=304142&label=gen173nr-1FCAEoggI46AdIM1gEaE2IAQGYAQm4ARfIAQ_YAQHoAQH4AQOIAgGoAgO4Atn-_7YGwA ... (97 characters truncated) ... _adults=2&no_rooms=1&group_children=0&req_children=0&hpos=2&hapos=2&sr_order=popularity&srpvid=8fa539ad952d0be5&srepoch=1725955931&from=searchresults', 'Situé dans la région viticole du Bas-Rhin, le Gîte Binnert Bader propose une terrasse et des chambres insonorisées. Cette maison de vacances se trouve à 15 km de la gare de Sélestat. ', 48.35583553, 7.42061555)\n"
     ]
    }
   ],
   "source": [
    "from sqlalchemy import text\n",
    "\n",
    "# Exemple : lire une table depuis la base SQL avec text()\n",
    "with engine.connect() as connection:\n",
    "    result = connection.execute(text(\"SELECT * FROM hotel_infos\"))\n",
    "    for row in result:\n",
    "        print(row)\n"
   ]
  },
  {
   "cell_type": "code",
   "execution_count": null,
   "metadata": {},
   "outputs": [],
   "source": [
    "import sqlite3\n",
    "\n",
    "# Connexion à la base de données SQLite\n",
    "conn = sqlite3.connect('my_database.db')\n",
    "\n",
    "# Chemin du fichier de dump SQL\n",
    "with open('dump.sql', 'w') as f:\n",
    "    # Créer un dump de toute la base de données\n",
    "    for line in conn.iterdump():\n",
    "        f.write(f'{line}\\n')\n",
    "\n",
    "conn.close()\n"
   ]
  },
  {
   "cell_type": "code",
   "execution_count": null,
   "metadata": {},
   "outputs": [],
   "source": [
    "# Connexion à la base de données SQLite\n",
    "conn = sqlite3.connect('my_database.db')\n",
    "\n",
    "# Exporter uniquement les tables 'top_5city' et 'hotel_infos'\n",
    "with open('dump_top_5_city_hotel_infos.sql', 'w') as f:\n",
    "    for line in conn.iterdump():\n",
    "        if 'CREATE TABLE top_5city' in line or 'CREATE TABLE hotel_infos' in line:\n",
    "            f.write(f'{line}\\n')\n",
    "        elif 'INSERT INTO \"top_5city\"' in line or 'INSERT INTO \"hotel_infos\"' in line:\n",
    "            f.write(f'{line}\\n')\n",
    "\n",
    "conn.close()\n"
   ]
  }
 ],
 "metadata": {
  "kernelspec": {
   "display_name": "base",
   "language": "python",
   "name": "python3"
  },
  "language_info": {
   "codemirror_mode": {
    "name": "ipython",
    "version": 3
   },
   "file_extension": ".py",
   "mimetype": "text/x-python",
   "name": "python",
   "nbconvert_exporter": "python",
   "pygments_lexer": "ipython3",
   "version": "3.12.2"
  }
 },
 "nbformat": 4,
 "nbformat_minor": 2
}
